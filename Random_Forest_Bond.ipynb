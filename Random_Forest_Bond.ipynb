{
 "cells": [
  {
   "cell_type": "code",
   "execution_count": 1,
   "metadata": {
    "colab_type": "text",
    "id": "view-in-github"
   },
   "outputs": [
    {
     "ename": "SyntaxError",
     "evalue": "invalid syntax (<ipython-input-1-197c82ab713e>, line 1)",
     "output_type": "error",
     "traceback": [
      "\u001b[0;36m  File \u001b[0;32m\"<ipython-input-1-197c82ab713e>\"\u001b[0;36m, line \u001b[0;32m1\u001b[0m\n\u001b[0;31m    <a href=\"https://colab.research.google.com/github/saponew/James-Bond/blob/main/Random_Forest_Bond.ipynb\" target=\"_parent\"><img src=\"https://colab.research.google.com/assets/colab-badge.svg\" alt=\"Open In Colab\"/></a>\u001b[0m\n\u001b[0m    ^\u001b[0m\n\u001b[0;31mSyntaxError\u001b[0m\u001b[0;31m:\u001b[0m invalid syntax\n"
     ]
    }
   ],
   "source": [
    "<a href=\"https://colab.research.google.com/github/saponew/James-Bond/blob/main/Random_Forest_Bond.ipynb\" target=\"_parent\"><img src=\"https://colab.research.google.com/assets/colab-badge.svg\" alt=\"Open In Colab\"/></a>"
   ]
  },
  {
   "cell_type": "code",
   "execution_count": null,
   "metadata": {
    "id": "sE3e7R-k_rLF"
   },
   "outputs": [],
   "source": [
    "import pandas as pd\n",
    "import numpy as np\n",
    "from pathlib import Path\n",
    "%matplotlib inline"
   ]
  },
  {
   "cell_type": "code",
   "execution_count": null,
   "metadata": {
    "colab": {
     "base_uri": "https://localhost:8080/"
    },
    "id": "wzQxWrY0pJQR",
    "outputId": "e71ae63b-8dc2-43ea-c67d-b23036076617"
   },
   "outputs": [],
   "source": [
    "import matplotlib.pyplot as plt\n",
    "from joblib import dump, load\n",
    "from sklearn.ensemble import RandomForestClassifier\n",
    "from sklearn.datasets import make_classification\n",
    "from sklearn.model_selection import train_test_split\n",
    "from sklearn.metrics import confusion_matrix, accuracy_score, classification_report, balanced_accuracy_score\n",
    "from sklearn.preprocessing import StandardScaler\n",
    "from collections import Counter\n",
    "from imblearn.over_sampling import RandomOverSampler, SMOTE\n",
    "from imblearn.metrics import classification_report_imbalanced\n",
    "from imblearn.combine import SMOTEENN\n",
    "from imblearn.ensemble import BalancedRandomForestClassifier"
   ]
  },
  {
   "cell_type": "code",
   "execution_count": null,
   "metadata": {
    "colab": {
     "base_uri": "https://localhost:8080/",
     "height": 906
    },
    "id": "Pn9sQyRcpK5Y",
    "outputId": "04b403a8-dfec-47a9-d852-bd20b185f1ab"
   },
   "outputs": [],
   "source": [
    "# Set path to CSV\n",
    "data = Path('/content/drive/MyDrive/Project 2/Data/Data tables/all_cusips_core_rating_shifted_df_v4_MACRO_FINAL.csv')\n",
    "df = pd.read_csv(data)\n",
    "print(df.info)\n",
    "print(df.columns)\n",
    "df.head(10)"
   ]
  },
  {
   "cell_type": "code",
   "execution_count": null,
   "metadata": {
    "colab": {
     "base_uri": "https://localhost:8080/"
    },
    "id": "9zdRJRU702DP",
    "outputId": "75afb935-5d03-49ac-8610-9ad4bbaf795f"
   },
   "outputs": [],
   "source": [
    "from google.colab import drive\n",
    "drive.mount('/content/drive')"
   ]
  },
  {
   "cell_type": "code",
   "execution_count": null,
   "metadata": {
    "colab": {
     "base_uri": "https://localhost:8080/",
     "height": 547
    },
    "id": "ZuM-X11MpWEd",
    "outputId": "6b0c2a89-4038-47ea-88f1-9892de2acb97"
   },
   "outputs": [],
   "source": [
    "# data wrangling: drop NaN, cap timedelta @60\n",
    "df_final = df.drop(['Unnamed: 0', 'Unnamed: 0.1'], axis=1)\n",
    "df_final.dropna(inplace=True)\n",
    "df_final = df_final.loc[df_final['timedelta'] <= 60]\n",
    "\n",
    "print(df_final.info)\n",
    "df_final.head()"
   ]
  },
  {
   "cell_type": "code",
   "execution_count": null,
   "metadata": {
    "colab": {
     "base_uri": "https://localhost:8080/",
     "height": 224
    },
    "id": "cpkzitoEptH6",
    "outputId": "17fe56ed-c1ac-4994-b983-c6d4f43a2011"
   },
   "outputs": [],
   "source": [
    "# Set x variable list of features\n",
    "x_var_list = ['siccode_fundamentals', 'revenueusd', 'ebitdausd',\n",
    "       'ebitdamargin', 'netinccmnusd', 'netmargin', 'cashnequsd',\n",
    "       'workingcapital', 'debtusd', 'liabilities', 'equityusd', 'marketcap',\n",
    "       'ev', 'fcf', 'ncfdebt', 'currentratio', 'de', 'divyield', 'epsusd',\n",
    "       'payoutratio', 'evebitda', 'pb', 'pe', 'close_edi', 'coupon_x',\n",
    "       'percent_fred_macro_yc_30_yr',\n",
    "       'percent_fred_macro_yc_3_mo', 'percentchange_fred_macro_gdp',\n",
    "       'dollars_fred_crude_oil_prices',\n",
    "       'percent_fred_five_year_breakeven_inflation', 'index_fred_macro_vix', 'maturity_year']\n",
    "\n",
    "# Filter by x-variable list\n",
    "df_final[x_var_list].tail()"
   ]
  },
  {
   "cell_type": "code",
   "execution_count": null,
   "metadata": {
    "colab": {
     "base_uri": "https://localhost:8080/"
    },
    "id": "wkfZMiyCpucJ",
    "outputId": "6e8bbc2e-7903-41a9-89f6-c65994c5544e"
   },
   "outputs": [],
   "source": [
    "X = df_final[x_var_list]\n",
    "y = df_final['rank_change']\n",
    "\n",
    "X['coupon_x'].replace('%', '', regex=True, inplace=True)\n",
    "X['coupon_x'] = X['coupon_x'].astype('float') / 100\n",
    "\n",
    "# np.unique(y, return_counts = True)\n",
    "Counter(y)"
   ]
  },
  {
   "cell_type": "code",
   "execution_count": null,
   "metadata": {
    "id": "Uao5cVm-qTZD"
   },
   "outputs": [],
   "source": [
    "# convert y to array\n",
    "# y = df_final['rank_diff'].values.reshape(-1, 1)"
   ]
  },
  {
   "cell_type": "code",
   "execution_count": null,
   "metadata": {
    "id": "MAMCo7dBqjXo"
   },
   "outputs": [],
   "source": [
    "# train-test split\n",
    "X_train, X_test, y_train, y_test = train_test_split(X, y, shuffle=True, random_state=78)"
   ]
  },
  {
   "cell_type": "code",
   "execution_count": null,
   "metadata": {
    "colab": {
     "base_uri": "https://localhost:8080/"
    },
    "id": "UCU2758KwZ7v",
    "outputId": "610c383b-8f06-4bf8-b8d5-49ab198ed198"
   },
   "outputs": [],
   "source": [
    "np.unique(y_train, return_counts = True)"
   ]
  },
  {
   "cell_type": "code",
   "execution_count": null,
   "metadata": {
    "colab": {
     "base_uri": "https://localhost:8080/"
    },
    "id": "L8UTKrZDuT33",
    "outputId": "67e6aee8-cb05-4967-a0ad-af922a4ce41c"
   },
   "outputs": [],
   "source": [
    "y_test[:10]"
   ]
  },
  {
   "cell_type": "code",
   "execution_count": null,
   "metadata": {
    "id": "XRX3qjJJ6zCV"
   },
   "outputs": [],
   "source": [
    "# Creating the scaler instance\n",
    "scaler = StandardScaler()\n",
    "\n",
    "# Fitting the scaler\n",
    "scaler.fit(X_train)\n",
    "\n",
    "# Transforming the data\n",
    "X_train_scaled = scaler.transform(X_train)\n",
    "X_test_scaled = scaler.transform(X_test)"
   ]
  },
  {
   "cell_type": "code",
   "execution_count": null,
   "metadata": {
    "colab": {
     "base_uri": "https://localhost:8080/"
    },
    "id": "0Zw34d2_qkUA",
    "outputId": "b9a1e6a7-448f-47d3-d6e1-333a979a841f"
   },
   "outputs": [],
   "source": [
    "# Create a random forest classifier\n",
    "rf_model = RandomForestClassifier(n_estimators= (int(len(x_var_list)/3)), max_depth=3, max_samples = None, random_state=0)\n",
    "\n",
    "# Fit the model\n",
    "rf_model = rf_model.fit(X_train_scaled, y_train)\n",
    "\n",
    "# Make a prediction of \"y\" values from the X_test dataset\n",
    "predictions = rf_model.predict(X_test_scaled)\n",
    "print(np.unique(predictions))\n",
    "print(np.unique(y_test))\n",
    "\n",
    "# Assemble actual y data (Y_test) with predicted y data (from just above) into two columns in a dataframe:\n",
    "# Results = y_test.to_frame()\n",
    "# Results[\"Predicted Value\"] = predictions\n",
    "# Results"
   ]
  },
  {
   "cell_type": "code",
   "execution_count": null,
   "metadata": {
    "id": "R2l73PnIskJj"
   },
   "outputs": [],
   "source": [
    "# Calculating the confusion matrix\n",
    "cm = confusion_matrix(y_test, predictions)\n",
    "cm_df = pd.DataFrame(\n",
    "    cm, index=[\"Actual 1\",\"Actual 2\", \"Actual 3\"], \n",
    "               columns=[\"Predicted 1\",\"Predicted 2\", \"Predicted 3\"])\n",
    "\n",
    "# cm_df = pd.DataFrame(\n",
    "#     cm, index=[\"Actual 1\",\"Actual 2\", \"Actual 3\", \"Actual 4\", \"Actual 5\", \"Actual 6\", \"Actual 7\",\n",
    "#                \"Actual 8\", \"Actual 9\", \"Actual 10\", \"Actual 11\", \"Actual 12\", \"Actual 13\",\"Actual 14\",\"Actual 15\", \"Actual 16\",\n",
    "#                \"Actual 17\", \"Actual 18\", \"Actual 19\"], \n",
    "#                columns=[\"Predicted 1\",\"Predicted 2\", \"Predicted 3\", \"Predicted 4\", \"Predicted 5\", \"Predicted 6\", \n",
    "#                         \"Predicted 7\", \"Predicted 8\", \"Predicted 9\", \"Predicted 10\", \"Predicted 11\", \"Predicted 12\", \"Predicted 13\",\n",
    "#                         \"Predicted 14\",\"Predicted 15\", \"Predicted 16\", \"Predicted 17\", \"Predicted 18\", \"Predicted 19\"])\n",
    "\n",
    "# Calculating the accuracy score\n",
    "acc_score = accuracy_score(y_test, predictions)"
   ]
  },
  {
   "cell_type": "code",
   "execution_count": null,
   "metadata": {
    "colab": {
     "base_uri": "https://localhost:8080/",
     "height": 417
    },
    "id": "jEj4V9e6s305",
    "outputId": "76492458-1e17-4a5f-971e-43c7ac815956"
   },
   "outputs": [],
   "source": [
    "# Displaying results\n",
    "print(\"Confusion Matrix\")\n",
    "display(cm_df)\n",
    "print(f\"Accuracy Score : {acc_score}\")\n",
    "print(\"Classification Report\")\n",
    "print(classification_report(y_test, predictions))"
   ]
  },
  {
   "cell_type": "code",
   "execution_count": null,
   "metadata": {
    "colab": {
     "base_uri": "https://localhost:8080/"
    },
    "id": "bCqPDjJy4Vfh",
    "outputId": "d4b87935-1a42-4160-f18d-3a5167e0fe68"
   },
   "outputs": [],
   "source": [
    "print(\"Balanced accuracy score: %.4f\" % balanced_accuracy_score(y_test, predictions))"
   ]
  },
  {
   "cell_type": "code",
   "execution_count": null,
   "metadata": {
    "colab": {
     "base_uri": "https://localhost:8080/"
    },
    "id": "whntprR47E6S",
    "outputId": "d38f96a7-daf3-4e21-9f01-0ea174163724"
   },
   "outputs": [],
   "source": [
    "# Print the imbalanced classification report\n",
    "print('Classification Report Imbalanced')\n",
    "print(classification_report_imbalanced(y_test, predictions))"
   ]
  },
  {
   "cell_type": "code",
   "execution_count": null,
   "metadata": {
    "id": "Bb4ub-tms6NN"
   },
   "outputs": [],
   "source": [
    "# Get the feature importance array\n",
    "importances = rf_model.feature_importances_"
   ]
  },
  {
   "cell_type": "code",
   "execution_count": null,
   "metadata": {
    "colab": {
     "base_uri": "https://localhost:8080/"
    },
    "id": "OeqkilpYs9D9",
    "outputId": "8f3ece3b-f56e-46eb-dcbd-b2c371466d48"
   },
   "outputs": [],
   "source": [
    "# List the top 10 most important features\n",
    "importances_sorted = sorted(zip(rf_model.feature_importances_, X.columns), reverse=True)\n",
    "importances_sorted[:10]"
   ]
  },
  {
   "cell_type": "code",
   "execution_count": null,
   "metadata": {
    "colab": {
     "base_uri": "https://localhost:8080/",
     "height": 298
    },
    "id": "qMhGO_L-tIrT",
    "outputId": "089b8245-36f9-4eeb-d616-5c466107ba59"
   },
   "outputs": [],
   "source": [
    "# Visualize the features by importance\n",
    "importances_df = pd.DataFrame(sorted(zip(rf_model.feature_importances_, X.columns), reverse=True))\n",
    "importances_df.set_index(importances_df[1], inplace=True)\n",
    "importances_df.drop(columns=1, inplace=True)\n",
    "importances_df.rename(columns={0: 'Feature Importances'}, inplace=True)\n",
    "importances_sorted = importances_df.sort_values(by='Feature Importances')\n",
    "importances_sorted.plot(kind='barh', color='lightgreen', title= 'Features Importances', legend=False)"
   ]
  },
  {
   "cell_type": "code",
   "execution_count": null,
   "metadata": {
    "id": "Qf2AMXkk24mb"
   },
   "outputs": [],
   "source": [
    "importances_sorted.to_csv('/content/drive/MyDrive/Project 2/Data/Data tables/smote_rf_importance_df.csv')"
   ]
  },
  {
   "cell_type": "code",
   "execution_count": null,
   "metadata": {
    "colab": {
     "base_uri": "https://localhost:8080/"
    },
    "id": "n5RxkPLO-gar",
    "outputId": "51345e4b-a914-4581-bcfc-92061e898f47"
   },
   "outputs": [],
   "source": [
    "# RANDOM OVERSAMPLING\n",
    "ros = RandomOverSampler(random_state=1)\n",
    "X_resampled, y_resampled = ros.fit_resample(X_train_scaled, y_train)\n",
    "Counter(y_resampled)"
   ]
  },
  {
   "cell_type": "code",
   "execution_count": null,
   "metadata": {
    "id": "UCh3Fe6jEYm9"
   },
   "outputs": [],
   "source": [
    "# Create a random forest classifier\n",
    "rf_ro_model = RandomForestClassifier(n_estimators=100, max_depth=3, random_state=0)\n",
    "\n",
    "# Fit the model\n",
    "rf_ro_model = rf_ro_model.fit(X_resampled, y_resampled)\n",
    "\n",
    "# Make a prediction of \"y\" values from the X_test dataset\n",
    "predictions = rf_ro_model.predict(X_test_scaled)"
   ]
  },
  {
   "cell_type": "code",
   "execution_count": null,
   "metadata": {
    "colab": {
     "base_uri": "https://localhost:8080/"
    },
    "id": "Ia8PziGeFPdi",
    "outputId": "6cb6ea78-ea00-4713-a449-e093b0ac5a56"
   },
   "outputs": [],
   "source": [
    "# Display the confusion matrix\n",
    "y_pred = rf_ro_model.predict(X_test_scaled)\n",
    "confusion_matrix(y_test, y_pred)"
   ]
  },
  {
   "cell_type": "code",
   "execution_count": null,
   "metadata": {
    "colab": {
     "base_uri": "https://localhost:8080/"
    },
    "id": "_eAMhNYXFwiE",
    "outputId": "861fe5a2-5bb6-493f-d6b8-71e003c1652f"
   },
   "outputs": [],
   "source": [
    "balanced_accuracy_score(y_test, y_pred)"
   ]
  },
  {
   "cell_type": "code",
   "execution_count": null,
   "metadata": {
    "colab": {
     "base_uri": "https://localhost:8080/"
    },
    "id": "hPjZFiG2F2I6",
    "outputId": "3bbd1a87-cbd4-44f7-e7f5-ced6edf9e49a"
   },
   "outputs": [],
   "source": [
    "# Print the imbalanced classification report\n",
    "print(classification_report_imbalanced(y_test, y_pred))"
   ]
  },
  {
   "cell_type": "code",
   "execution_count": null,
   "metadata": {
    "id": "auEJ67VKL_qe"
   },
   "outputs": [],
   "source": [
    "# Get the feature importance array\n",
    "importances = rf_ro_model.feature_importances_"
   ]
  },
  {
   "cell_type": "code",
   "execution_count": null,
   "metadata": {
    "colab": {
     "base_uri": "https://localhost:8080/"
    },
    "id": "JnfVcpy4MEjU",
    "outputId": "cc23a00d-f3e7-4304-f06f-289009652a3b"
   },
   "outputs": [],
   "source": [
    "# List the top 10 most important features\n",
    "importances_sorted = sorted(zip(rf_ro_model.feature_importances_, X.columns), reverse=True)\n",
    "importances_sorted[:10]"
   ]
  },
  {
   "cell_type": "code",
   "execution_count": null,
   "metadata": {
    "colab": {
     "base_uri": "https://localhost:8080/",
     "height": 298
    },
    "id": "NzV7_Ln3MTx5",
    "outputId": "5ca10e66-c582-4e32-81d6-05abb4defdb2"
   },
   "outputs": [],
   "source": [
    "# Visualize the features by importance\n",
    "importances_df = pd.DataFrame(sorted(zip(rf_ro_model.feature_importances_, X.columns), reverse=True))\n",
    "importances_df.set_index(importances_df[1], inplace=True)\n",
    "importances_df.drop(columns=1, inplace=True)\n",
    "importances_df.rename(columns={0: 'Feature Importances'}, inplace=True)\n",
    "importances_sorted = importances_df.sort_values(by='Feature Importances')\n",
    "importances_sorted.plot(kind='barh', color='lightgreen', title= 'Features Importances', legend=False)"
   ]
  },
  {
   "cell_type": "code",
   "execution_count": null,
   "metadata": {
    "id": "frl0fNwmO6G7"
   },
   "outputs": [],
   "source": [
    "# PRECISION RECALL CURVE"
   ]
  },
  {
   "cell_type": "code",
   "execution_count": null,
   "metadata": {
    "id": "buCeVqwlO9Qz"
   },
   "outputs": [],
   "source": [
    "from sklearn.metrics import precision_recall_curve\n",
    "\n",
    "probs_lr = rf_model.predict_proba(X_test)[:, 1]\n",
    "probs_rf = rf_ro_model.predict_proba(X_test)[:, 1]\n",
    "precision_lr, recall_lr, _ = precision_recall_curve(y_test, probs_lr, pos_label=1)\n",
    "precision_rf, recall_rf, _ = precision_recall_curve(y_test, probs_rf, pos_label=1)"
   ]
  },
  {
   "cell_type": "code",
   "execution_count": null,
   "metadata": {
    "colab": {
     "base_uri": "https://localhost:8080/",
     "height": 282
    },
    "id": "IToRio6lPpGr",
    "outputId": "0ec7236d-829c-40f3-c754-1d56642edc96"
   },
   "outputs": [],
   "source": [
    "plt.plot(recall_lr, precision_lr, marker='.')\n",
    "plt.plot(recall_rf, precision_rf, marker='x')"
   ]
  },
  {
   "cell_type": "code",
   "execution_count": null,
   "metadata": {
    "colab": {
     "base_uri": "https://localhost:8080/"
    },
    "id": "eVNHJkW1GAo5",
    "outputId": "ececc5dd-cec6-497f-d98a-6b1cc7c540d9"
   },
   "outputs": [],
   "source": [
    "# SMOTE OVERSAMPLING\n",
    "X_resampled, y_resampled = SMOTE(random_state=1, sampling_strategy= {-1:10000, 0:10000, 1:10000}).fit_resample(\n",
    "    X_train_scaled, y_train)\n",
    "\n",
    "Counter(y_resampled)"
   ]
  },
  {
   "cell_type": "code",
   "execution_count": null,
   "metadata": {
    "id": "TIyaFfTzGpO7"
   },
   "outputs": [],
   "source": [
    "# Create a random forest classifier\n",
    "rf_model_SM = RandomForestClassifier(n_estimators=100, max_depth=3, random_state=0)\n",
    "\n",
    "# Fit the model\n",
    "rf_model_SM = rf_model_SM.fit(X_resampled, y_resampled)\n",
    "\n",
    "# Make a prediction of \"y\" values from the X_test dataset\n",
    "predictions = rf_model_SM.predict(X_test_scaled)"
   ]
  },
  {
   "cell_type": "code",
   "execution_count": null,
   "metadata": {
    "colab": {
     "base_uri": "https://localhost:8080/"
    },
    "id": "CqctQImuGu-o",
    "outputId": "8c462595-6242-4271-b23a-85cf6f577384"
   },
   "outputs": [],
   "source": [
    "# Display the confusion matrix\n",
    "y_pred = rf_model_SM.predict(X_test_scaled)\n",
    "confusion_matrix(y_test, y_pred)"
   ]
  },
  {
   "cell_type": "code",
   "execution_count": null,
   "metadata": {
    "colab": {
     "base_uri": "https://localhost:8080/"
    },
    "id": "7xVqF2nkG50u",
    "outputId": "550b75b7-8479-431b-c679-53e23e5a4eb5"
   },
   "outputs": [],
   "source": [
    "# Balanced accuracy score\n",
    "balanced_accuracy_score(y_test, y_pred)"
   ]
  },
  {
   "cell_type": "code",
   "execution_count": null,
   "metadata": {
    "colab": {
     "base_uri": "https://localhost:8080/"
    },
    "id": "Mib_U_bDG_Fd",
    "outputId": "7c4f8840-4351-4716-a970-76c2f69cfe28"
   },
   "outputs": [],
   "source": [
    "# Print the imbalanced classification report\n",
    "print(classification_report_imbalanced(y_test, y_pred))"
   ]
  },
  {
   "cell_type": "code",
   "execution_count": null,
   "metadata": {
    "colab": {
     "base_uri": "https://localhost:8080/"
    },
    "id": "KYD0fqCiHGBs",
    "outputId": "d1cb60a3-dae5-4cb6-f349-13b6e01c26e7"
   },
   "outputs": [],
   "source": [
    "#SMOTEENN combination sampling\n",
    "sm = SMOTEENN(random_state=1)\n",
    "X_resampled, y_resampled = sm.fit_resample(X_train_scaled, y_train)\n",
    "Counter(y_resampled)"
   ]
  },
  {
   "cell_type": "code",
   "execution_count": null,
   "metadata": {
    "id": "6RDgBDL9H-Kz"
   },
   "outputs": [],
   "source": [
    "# Create a random forest classifier\n",
    "rf_model_SO = RandomForestClassifier(n_estimators=100, max_depth=3, random_state=0)\n",
    "\n",
    "# Fit the model\n",
    "rf_model_SO = rf_model_SO.fit(X_resampled, y_resampled)\n",
    "\n",
    "# Make a prediction of \"y\" values from the X_test dataset\n",
    "predictions = rf_model_SO.predict(X_test_scaled)"
   ]
  },
  {
   "cell_type": "code",
   "execution_count": null,
   "metadata": {
    "colab": {
     "base_uri": "https://localhost:8080/"
    },
    "id": "WaNuVqYhH--B",
    "outputId": "4702abdc-7bfa-4627-b9f5-3474ffe2d1f6"
   },
   "outputs": [],
   "source": [
    "# Display the confusion matrix\n",
    "y_pred = rf_model_SO.predict(X_test_scaled)\n",
    "confusion_matrix(y_test, y_pred)"
   ]
  },
  {
   "cell_type": "code",
   "execution_count": null,
   "metadata": {
    "colab": {
     "base_uri": "https://localhost:8080/"
    },
    "id": "8rG8s7VxIBIx",
    "outputId": "f3e535ef-6a6e-42d9-998b-5850916ab59b"
   },
   "outputs": [],
   "source": [
    "# Balanced accuracy score\n",
    "balanced_accuracy_score(y_test, y_pred)"
   ]
  },
  {
   "cell_type": "code",
   "execution_count": null,
   "metadata": {
    "colab": {
     "base_uri": "https://localhost:8080/"
    },
    "id": "puB-fr2kIEHo",
    "outputId": "caad76aa-7cc3-4473-ceed-ff7d18f072a3"
   },
   "outputs": [],
   "source": [
    "# Print the imbalanced classification report\n",
    "print(classification_report_imbalanced(y_test, y_pred))"
   ]
  },
  {
   "cell_type": "code",
   "execution_count": null,
   "metadata": {
    "id": "ctN4qnyUNzr4"
   },
   "outputs": [],
   "source": [
    "# BALANCED RANDOM FOREST CLASSIFIER"
   ]
  },
  {
   "cell_type": "code",
   "execution_count": null,
   "metadata": {
    "colab": {
     "base_uri": "https://localhost:8080/",
     "height": 429
    },
    "id": "CulAzdAuN3Lv",
    "outputId": "931134c0-f3cb-47c5-edb6-5e87fd5dbe37"
   },
   "outputs": [],
   "source": [
    "brf = BalancedRandomForestClassifier(n_estimators=200, max_depth = 10, random_state=0)\n",
    "brf.fit(X_train_scaled, y_train)"
   ]
  },
  {
   "cell_type": "code",
   "execution_count": null,
   "metadata": {
    "id": "TBnYyV3VOmgv"
   },
   "outputs": [],
   "source": [
    "y_pred_rf = brf.predict(X_test)"
   ]
  }
 ],
 "metadata": {
  "colab": {
   "include_colab_link": true,
   "name": "Random Forest Bond.ipynb",
   "provenance": []
  },
  "kernelspec": {
   "display_name": "Python 3",
   "language": "python",
   "name": "python3"
  },
  "language_info": {
   "codemirror_mode": {
    "name": "ipython",
    "version": 3
   },
   "file_extension": ".py",
   "mimetype": "text/x-python",
   "name": "python",
   "nbconvert_exporter": "python",
   "pygments_lexer": "ipython3",
   "version": "3.7.9"
  }
 },
 "nbformat": 4,
 "nbformat_minor": 4
}
