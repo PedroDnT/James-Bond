{
  "nbformat": 4,
  "nbformat_minor": 0,
  "metadata": {
    "colab": {
      "name": "Random Forest Bond.ipynb",
      "provenance": [],
      "include_colab_link": true
    },
    "kernelspec": {
      "display_name": "Python 3",
      "name": "python3"
    },
    "language_info": {
      "name": "python"
    }
  },
  "cells": [
    {
      "cell_type": "markdown",
      "metadata": {
        "id": "view-in-github",
        "colab_type": "text"
      },
      "source": [
        "<a href=\"https://colab.research.google.com/github/saponew/James-Bond/blob/main/Random_Forest_Bond.ipynb\" target=\"_parent\"><img src=\"https://colab.research.google.com/assets/colab-badge.svg\" alt=\"Open In Colab\"/></a>"
      ]
    },
    {
      "cell_type": "code",
      "metadata": {
        "id": "sE3e7R-k_rLF"
      },
      "source": [
        "import pandas as pd\n",
        "import numpy as np\n",
        "from pathlib import Path\n",
        "%matplotlib inline"
      ],
      "execution_count": 1,
      "outputs": []
    },
    {
      "cell_type": "code",
      "metadata": {
        "id": "wzQxWrY0pJQR",
        "colab": {
          "base_uri": "https://localhost:8080/"
        },
        "outputId": "e71ae63b-8dc2-43ea-c67d-b23036076617"
      },
      "source": [
        "import matplotlib.pyplot as plt\n",
        "from joblib import dump, load\n",
        "from sklearn.ensemble import RandomForestClassifier\n",
        "from sklearn.datasets import make_classification\n",
        "from sklearn.model_selection import train_test_split\n",
        "from sklearn.metrics import confusion_matrix, accuracy_score, classification_report, balanced_accuracy_score\n",
        "from sklearn.preprocessing import StandardScaler\n",
        "from collections import Counter\n",
        "from imblearn.over_sampling import RandomOverSampler, SMOTE\n",
        "from imblearn.metrics import classification_report_imbalanced\n",
        "from imblearn.combine import SMOTEENN\n",
        "from imblearn.ensemble import BalancedRandomForestClassifier"
      ],
      "execution_count": 2,
      "outputs": [
        {
          "output_type": "stream",
          "text": [
            "/usr/local/lib/python3.7/dist-packages/sklearn/externals/six.py:31: FutureWarning: The module is deprecated in version 0.21 and will be removed in version 0.23 since we've dropped support for Python 2.7. Please rely on the official version of six (https://pypi.org/project/six/).\n",
            "  \"(https://pypi.org/project/six/).\", FutureWarning)\n",
            "/usr/local/lib/python3.7/dist-packages/sklearn/utils/deprecation.py:144: FutureWarning: The sklearn.neighbors.base module is  deprecated in version 0.22 and will be removed in version 0.24. The corresponding classes / functions should instead be imported from sklearn.neighbors. Anything that cannot be imported from sklearn.neighbors is now part of the private API.\n",
            "  warnings.warn(message, FutureWarning)\n",
            "/usr/local/lib/python3.7/dist-packages/sklearn/utils/deprecation.py:144: FutureWarning: The sklearn.metrics.classification module is  deprecated in version 0.22 and will be removed in version 0.24. The corresponding classes / functions should instead be imported from sklearn.metrics. Anything that cannot be imported from sklearn.metrics is now part of the private API.\n",
            "  warnings.warn(message, FutureWarning)\n",
            "/usr/local/lib/python3.7/dist-packages/sklearn/utils/deprecation.py:144: FutureWarning: The sklearn.ensemble.bagging module is  deprecated in version 0.22 and will be removed in version 0.24. The corresponding classes / functions should instead be imported from sklearn.ensemble. Anything that cannot be imported from sklearn.ensemble is now part of the private API.\n",
            "  warnings.warn(message, FutureWarning)\n",
            "/usr/local/lib/python3.7/dist-packages/sklearn/utils/deprecation.py:144: FutureWarning: The sklearn.ensemble.base module is  deprecated in version 0.22 and will be removed in version 0.24. The corresponding classes / functions should instead be imported from sklearn.ensemble. Anything that cannot be imported from sklearn.ensemble is now part of the private API.\n",
            "  warnings.warn(message, FutureWarning)\n",
            "/usr/local/lib/python3.7/dist-packages/sklearn/utils/deprecation.py:144: FutureWarning: The sklearn.ensemble.forest module is  deprecated in version 0.22 and will be removed in version 0.24. The corresponding classes / functions should instead be imported from sklearn.ensemble. Anything that cannot be imported from sklearn.ensemble is now part of the private API.\n",
            "  warnings.warn(message, FutureWarning)\n",
            "/usr/local/lib/python3.7/dist-packages/sklearn/externals/joblib/__init__.py:15: FutureWarning: sklearn.externals.joblib is deprecated in 0.21 and will be removed in 0.23. Please import this functionality directly from joblib, which can be installed with: pip install joblib. If this warning is raised when loading pickled models, you may need to re-serialize those models with scikit-learn 0.21+.\n",
            "  warnings.warn(msg, category=FutureWarning)\n"
          ],
          "name": "stderr"
        }
      ]
    },
    {
      "cell_type": "code",
      "metadata": {
        "colab": {
          "base_uri": "https://localhost:8080/",
          "height": 906
        },
        "id": "Pn9sQyRcpK5Y",
        "outputId": "04b403a8-dfec-47a9-d852-bd20b185f1ab"
      },
      "source": [
        "# Set path to CSV\n",
        "data = Path('/content/drive/MyDrive/Project 2/Data/Data tables/all_cusips_core_rating_shifted_df_v4_MACRO_FINAL.csv')\n",
        "df = pd.read_csv(data)\n",
        "print(df.info)\n",
        "print(df.columns)\n",
        "df.head(10)"
      ],
      "execution_count": 6,
      "outputs": [
        {
          "output_type": "stream",
          "text": [
            "<bound method DataFrame.info of        Unnamed: 0  ...  index_fred_macro_vix\n",
            "0               0  ...                 30.85\n",
            "1               1  ...                 25.02\n",
            "2               2  ...                 24.40\n",
            "3               3  ...                 23.43\n",
            "4               4  ...                 23.43\n",
            "...           ...  ...                   ...\n",
            "41043       41043  ...                 19.61\n",
            "41044       41044  ...                 19.61\n",
            "41045       41045  ...                 19.61\n",
            "41046       41046  ...                 19.61\n",
            "41047       41047  ...                 19.40\n",
            "\n",
            "[41048 rows x 60 columns]>\n",
            "Index(['Unnamed: 0', 'Unnamed: 0.1', 'date_fundamentals', 'cusip_company_part',\n",
            "       'siccode_fundamentals', 'ticker_fundamentals',\n",
            "       'company_name_fundamentals', 'revenueusd', 'ebitdausd', 'ebitdamargin',\n",
            "       'netinccmnusd', 'netmargin', 'cashnequsd', 'workingcapital', 'debtusd',\n",
            "       'liabilities', 'equityusd', 'marketcap', 'ev', 'fcf', 'ncfdebt',\n",
            "       'currentratio', 'de', 'divyield', 'epsusd', 'payoutratio', 'evebitda',\n",
            "       'pb', 'pe', 'isin', 'currency', 'close_edi', 'mktclosedate', 'secid',\n",
            "       'uscode', 'coupon_x', 'maturity_date', 'timedelta', 'cusip', 'maturity',\n",
            "       'rating', 'date', 'coupon_y', 'issuer_cusip', 'rank', 'timedelta_2',\n",
            "       'date_fundamentals_shifted', 'rating_shifted', 'rank_shifted',\n",
            "       'rank_diff', 'maturity_year', 'rank_change', 'rank_change_2',\n",
            "       'observed_date', 'percent_fred_macro_yc_30_yr',\n",
            "       'percent_fred_macro_yc_3_mo', 'percentchange_fred_macro_gdp',\n",
            "       'dollars_fred_crude_oil_prices',\n",
            "       'percent_fred_five_year_breakeven_inflation', 'index_fred_macro_vix'],\n",
            "      dtype='object')\n"
          ],
          "name": "stdout"
        },
        {
          "output_type": "execute_result",
          "data": {
            "text/html": [
              "<div>\n",
              "<style scoped>\n",
              "    .dataframe tbody tr th:only-of-type {\n",
              "        vertical-align: middle;\n",
              "    }\n",
              "\n",
              "    .dataframe tbody tr th {\n",
              "        vertical-align: top;\n",
              "    }\n",
              "\n",
              "    .dataframe thead th {\n",
              "        text-align: right;\n",
              "    }\n",
              "</style>\n",
              "<table border=\"1\" class=\"dataframe\">\n",
              "  <thead>\n",
              "    <tr style=\"text-align: right;\">\n",
              "      <th></th>\n",
              "      <th>Unnamed: 0</th>\n",
              "      <th>Unnamed: 0.1</th>\n",
              "      <th>date_fundamentals</th>\n",
              "      <th>cusip_company_part</th>\n",
              "      <th>siccode_fundamentals</th>\n",
              "      <th>ticker_fundamentals</th>\n",
              "      <th>company_name_fundamentals</th>\n",
              "      <th>revenueusd</th>\n",
              "      <th>ebitdausd</th>\n",
              "      <th>ebitdamargin</th>\n",
              "      <th>netinccmnusd</th>\n",
              "      <th>netmargin</th>\n",
              "      <th>cashnequsd</th>\n",
              "      <th>workingcapital</th>\n",
              "      <th>debtusd</th>\n",
              "      <th>liabilities</th>\n",
              "      <th>equityusd</th>\n",
              "      <th>marketcap</th>\n",
              "      <th>ev</th>\n",
              "      <th>fcf</th>\n",
              "      <th>ncfdebt</th>\n",
              "      <th>currentratio</th>\n",
              "      <th>de</th>\n",
              "      <th>divyield</th>\n",
              "      <th>epsusd</th>\n",
              "      <th>payoutratio</th>\n",
              "      <th>evebitda</th>\n",
              "      <th>pb</th>\n",
              "      <th>pe</th>\n",
              "      <th>isin</th>\n",
              "      <th>currency</th>\n",
              "      <th>close_edi</th>\n",
              "      <th>mktclosedate</th>\n",
              "      <th>secid</th>\n",
              "      <th>uscode</th>\n",
              "      <th>coupon_x</th>\n",
              "      <th>maturity_date</th>\n",
              "      <th>timedelta</th>\n",
              "      <th>cusip</th>\n",
              "      <th>maturity</th>\n",
              "      <th>rating</th>\n",
              "      <th>date</th>\n",
              "      <th>coupon_y</th>\n",
              "      <th>issuer_cusip</th>\n",
              "      <th>rank</th>\n",
              "      <th>timedelta_2</th>\n",
              "      <th>date_fundamentals_shifted</th>\n",
              "      <th>rating_shifted</th>\n",
              "      <th>rank_shifted</th>\n",
              "      <th>rank_diff</th>\n",
              "      <th>maturity_year</th>\n",
              "      <th>rank_change</th>\n",
              "      <th>rank_change_2</th>\n",
              "      <th>observed_date</th>\n",
              "      <th>percent_fred_macro_yc_30_yr</th>\n",
              "      <th>percent_fred_macro_yc_3_mo</th>\n",
              "      <th>percentchange_fred_macro_gdp</th>\n",
              "      <th>dollars_fred_crude_oil_prices</th>\n",
              "      <th>percent_fred_five_year_breakeven_inflation</th>\n",
              "      <th>index_fred_macro_vix</th>\n",
              "    </tr>\n",
              "  </thead>\n",
              "  <tbody>\n",
              "    <tr>\n",
              "      <th>0</th>\n",
              "      <td>0</td>\n",
              "      <td>0.0</td>\n",
              "      <td>2009-07-08</td>\n",
              "      <td>767754</td>\n",
              "      <td>5912</td>\n",
              "      <td>RAD</td>\n",
              "      <td>Rite Aid Corp</td>\n",
              "      <td>6.531178e+09</td>\n",
              "      <td>1.545970e+08</td>\n",
              "      <td>0.024</td>\n",
              "      <td>-98471000.0</td>\n",
              "      <td>-0.015</td>\n",
              "      <td>1.364590e+08</td>\n",
              "      <td>1.792586e+09</td>\n",
              "      <td>5.691324e+09</td>\n",
              "      <td>9.309811e+09</td>\n",
              "      <td>-1.290631e+09</td>\n",
              "      <td>1.159302e+09</td>\n",
              "      <td>6.714167e+09</td>\n",
              "      <td>315294016.0</td>\n",
              "      <td>-3.104920e+08</td>\n",
              "      <td>1.749</td>\n",
              "      <td>-7.213</td>\n",
              "      <td>0.000</td>\n",
              "      <td>-2.20</td>\n",
              "      <td>0.000</td>\n",
              "      <td>-4.539000</td>\n",
              "      <td>-0.898</td>\n",
              "      <td>-0.404</td>\n",
              "      <td>US767754AD64</td>\n",
              "      <td>USD</td>\n",
              "      <td>68.500</td>\n",
              "      <td>2009-06-19</td>\n",
              "      <td>681831.0</td>\n",
              "      <td>767754AD6</td>\n",
              "      <td>6.875%</td>\n",
              "      <td>2013-08-15</td>\n",
              "      <td>19</td>\n",
              "      <td>767754AD6</td>\n",
              "      <td>NaN</td>\n",
              "      <td>NaN</td>\n",
              "      <td>NaN</td>\n",
              "      <td>NaN</td>\n",
              "      <td>NaN</td>\n",
              "      <td>NaN</td>\n",
              "      <td>NaN</td>\n",
              "      <td>2010-01-06</td>\n",
              "      <td>NaN</td>\n",
              "      <td>NaN</td>\n",
              "      <td>NaN</td>\n",
              "      <td>4.107</td>\n",
              "      <td>NaN</td>\n",
              "      <td>NaN</td>\n",
              "      <td>2009-07-08</td>\n",
              "      <td>4.35</td>\n",
              "      <td>0.19</td>\n",
              "      <td>1.1</td>\n",
              "      <td>60.15</td>\n",
              "      <td>1.12</td>\n",
              "      <td>30.85</td>\n",
              "    </tr>\n",
              "    <tr>\n",
              "      <th>1</th>\n",
              "      <td>1</td>\n",
              "      <td>0.0</td>\n",
              "      <td>2009-07-15</td>\n",
              "      <td>001765</td>\n",
              "      <td>4512</td>\n",
              "      <td>AAMRQ</td>\n",
              "      <td>Amr Corp</td>\n",
              "      <td>4.889000e+09</td>\n",
              "      <td>-2.230000e+08</td>\n",
              "      <td>-0.046</td>\n",
              "      <td>-390000000.0</td>\n",
              "      <td>-0.080</td>\n",
              "      <td>6.510000e+08</td>\n",
              "      <td>-3.130000e+09</td>\n",
              "      <td>1.009200e+10</td>\n",
              "      <td>2.713800e+10</td>\n",
              "      <td>-3.000000e+09</td>\n",
              "      <td>1.220332e+09</td>\n",
              "      <td>1.066133e+10</td>\n",
              "      <td>48000000.0</td>\n",
              "      <td>-1.080000e+08</td>\n",
              "      <td>0.622</td>\n",
              "      <td>-9.046</td>\n",
              "      <td>0.000</td>\n",
              "      <td>-1.39</td>\n",
              "      <td>0.000</td>\n",
              "      <td>12.157000</td>\n",
              "      <td>-0.407</td>\n",
              "      <td>-1.151</td>\n",
              "      <td>US001765AU07</td>\n",
              "      <td>USD</td>\n",
              "      <td>64.000</td>\n",
              "      <td>2009-07-15</td>\n",
              "      <td>832734.0</td>\n",
              "      <td>001765AU0</td>\n",
              "      <td>9%</td>\n",
              "      <td>2012-08-01</td>\n",
              "      <td>0</td>\n",
              "      <td>001765AU0</td>\n",
              "      <td>NaN</td>\n",
              "      <td>NaN</td>\n",
              "      <td>NaN</td>\n",
              "      <td>NaN</td>\n",
              "      <td>NaN</td>\n",
              "      <td>NaN</td>\n",
              "      <td>NaN</td>\n",
              "      <td>2010-02-17</td>\n",
              "      <td>NaN</td>\n",
              "      <td>NaN</td>\n",
              "      <td>NaN</td>\n",
              "      <td>3.049</td>\n",
              "      <td>NaN</td>\n",
              "      <td>NaN</td>\n",
              "      <td>2009-07-15</td>\n",
              "      <td>4.25</td>\n",
              "      <td>0.18</td>\n",
              "      <td>1.1</td>\n",
              "      <td>61.49</td>\n",
              "      <td>1.27</td>\n",
              "      <td>25.02</td>\n",
              "    </tr>\n",
              "    <tr>\n",
              "      <th>2</th>\n",
              "      <td>2</td>\n",
              "      <td>0.0</td>\n",
              "      <td>2009-07-21</td>\n",
              "      <td>895953</td>\n",
              "      <td>5812</td>\n",
              "      <td>YUM</td>\n",
              "      <td>Yum Brands Inc</td>\n",
              "      <td>2.476000e+09</td>\n",
              "      <td>5.200000e+08</td>\n",
              "      <td>0.210</td>\n",
              "      <td>303000000.0</td>\n",
              "      <td>0.122</td>\n",
              "      <td>2.840000e+08</td>\n",
              "      <td>-4.810000e+08</td>\n",
              "      <td>3.548000e+09</td>\n",
              "      <td>6.367000e+09</td>\n",
              "      <td>4.760000e+08</td>\n",
              "      <td>1.557371e+10</td>\n",
              "      <td>1.883771e+10</td>\n",
              "      <td>6000000.0</td>\n",
              "      <td>9.000000e+06</td>\n",
              "      <td>0.690</td>\n",
              "      <td>13.376</td>\n",
              "      <td>0.023</td>\n",
              "      <td>0.65</td>\n",
              "      <td>0.292</td>\n",
              "      <td>9.145000</td>\n",
              "      <td>32.718</td>\n",
              "      <td>15.465</td>\n",
              "      <td>US895953AD96</td>\n",
              "      <td>USD</td>\n",
              "      <td>110.064</td>\n",
              "      <td>2009-07-21</td>\n",
              "      <td>682971.0</td>\n",
              "      <td>895953AD9</td>\n",
              "      <td>8.875%</td>\n",
              "      <td>2011-04-15</td>\n",
              "      <td>0</td>\n",
              "      <td>895953AD9</td>\n",
              "      <td>NaN</td>\n",
              "      <td>NaN</td>\n",
              "      <td>NaN</td>\n",
              "      <td>NaN</td>\n",
              "      <td>NaN</td>\n",
              "      <td>NaN</td>\n",
              "      <td>NaN</td>\n",
              "      <td>2010-02-17</td>\n",
              "      <td>NaN</td>\n",
              "      <td>NaN</td>\n",
              "      <td>NaN</td>\n",
              "      <td>1.734</td>\n",
              "      <td>NaN</td>\n",
              "      <td>NaN</td>\n",
              "      <td>2009-07-21</td>\n",
              "      <td>4.53</td>\n",
              "      <td>0.17</td>\n",
              "      <td>1.1</td>\n",
              "      <td>64.81</td>\n",
              "      <td>1.33</td>\n",
              "      <td>24.40</td>\n",
              "    </tr>\n",
              "    <tr>\n",
              "      <th>3</th>\n",
              "      <td>3</td>\n",
              "      <td>0.0</td>\n",
              "      <td>2009-07-24</td>\n",
              "      <td>693304</td>\n",
              "      <td>4931</td>\n",
              "      <td>EXC</td>\n",
              "      <td>Exelon Corp</td>\n",
              "      <td>4.141000e+09</td>\n",
              "      <td>1.898000e+09</td>\n",
              "      <td>0.458</td>\n",
              "      <td>657000000.0</td>\n",
              "      <td>0.159</td>\n",
              "      <td>1.884000e+09</td>\n",
              "      <td>1.659000e+09</td>\n",
              "      <td>1.288200e+10</td>\n",
              "      <td>3.673900e+10</td>\n",
              "      <td>1.215300e+10</td>\n",
              "      <td>3.588031e+10</td>\n",
              "      <td>4.687831e+10</td>\n",
              "      <td>365000000.0</td>\n",
              "      <td>-2.780000e+08</td>\n",
              "      <td>1.398</td>\n",
              "      <td>3.023</td>\n",
              "      <td>0.038</td>\n",
              "      <td>1.00</td>\n",
              "      <td>0.525</td>\n",
              "      <td>6.347000</td>\n",
              "      <td>2.952</td>\n",
              "      <td>12.925</td>\n",
              "      <td>US693304AB36</td>\n",
              "      <td>USD</td>\n",
              "      <td>108.312</td>\n",
              "      <td>2009-07-24</td>\n",
              "      <td>257507.0</td>\n",
              "      <td>693304AB3</td>\n",
              "      <td>5.95%</td>\n",
              "      <td>2011-11-01</td>\n",
              "      <td>0</td>\n",
              "      <td>693304AB3</td>\n",
              "      <td>NaN</td>\n",
              "      <td>NaN</td>\n",
              "      <td>NaN</td>\n",
              "      <td>NaN</td>\n",
              "      <td>NaN</td>\n",
              "      <td>NaN</td>\n",
              "      <td>NaN</td>\n",
              "      <td>2010-02-05</td>\n",
              "      <td>NaN</td>\n",
              "      <td>NaN</td>\n",
              "      <td>NaN</td>\n",
              "      <td>2.274</td>\n",
              "      <td>NaN</td>\n",
              "      <td>NaN</td>\n",
              "      <td>2009-07-24</td>\n",
              "      <td>4.45</td>\n",
              "      <td>0.19</td>\n",
              "      <td>1.1</td>\n",
              "      <td>66.96</td>\n",
              "      <td>1.39</td>\n",
              "      <td>23.43</td>\n",
              "    </tr>\n",
              "    <tr>\n",
              "      <th>4</th>\n",
              "      <td>4</td>\n",
              "      <td>0.0</td>\n",
              "      <td>2009-07-24</td>\n",
              "      <td>693304</td>\n",
              "      <td>4931</td>\n",
              "      <td>EXC</td>\n",
              "      <td>Exelon Corp</td>\n",
              "      <td>4.141000e+09</td>\n",
              "      <td>1.898000e+09</td>\n",
              "      <td>0.458</td>\n",
              "      <td>657000000.0</td>\n",
              "      <td>0.159</td>\n",
              "      <td>1.884000e+09</td>\n",
              "      <td>1.659000e+09</td>\n",
              "      <td>1.288200e+10</td>\n",
              "      <td>3.673900e+10</td>\n",
              "      <td>1.215300e+10</td>\n",
              "      <td>3.588031e+10</td>\n",
              "      <td>4.687831e+10</td>\n",
              "      <td>365000000.0</td>\n",
              "      <td>-2.780000e+08</td>\n",
              "      <td>1.398</td>\n",
              "      <td>3.023</td>\n",
              "      <td>0.038</td>\n",
              "      <td>1.00</td>\n",
              "      <td>0.525</td>\n",
              "      <td>6.347000</td>\n",
              "      <td>2.952</td>\n",
              "      <td>12.925</td>\n",
              "      <td>US693304AD91</td>\n",
              "      <td>USD</td>\n",
              "      <td>104.972</td>\n",
              "      <td>2009-07-24</td>\n",
              "      <td>257512.0</td>\n",
              "      <td>693304AD9</td>\n",
              "      <td>4.75%</td>\n",
              "      <td>2012-10-01</td>\n",
              "      <td>0</td>\n",
              "      <td>693304AD9</td>\n",
              "      <td>NaN</td>\n",
              "      <td>NaN</td>\n",
              "      <td>NaN</td>\n",
              "      <td>NaN</td>\n",
              "      <td>NaN</td>\n",
              "      <td>NaN</td>\n",
              "      <td>NaN</td>\n",
              "      <td>2010-02-05</td>\n",
              "      <td>NaN</td>\n",
              "      <td>NaN</td>\n",
              "      <td>NaN</td>\n",
              "      <td>3.192</td>\n",
              "      <td>NaN</td>\n",
              "      <td>NaN</td>\n",
              "      <td>2009-07-24</td>\n",
              "      <td>4.45</td>\n",
              "      <td>0.19</td>\n",
              "      <td>1.1</td>\n",
              "      <td>66.96</td>\n",
              "      <td>1.39</td>\n",
              "      <td>23.43</td>\n",
              "    </tr>\n",
              "    <tr>\n",
              "      <th>5</th>\n",
              "      <td>5</td>\n",
              "      <td>0.0</td>\n",
              "      <td>2009-07-31</td>\n",
              "      <td>665772</td>\n",
              "      <td>4931</td>\n",
              "      <td>XEL</td>\n",
              "      <td>Xcel Energy Inc</td>\n",
              "      <td>2.016083e+09</td>\n",
              "      <td>5.280670e+08</td>\n",
              "      <td>0.262</td>\n",
              "      <td>116046992.0</td>\n",
              "      <td>0.058</td>\n",
              "      <td>3.802530e+08</td>\n",
              "      <td>7.394000e+06</td>\n",
              "      <td>8.884389e+09</td>\n",
              "      <td>1.791353e+10</td>\n",
              "      <td>7.073723e+09</td>\n",
              "      <td>9.087161e+09</td>\n",
              "      <td>1.759130e+10</td>\n",
              "      <td>-156418000.0</td>\n",
              "      <td>3.258160e+08</td>\n",
              "      <td>1.003</td>\n",
              "      <td>2.532</td>\n",
              "      <td>0.048</td>\n",
              "      <td>0.25</td>\n",
              "      <td>0.980</td>\n",
              "      <td>7.146000</td>\n",
              "      <td>1.285</td>\n",
              "      <td>13.486</td>\n",
              "      <td>US665772BW80</td>\n",
              "      <td>USD</td>\n",
              "      <td>114.000</td>\n",
              "      <td>2009-07-31</td>\n",
              "      <td>961125.0</td>\n",
              "      <td>665772BW8</td>\n",
              "      <td>8%</td>\n",
              "      <td>2012-08-28</td>\n",
              "      <td>0</td>\n",
              "      <td>665772BW8</td>\n",
              "      <td>NaN</td>\n",
              "      <td>NaN</td>\n",
              "      <td>NaN</td>\n",
              "      <td>NaN</td>\n",
              "      <td>NaN</td>\n",
              "      <td>NaN</td>\n",
              "      <td>NaN</td>\n",
              "      <td>2010-02-26</td>\n",
              "      <td>NaN</td>\n",
              "      <td>NaN</td>\n",
              "      <td>NaN</td>\n",
              "      <td>3.079</td>\n",
              "      <td>NaN</td>\n",
              "      <td>NaN</td>\n",
              "      <td>2009-07-31</td>\n",
              "      <td>4.50</td>\n",
              "      <td>0.19</td>\n",
              "      <td>1.1</td>\n",
              "      <td>69.26</td>\n",
              "      <td>1.32</td>\n",
              "      <td>25.40</td>\n",
              "    </tr>\n",
              "    <tr>\n",
              "      <th>6</th>\n",
              "      <td>6</td>\n",
              "      <td>0.0</td>\n",
              "      <td>2009-07-31</td>\n",
              "      <td>854616</td>\n",
              "      <td>3420</td>\n",
              "      <td>SWK</td>\n",
              "      <td>Stanley Black &amp; Decker Inc</td>\n",
              "      <td>9.191999e+08</td>\n",
              "      <td>1.613000e+08</td>\n",
              "      <td>0.175</td>\n",
              "      <td>69500000.0</td>\n",
              "      <td>0.076</td>\n",
              "      <td>1.563000e+08</td>\n",
              "      <td>2.576000e+08</td>\n",
              "      <td>1.548300e+09</td>\n",
              "      <td>2.929800e+09</td>\n",
              "      <td>1.795700e+09</td>\n",
              "      <td>3.186122e+09</td>\n",
              "      <td>4.578122e+09</td>\n",
              "      <td>43000000.0</td>\n",
              "      <td>-5.700000e+06</td>\n",
              "      <td>1.230</td>\n",
              "      <td>1.632</td>\n",
              "      <td>0.032</td>\n",
              "      <td>0.88</td>\n",
              "      <td>0.364</td>\n",
              "      <td>7.488000</td>\n",
              "      <td>1.774</td>\n",
              "      <td>11.675</td>\n",
              "      <td>US854616AP49</td>\n",
              "      <td>USD</td>\n",
              "      <td>68.850</td>\n",
              "      <td>2009-07-31</td>\n",
              "      <td>1263850.0</td>\n",
              "      <td>854616AP4</td>\n",
              "      <td>5.902%</td>\n",
              "      <td>2045-12-01</td>\n",
              "      <td>0</td>\n",
              "      <td>854616AP4</td>\n",
              "      <td>NaN</td>\n",
              "      <td>NaN</td>\n",
              "      <td>NaN</td>\n",
              "      <td>NaN</td>\n",
              "      <td>NaN</td>\n",
              "      <td>NaN</td>\n",
              "      <td>NaN</td>\n",
              "      <td>2010-02-22</td>\n",
              "      <td>NaN</td>\n",
              "      <td>NaN</td>\n",
              "      <td>NaN</td>\n",
              "      <td>36.362</td>\n",
              "      <td>NaN</td>\n",
              "      <td>NaN</td>\n",
              "      <td>2009-07-31</td>\n",
              "      <td>4.50</td>\n",
              "      <td>0.19</td>\n",
              "      <td>1.1</td>\n",
              "      <td>69.26</td>\n",
              "      <td>1.32</td>\n",
              "      <td>25.40</td>\n",
              "    </tr>\n",
              "    <tr>\n",
              "      <th>7</th>\n",
              "      <td>7</td>\n",
              "      <td>0.0</td>\n",
              "      <td>2009-07-31</td>\n",
              "      <td>665772</td>\n",
              "      <td>4931</td>\n",
              "      <td>XEL</td>\n",
              "      <td>Xcel Energy Inc</td>\n",
              "      <td>2.016083e+09</td>\n",
              "      <td>5.280670e+08</td>\n",
              "      <td>0.262</td>\n",
              "      <td>116046992.0</td>\n",
              "      <td>0.058</td>\n",
              "      <td>3.802530e+08</td>\n",
              "      <td>7.394000e+06</td>\n",
              "      <td>8.884389e+09</td>\n",
              "      <td>1.791353e+10</td>\n",
              "      <td>7.073723e+09</td>\n",
              "      <td>9.087161e+09</td>\n",
              "      <td>1.759130e+10</td>\n",
              "      <td>-156418000.0</td>\n",
              "      <td>3.258160e+08</td>\n",
              "      <td>1.003</td>\n",
              "      <td>2.532</td>\n",
              "      <td>0.048</td>\n",
              "      <td>0.25</td>\n",
              "      <td>0.980</td>\n",
              "      <td>7.146000</td>\n",
              "      <td>1.285</td>\n",
              "      <td>13.486</td>\n",
              "      <td>US665772BZ12</td>\n",
              "      <td>USD</td>\n",
              "      <td>103.901</td>\n",
              "      <td>2009-07-31</td>\n",
              "      <td>950901.0</td>\n",
              "      <td>665772BZ1</td>\n",
              "      <td>4.75%</td>\n",
              "      <td>2010-08-01</td>\n",
              "      <td>0</td>\n",
              "      <td>665772BZ1</td>\n",
              "      <td>NaN</td>\n",
              "      <td>NaN</td>\n",
              "      <td>NaN</td>\n",
              "      <td>NaN</td>\n",
              "      <td>NaN</td>\n",
              "      <td>NaN</td>\n",
              "      <td>NaN</td>\n",
              "      <td>2010-02-26</td>\n",
              "      <td>NaN</td>\n",
              "      <td>NaN</td>\n",
              "      <td>NaN</td>\n",
              "      <td>1.003</td>\n",
              "      <td>NaN</td>\n",
              "      <td>NaN</td>\n",
              "      <td>2009-07-31</td>\n",
              "      <td>4.50</td>\n",
              "      <td>0.19</td>\n",
              "      <td>1.1</td>\n",
              "      <td>69.26</td>\n",
              "      <td>1.32</td>\n",
              "      <td>25.40</td>\n",
              "    </tr>\n",
              "    <tr>\n",
              "      <th>8</th>\n",
              "      <td>8</td>\n",
              "      <td>0.0</td>\n",
              "      <td>2009-08-03</td>\n",
              "      <td>74971X</td>\n",
              "      <td>4911</td>\n",
              "      <td>GEN1</td>\n",
              "      <td>GenOn Energy Inc</td>\n",
              "      <td>3.897770e+08</td>\n",
              "      <td>8.346350e+08</td>\n",
              "      <td>2.141</td>\n",
              "      <td>803566016.0</td>\n",
              "      <td>2.062</td>\n",
              "      <td>1.489743e+09</td>\n",
              "      <td>1.292527e+09</td>\n",
              "      <td>2.571300e+09</td>\n",
              "      <td>3.821343e+09</td>\n",
              "      <td>4.450892e+09</td>\n",
              "      <td>1.968300e+09</td>\n",
              "      <td>3.049857e+09</td>\n",
              "      <td>-135646000.0</td>\n",
              "      <td>-4.478000e+07</td>\n",
              "      <td>2.073</td>\n",
              "      <td>0.859</td>\n",
              "      <td>0.000</td>\n",
              "      <td>2.29</td>\n",
              "      <td>0.000</td>\n",
              "      <td>-3.025000</td>\n",
              "      <td>0.442</td>\n",
              "      <td>-2.390</td>\n",
              "      <td>US74971XAA54</td>\n",
              "      <td>USD</td>\n",
              "      <td>99.000</td>\n",
              "      <td>2009-08-03</td>\n",
              "      <td>1429184.0</td>\n",
              "      <td>74971XAA5</td>\n",
              "      <td>6.75%</td>\n",
              "      <td>2014-12-15</td>\n",
              "      <td>0</td>\n",
              "      <td>74971XAA5</td>\n",
              "      <td>NaN</td>\n",
              "      <td>NaN</td>\n",
              "      <td>NaN</td>\n",
              "      <td>NaN</td>\n",
              "      <td>NaN</td>\n",
              "      <td>NaN</td>\n",
              "      <td>NaN</td>\n",
              "      <td>2010-02-25</td>\n",
              "      <td>NaN</td>\n",
              "      <td>NaN</td>\n",
              "      <td>NaN</td>\n",
              "      <td>5.370</td>\n",
              "      <td>NaN</td>\n",
              "      <td>NaN</td>\n",
              "      <td>2009-08-03</td>\n",
              "      <td>4.44</td>\n",
              "      <td>0.18</td>\n",
              "      <td>1.1</td>\n",
              "      <td>71.59</td>\n",
              "      <td>1.38</td>\n",
              "      <td>25.92</td>\n",
              "    </tr>\n",
              "    <tr>\n",
              "      <th>9</th>\n",
              "      <td>9</td>\n",
              "      <td>0.0</td>\n",
              "      <td>2009-08-03</td>\n",
              "      <td>260543</td>\n",
              "      <td>2821</td>\n",
              "      <td>DD</td>\n",
              "      <td>DuPont de Nemours Inc</td>\n",
              "      <td>1.132200e+10</td>\n",
              "      <td>6.960000e+08</td>\n",
              "      <td>0.061</td>\n",
              "      <td>-485999968.0</td>\n",
              "      <td>-0.043</td>\n",
              "      <td>2.648000e+09</td>\n",
              "      <td>7.256000e+09</td>\n",
              "      <td>2.376800e+10</td>\n",
              "      <td>4.594500e+10</td>\n",
              "      <td>1.971900e+10</td>\n",
              "      <td>2.569690e+10</td>\n",
              "      <td>4.681690e+10</td>\n",
              "      <td>-185000000.0</td>\n",
              "      <td>6.900000e+09</td>\n",
              "      <td>1.652</td>\n",
              "      <td>2.330</td>\n",
              "      <td>0.051</td>\n",
              "      <td>-1.41</td>\n",
              "      <td>-0.319</td>\n",
              "      <td>25.865999</td>\n",
              "      <td>1.303</td>\n",
              "      <td>-16.202</td>\n",
              "      <td>US260543BL65</td>\n",
              "      <td>USD</td>\n",
              "      <td>102.625</td>\n",
              "      <td>2009-08-03</td>\n",
              "      <td>444510.0</td>\n",
              "      <td>260543BL6</td>\n",
              "      <td>6.125%</td>\n",
              "      <td>2011-02-01</td>\n",
              "      <td>0</td>\n",
              "      <td>260543BL6</td>\n",
              "      <td>NaN</td>\n",
              "      <td>NaN</td>\n",
              "      <td>NaN</td>\n",
              "      <td>NaN</td>\n",
              "      <td>NaN</td>\n",
              "      <td>NaN</td>\n",
              "      <td>NaN</td>\n",
              "      <td>2010-02-19</td>\n",
              "      <td>NaN</td>\n",
              "      <td>NaN</td>\n",
              "      <td>NaN</td>\n",
              "      <td>1.499</td>\n",
              "      <td>NaN</td>\n",
              "      <td>NaN</td>\n",
              "      <td>2009-08-03</td>\n",
              "      <td>4.44</td>\n",
              "      <td>0.18</td>\n",
              "      <td>1.1</td>\n",
              "      <td>71.59</td>\n",
              "      <td>1.38</td>\n",
              "      <td>25.92</td>\n",
              "    </tr>\n",
              "  </tbody>\n",
              "</table>\n",
              "</div>"
            ],
            "text/plain": [
              "   Unnamed: 0  ...  index_fred_macro_vix\n",
              "0           0  ...                 30.85\n",
              "1           1  ...                 25.02\n",
              "2           2  ...                 24.40\n",
              "3           3  ...                 23.43\n",
              "4           4  ...                 23.43\n",
              "5           5  ...                 25.40\n",
              "6           6  ...                 25.40\n",
              "7           7  ...                 25.40\n",
              "8           8  ...                 25.92\n",
              "9           9  ...                 25.92\n",
              "\n",
              "[10 rows x 60 columns]"
            ]
          },
          "metadata": {
            "tags": []
          },
          "execution_count": 6
        }
      ]
    },
    {
      "cell_type": "code",
      "metadata": {
        "colab": {
          "base_uri": "https://localhost:8080/"
        },
        "id": "9zdRJRU702DP",
        "outputId": "75afb935-5d03-49ac-8610-9ad4bbaf795f"
      },
      "source": [
        "from google.colab import drive\n",
        "drive.mount('/content/drive')"
      ],
      "execution_count": 5,
      "outputs": [
        {
          "output_type": "stream",
          "text": [
            "Drive already mounted at /content/drive; to attempt to forcibly remount, call drive.mount(\"/content/drive\", force_remount=True).\n"
          ],
          "name": "stdout"
        }
      ]
    },
    {
      "cell_type": "code",
      "metadata": {
        "colab": {
          "base_uri": "https://localhost:8080/",
          "height": 547
        },
        "id": "ZuM-X11MpWEd",
        "outputId": "6b0c2a89-4038-47ea-88f1-9892de2acb97"
      },
      "source": [
        "# data wrangling: drop NaN, cap timedelta @60\n",
        "df_final = df.drop(['Unnamed: 0', 'Unnamed: 0.1'], axis=1)\n",
        "df_final.dropna(inplace=True)\n",
        "df_final = df_final.loc[df_final['timedelta'] <= 60]\n",
        "\n",
        "print(df_final.info)\n",
        "df_final.head()"
      ],
      "execution_count": 7,
      "outputs": [
        {
          "output_type": "stream",
          "text": [
            "<bound method DataFrame.info of       date_fundamentals  ... index_fred_macro_vix\n",
            "570          2012-06-27  ...                20.38\n",
            "571          2012-06-27  ...                20.38\n",
            "581          2012-07-05  ...                16.66\n",
            "587          2012-07-19  ...                16.16\n",
            "588          2012-07-19  ...                16.16\n",
            "...                 ...  ...                  ...\n",
            "40084        2020-12-18  ...                21.93\n",
            "40090        2020-12-18  ...                21.93\n",
            "40093        2020-12-18  ...                21.93\n",
            "40098        2020-12-18  ...                21.93\n",
            "40325        2021-02-12  ...                21.25\n",
            "\n",
            "[13498 rows x 58 columns]>\n"
          ],
          "name": "stdout"
        },
        {
          "output_type": "execute_result",
          "data": {
            "text/html": [
              "<div>\n",
              "<style scoped>\n",
              "    .dataframe tbody tr th:only-of-type {\n",
              "        vertical-align: middle;\n",
              "    }\n",
              "\n",
              "    .dataframe tbody tr th {\n",
              "        vertical-align: top;\n",
              "    }\n",
              "\n",
              "    .dataframe thead th {\n",
              "        text-align: right;\n",
              "    }\n",
              "</style>\n",
              "<table border=\"1\" class=\"dataframe\">\n",
              "  <thead>\n",
              "    <tr style=\"text-align: right;\">\n",
              "      <th></th>\n",
              "      <th>date_fundamentals</th>\n",
              "      <th>cusip_company_part</th>\n",
              "      <th>siccode_fundamentals</th>\n",
              "      <th>ticker_fundamentals</th>\n",
              "      <th>company_name_fundamentals</th>\n",
              "      <th>revenueusd</th>\n",
              "      <th>ebitdausd</th>\n",
              "      <th>ebitdamargin</th>\n",
              "      <th>netinccmnusd</th>\n",
              "      <th>netmargin</th>\n",
              "      <th>cashnequsd</th>\n",
              "      <th>workingcapital</th>\n",
              "      <th>debtusd</th>\n",
              "      <th>liabilities</th>\n",
              "      <th>equityusd</th>\n",
              "      <th>marketcap</th>\n",
              "      <th>ev</th>\n",
              "      <th>fcf</th>\n",
              "      <th>ncfdebt</th>\n",
              "      <th>currentratio</th>\n",
              "      <th>de</th>\n",
              "      <th>divyield</th>\n",
              "      <th>epsusd</th>\n",
              "      <th>payoutratio</th>\n",
              "      <th>evebitda</th>\n",
              "      <th>pb</th>\n",
              "      <th>pe</th>\n",
              "      <th>isin</th>\n",
              "      <th>currency</th>\n",
              "      <th>close_edi</th>\n",
              "      <th>mktclosedate</th>\n",
              "      <th>secid</th>\n",
              "      <th>uscode</th>\n",
              "      <th>coupon_x</th>\n",
              "      <th>maturity_date</th>\n",
              "      <th>timedelta</th>\n",
              "      <th>cusip</th>\n",
              "      <th>maturity</th>\n",
              "      <th>rating</th>\n",
              "      <th>date</th>\n",
              "      <th>coupon_y</th>\n",
              "      <th>issuer_cusip</th>\n",
              "      <th>rank</th>\n",
              "      <th>timedelta_2</th>\n",
              "      <th>date_fundamentals_shifted</th>\n",
              "      <th>rating_shifted</th>\n",
              "      <th>rank_shifted</th>\n",
              "      <th>rank_diff</th>\n",
              "      <th>maturity_year</th>\n",
              "      <th>rank_change</th>\n",
              "      <th>rank_change_2</th>\n",
              "      <th>observed_date</th>\n",
              "      <th>percent_fred_macro_yc_30_yr</th>\n",
              "      <th>percent_fred_macro_yc_3_mo</th>\n",
              "      <th>percentchange_fred_macro_gdp</th>\n",
              "      <th>dollars_fred_crude_oil_prices</th>\n",
              "      <th>percent_fred_five_year_breakeven_inflation</th>\n",
              "      <th>index_fred_macro_vix</th>\n",
              "    </tr>\n",
              "  </thead>\n",
              "  <tbody>\n",
              "    <tr>\n",
              "      <th>570</th>\n",
              "      <td>2012-06-27</td>\n",
              "      <td>00724F</td>\n",
              "      <td>7372</td>\n",
              "      <td>ADBE</td>\n",
              "      <td>Adobe Inc</td>\n",
              "      <td>1.124449e+09</td>\n",
              "      <td>3.883770e+08</td>\n",
              "      <td>0.345</td>\n",
              "      <td>223876016.0</td>\n",
              "      <td>0.199</td>\n",
              "      <td>951238080.0</td>\n",
              "      <td>2.525163e+09</td>\n",
              "      <td>1.510094e+09</td>\n",
              "      <td>3.266186e+09</td>\n",
              "      <td>6.099646e+09</td>\n",
              "      <td>1.544626e+10</td>\n",
              "      <td>1.600512e+10</td>\n",
              "      <td>387451008.0</td>\n",
              "      <td>-2290000.0</td>\n",
              "      <td>3.027</td>\n",
              "      <td>0.535</td>\n",
              "      <td>0.000</td>\n",
              "      <td>0.45</td>\n",
              "      <td>0.000</td>\n",
              "      <td>11.385</td>\n",
              "      <td>2.532</td>\n",
              "      <td>19.856001</td>\n",
              "      <td>US00724FAA93</td>\n",
              "      <td>USD</td>\n",
              "      <td>105.124</td>\n",
              "      <td>2012-06-27</td>\n",
              "      <td>1758557.0</td>\n",
              "      <td>00724FAA9</td>\n",
              "      <td>3.25%</td>\n",
              "      <td>2015-02-01</td>\n",
              "      <td>0</td>\n",
              "      <td>00724FAA9</td>\n",
              "      <td>2015-02-01</td>\n",
              "      <td>BAA1</td>\n",
              "      <td>2012-06-15</td>\n",
              "      <td>3.250</td>\n",
              "      <td>00724F</td>\n",
              "      <td>8.0</td>\n",
              "      <td>12.0</td>\n",
              "      <td>2013-01-22</td>\n",
              "      <td>BAA1</td>\n",
              "      <td>8.0</td>\n",
              "      <td>0.0</td>\n",
              "      <td>2.600</td>\n",
              "      <td>0.0</td>\n",
              "      <td>0.0</td>\n",
              "      <td>2012-06-27</td>\n",
              "      <td>2.71</td>\n",
              "      <td>0.10</td>\n",
              "      <td>2.9</td>\n",
              "      <td>79.34</td>\n",
              "      <td>1.68</td>\n",
              "      <td>20.38</td>\n",
              "    </tr>\n",
              "    <tr>\n",
              "      <th>571</th>\n",
              "      <td>2012-06-27</td>\n",
              "      <td>00724F</td>\n",
              "      <td>7372</td>\n",
              "      <td>ADBE</td>\n",
              "      <td>Adobe Inc</td>\n",
              "      <td>1.124449e+09</td>\n",
              "      <td>3.883770e+08</td>\n",
              "      <td>0.345</td>\n",
              "      <td>223876016.0</td>\n",
              "      <td>0.199</td>\n",
              "      <td>951238080.0</td>\n",
              "      <td>2.525163e+09</td>\n",
              "      <td>1.510094e+09</td>\n",
              "      <td>3.266186e+09</td>\n",
              "      <td>6.099646e+09</td>\n",
              "      <td>1.544626e+10</td>\n",
              "      <td>1.600512e+10</td>\n",
              "      <td>387451008.0</td>\n",
              "      <td>-2290000.0</td>\n",
              "      <td>3.027</td>\n",
              "      <td>0.535</td>\n",
              "      <td>0.000</td>\n",
              "      <td>0.45</td>\n",
              "      <td>0.000</td>\n",
              "      <td>11.385</td>\n",
              "      <td>2.532</td>\n",
              "      <td>19.856001</td>\n",
              "      <td>US00724FAB76</td>\n",
              "      <td>USD</td>\n",
              "      <td>111.915</td>\n",
              "      <td>2012-06-27</td>\n",
              "      <td>1758481.0</td>\n",
              "      <td>00724FAB7</td>\n",
              "      <td>4.75%</td>\n",
              "      <td>2020-02-01</td>\n",
              "      <td>0</td>\n",
              "      <td>00724FAB7</td>\n",
              "      <td>2020-02-01</td>\n",
              "      <td>BAA1</td>\n",
              "      <td>2012-06-15</td>\n",
              "      <td>4.750</td>\n",
              "      <td>00724F</td>\n",
              "      <td>8.0</td>\n",
              "      <td>12.0</td>\n",
              "      <td>2013-01-22</td>\n",
              "      <td>BAA1</td>\n",
              "      <td>8.0</td>\n",
              "      <td>0.0</td>\n",
              "      <td>7.603</td>\n",
              "      <td>0.0</td>\n",
              "      <td>0.0</td>\n",
              "      <td>2012-06-27</td>\n",
              "      <td>2.71</td>\n",
              "      <td>0.10</td>\n",
              "      <td>2.9</td>\n",
              "      <td>79.34</td>\n",
              "      <td>1.68</td>\n",
              "      <td>20.38</td>\n",
              "    </tr>\n",
              "    <tr>\n",
              "      <th>581</th>\n",
              "      <td>2012-07-05</td>\n",
              "      <td>026375</td>\n",
              "      <td>2771</td>\n",
              "      <td>AM1</td>\n",
              "      <td>American Greetings Corp</td>\n",
              "      <td>3.931060e+08</td>\n",
              "      <td>2.626500e+07</td>\n",
              "      <td>0.067</td>\n",
              "      <td>7250000.5</td>\n",
              "      <td>0.018</td>\n",
              "      <td>60180000.0</td>\n",
              "      <td>2.500000e+08</td>\n",
              "      <td>2.251810e+08</td>\n",
              "      <td>8.090370e+08</td>\n",
              "      <td>6.794340e+08</td>\n",
              "      <td>4.851067e+08</td>\n",
              "      <td>6.501076e+08</td>\n",
              "      <td>33485000.0</td>\n",
              "      <td>0.0</td>\n",
              "      <td>1.842</td>\n",
              "      <td>1.191</td>\n",
              "      <td>0.052</td>\n",
              "      <td>0.20</td>\n",
              "      <td>0.750</td>\n",
              "      <td>4.348</td>\n",
              "      <td>0.714</td>\n",
              "      <td>15.229000</td>\n",
              "      <td>US026375AP03</td>\n",
              "      <td>USD</td>\n",
              "      <td>105.250</td>\n",
              "      <td>2012-07-05</td>\n",
              "      <td>3295358.0</td>\n",
              "      <td>026375AP0</td>\n",
              "      <td>7.375%</td>\n",
              "      <td>2021-12-01</td>\n",
              "      <td>0</td>\n",
              "      <td>026375AP0</td>\n",
              "      <td>2021-12-01</td>\n",
              "      <td>BA2</td>\n",
              "      <td>2012-06-15</td>\n",
              "      <td>7.375</td>\n",
              "      <td>026375</td>\n",
              "      <td>12.0</td>\n",
              "      <td>20.0</td>\n",
              "      <td>2013-01-02</td>\n",
              "      <td>BA2</td>\n",
              "      <td>12.0</td>\n",
              "      <td>0.0</td>\n",
              "      <td>9.414</td>\n",
              "      <td>0.0</td>\n",
              "      <td>0.0</td>\n",
              "      <td>2012-07-05</td>\n",
              "      <td>2.74</td>\n",
              "      <td>0.09</td>\n",
              "      <td>2.9</td>\n",
              "      <td>87.74</td>\n",
              "      <td>1.80</td>\n",
              "      <td>16.66</td>\n",
              "    </tr>\n",
              "    <tr>\n",
              "      <th>587</th>\n",
              "      <td>2012-07-19</td>\n",
              "      <td>05329W</td>\n",
              "      <td>5500</td>\n",
              "      <td>AN</td>\n",
              "      <td>Autonation Inc</td>\n",
              "      <td>3.904500e+09</td>\n",
              "      <td>1.833000e+08</td>\n",
              "      <td>0.047</td>\n",
              "      <td>78600000.0</td>\n",
              "      <td>0.020</td>\n",
              "      <td>62100000.0</td>\n",
              "      <td>1.686000e+08</td>\n",
              "      <td>2.028500e+09</td>\n",
              "      <td>4.933200e+09</td>\n",
              "      <td>1.528200e+09</td>\n",
              "      <td>4.922053e+09</td>\n",
              "      <td>6.888453e+09</td>\n",
              "      <td>-13500000.0</td>\n",
              "      <td>144500000.0</td>\n",
              "      <td>1.062</td>\n",
              "      <td>3.228</td>\n",
              "      <td>0.000</td>\n",
              "      <td>0.65</td>\n",
              "      <td>0.000</td>\n",
              "      <td>10.145</td>\n",
              "      <td>3.221</td>\n",
              "      <td>16.874001</td>\n",
              "      <td>US05329WAJ18</td>\n",
              "      <td>USD</td>\n",
              "      <td>110.152</td>\n",
              "      <td>2012-07-19</td>\n",
              "      <td>1856738.0</td>\n",
              "      <td>05329WAJ1</td>\n",
              "      <td>6.75%</td>\n",
              "      <td>2018-04-15</td>\n",
              "      <td>0</td>\n",
              "      <td>05329WAJ1</td>\n",
              "      <td>2018-04-15</td>\n",
              "      <td>BA2</td>\n",
              "      <td>2012-06-15</td>\n",
              "      <td>6.750</td>\n",
              "      <td>05329W</td>\n",
              "      <td>12.0</td>\n",
              "      <td>34.0</td>\n",
              "      <td>2013-02-15</td>\n",
              "      <td>BA2</td>\n",
              "      <td>12.0</td>\n",
              "      <td>0.0</td>\n",
              "      <td>5.742</td>\n",
              "      <td>0.0</td>\n",
              "      <td>0.0</td>\n",
              "      <td>2012-07-19</td>\n",
              "      <td>2.59</td>\n",
              "      <td>0.09</td>\n",
              "      <td>2.9</td>\n",
              "      <td>89.07</td>\n",
              "      <td>1.82</td>\n",
              "      <td>16.16</td>\n",
              "    </tr>\n",
              "    <tr>\n",
              "      <th>588</th>\n",
              "      <td>2012-07-19</td>\n",
              "      <td>126408</td>\n",
              "      <td>4011</td>\n",
              "      <td>CSX</td>\n",
              "      <td>Csx Corp</td>\n",
              "      <td>3.012000e+09</td>\n",
              "      <td>1.211000e+09</td>\n",
              "      <td>0.402</td>\n",
              "      <td>512000000.0</td>\n",
              "      <td>0.170</td>\n",
              "      <td>642000000.0</td>\n",
              "      <td>-2.030000e+08</td>\n",
              "      <td>9.089000e+09</td>\n",
              "      <td>2.069400e+10</td>\n",
              "      <td>8.895000e+09</td>\n",
              "      <td>2.369094e+10</td>\n",
              "      <td>3.213794e+10</td>\n",
              "      <td>93000000.0</td>\n",
              "      <td>-42000000.0</td>\n",
              "      <td>0.921</td>\n",
              "      <td>2.326</td>\n",
              "      <td>0.022</td>\n",
              "      <td>0.49</td>\n",
              "      <td>0.286</td>\n",
              "      <td>7.062</td>\n",
              "      <td>2.663</td>\n",
              "      <td>12.588000</td>\n",
              "      <td>US126408BP76</td>\n",
              "      <td>USD</td>\n",
              "      <td>127.500</td>\n",
              "      <td>2012-07-19</td>\n",
              "      <td>1070939.0</td>\n",
              "      <td>126408BP7</td>\n",
              "      <td>7.25%</td>\n",
              "      <td>2027-05-01</td>\n",
              "      <td>0</td>\n",
              "      <td>126408BP7</td>\n",
              "      <td>2027-05-01</td>\n",
              "      <td>BAA3</td>\n",
              "      <td>2012-06-15</td>\n",
              "      <td>7.250</td>\n",
              "      <td>126408</td>\n",
              "      <td>10.0</td>\n",
              "      <td>34.0</td>\n",
              "      <td>2013-02-19</td>\n",
              "      <td>BAA2</td>\n",
              "      <td>9.0</td>\n",
              "      <td>1.0</td>\n",
              "      <td>14.792</td>\n",
              "      <td>1.0</td>\n",
              "      <td>1.0</td>\n",
              "      <td>2012-07-19</td>\n",
              "      <td>2.59</td>\n",
              "      <td>0.09</td>\n",
              "      <td>2.9</td>\n",
              "      <td>89.07</td>\n",
              "      <td>1.82</td>\n",
              "      <td>16.16</td>\n",
              "    </tr>\n",
              "  </tbody>\n",
              "</table>\n",
              "</div>"
            ],
            "text/plain": [
              "    date_fundamentals  ... index_fred_macro_vix\n",
              "570        2012-06-27  ...                20.38\n",
              "571        2012-06-27  ...                20.38\n",
              "581        2012-07-05  ...                16.66\n",
              "587        2012-07-19  ...                16.16\n",
              "588        2012-07-19  ...                16.16\n",
              "\n",
              "[5 rows x 58 columns]"
            ]
          },
          "metadata": {
            "tags": []
          },
          "execution_count": 7
        }
      ]
    },
    {
      "cell_type": "code",
      "metadata": {
        "colab": {
          "base_uri": "https://localhost:8080/",
          "height": 224
        },
        "id": "cpkzitoEptH6",
        "outputId": "17fe56ed-c1ac-4994-b983-c6d4f43a2011"
      },
      "source": [
        "# Set x variable list of features\n",
        "x_var_list = ['siccode_fundamentals', 'revenueusd', 'ebitdausd',\n",
        "       'ebitdamargin', 'netinccmnusd', 'netmargin', 'cashnequsd',\n",
        "       'workingcapital', 'debtusd', 'liabilities', 'equityusd', 'marketcap',\n",
        "       'ev', 'fcf', 'ncfdebt', 'currentratio', 'de', 'divyield', 'epsusd',\n",
        "       'payoutratio', 'evebitda', 'pb', 'pe', 'close_edi', 'coupon_x',\n",
        "       'percent_fred_macro_yc_30_yr',\n",
        "       'percent_fred_macro_yc_3_mo', 'percentchange_fred_macro_gdp',\n",
        "       'dollars_fred_crude_oil_prices',\n",
        "       'percent_fred_five_year_breakeven_inflation', 'index_fred_macro_vix', 'maturity_year']\n",
        "\n",
        "# Filter by x-variable list\n",
        "df_final[x_var_list].tail()"
      ],
      "execution_count": 8,
      "outputs": [
        {
          "output_type": "execute_result",
          "data": {
            "text/html": [
              "<div>\n",
              "<style scoped>\n",
              "    .dataframe tbody tr th:only-of-type {\n",
              "        vertical-align: middle;\n",
              "    }\n",
              "\n",
              "    .dataframe tbody tr th {\n",
              "        vertical-align: top;\n",
              "    }\n",
              "\n",
              "    .dataframe thead th {\n",
              "        text-align: right;\n",
              "    }\n",
              "</style>\n",
              "<table border=\"1\" class=\"dataframe\">\n",
              "  <thead>\n",
              "    <tr style=\"text-align: right;\">\n",
              "      <th></th>\n",
              "      <th>siccode_fundamentals</th>\n",
              "      <th>revenueusd</th>\n",
              "      <th>ebitdausd</th>\n",
              "      <th>ebitdamargin</th>\n",
              "      <th>netinccmnusd</th>\n",
              "      <th>netmargin</th>\n",
              "      <th>cashnequsd</th>\n",
              "      <th>workingcapital</th>\n",
              "      <th>debtusd</th>\n",
              "      <th>liabilities</th>\n",
              "      <th>equityusd</th>\n",
              "      <th>marketcap</th>\n",
              "      <th>ev</th>\n",
              "      <th>fcf</th>\n",
              "      <th>ncfdebt</th>\n",
              "      <th>currentratio</th>\n",
              "      <th>de</th>\n",
              "      <th>divyield</th>\n",
              "      <th>epsusd</th>\n",
              "      <th>payoutratio</th>\n",
              "      <th>evebitda</th>\n",
              "      <th>pb</th>\n",
              "      <th>pe</th>\n",
              "      <th>close_edi</th>\n",
              "      <th>coupon_x</th>\n",
              "      <th>percent_fred_macro_yc_30_yr</th>\n",
              "      <th>percent_fred_macro_yc_3_mo</th>\n",
              "      <th>percentchange_fred_macro_gdp</th>\n",
              "      <th>dollars_fred_crude_oil_prices</th>\n",
              "      <th>percent_fred_five_year_breakeven_inflation</th>\n",
              "      <th>index_fred_macro_vix</th>\n",
              "      <th>maturity_year</th>\n",
              "    </tr>\n",
              "  </thead>\n",
              "  <tbody>\n",
              "    <tr>\n",
              "      <th>40084</th>\n",
              "      <td>3524</td>\n",
              "      <td>8.409570e+08</td>\n",
              "      <td>117440000.0</td>\n",
              "      <td>0.140</td>\n",
              "      <td>72196000.0</td>\n",
              "      <td>0.086</td>\n",
              "      <td>4.798920e+08</td>\n",
              "      <td>5.718510e+08</td>\n",
              "      <td>8.577640e+08</td>\n",
              "      <td>1.738400e+09</td>\n",
              "      <td>1.114828e+09</td>\n",
              "      <td>1.004494e+10</td>\n",
              "      <td>1.042282e+10</td>\n",
              "      <td>202057000.0</td>\n",
              "      <td>-100000000.0</td>\n",
              "      <td>1.668</td>\n",
              "      <td>1.559</td>\n",
              "      <td>0.011</td>\n",
              "      <td>0.67</td>\n",
              "      <td>0.373</td>\n",
              "      <td>20.186</td>\n",
              "      <td>9.010</td>\n",
              "      <td>30.467</td>\n",
              "      <td>132.717</td>\n",
              "      <td>7.80%</td>\n",
              "      <td>1.68</td>\n",
              "      <td>0.08</td>\n",
              "      <td>33.1</td>\n",
              "      <td>47.02</td>\n",
              "      <td>1.92</td>\n",
              "      <td>21.93</td>\n",
              "      <td>6.493</td>\n",
              "    </tr>\n",
              "    <tr>\n",
              "      <th>40090</th>\n",
              "      <td>3826</td>\n",
              "      <td>1.483000e+09</td>\n",
              "      <td>378000000.0</td>\n",
              "      <td>0.255</td>\n",
              "      <td>222000000.0</td>\n",
              "      <td>0.150</td>\n",
              "      <td>1.441000e+09</td>\n",
              "      <td>1.948000e+09</td>\n",
              "      <td>2.359000e+09</td>\n",
              "      <td>4.754000e+09</td>\n",
              "      <td>4.873000e+09</td>\n",
              "      <td>3.650589e+10</td>\n",
              "      <td>3.742389e+10</td>\n",
              "      <td>350000000.0</td>\n",
              "      <td>35000000.0</td>\n",
              "      <td>2.328</td>\n",
              "      <td>0.976</td>\n",
              "      <td>0.006</td>\n",
              "      <td>0.72</td>\n",
              "      <td>0.250</td>\n",
              "      <td>30.475</td>\n",
              "      <td>7.491</td>\n",
              "      <td>50.773</td>\n",
              "      <td>104.236</td>\n",
              "      <td>3.20%</td>\n",
              "      <td>1.68</td>\n",
              "      <td>0.08</td>\n",
              "      <td>33.1</td>\n",
              "      <td>47.02</td>\n",
              "      <td>1.92</td>\n",
              "      <td>21.93</td>\n",
              "      <td>1.786</td>\n",
              "    </tr>\n",
              "    <tr>\n",
              "      <th>40093</th>\n",
              "      <td>3826</td>\n",
              "      <td>1.483000e+09</td>\n",
              "      <td>378000000.0</td>\n",
              "      <td>0.255</td>\n",
              "      <td>222000000.0</td>\n",
              "      <td>0.150</td>\n",
              "      <td>1.441000e+09</td>\n",
              "      <td>1.948000e+09</td>\n",
              "      <td>2.359000e+09</td>\n",
              "      <td>4.754000e+09</td>\n",
              "      <td>4.873000e+09</td>\n",
              "      <td>3.650589e+10</td>\n",
              "      <td>3.742389e+10</td>\n",
              "      <td>350000000.0</td>\n",
              "      <td>35000000.0</td>\n",
              "      <td>2.328</td>\n",
              "      <td>0.976</td>\n",
              "      <td>0.006</td>\n",
              "      <td>0.72</td>\n",
              "      <td>0.250</td>\n",
              "      <td>30.475</td>\n",
              "      <td>7.491</td>\n",
              "      <td>50.773</td>\n",
              "      <td>104.236</td>\n",
              "      <td>3.20%</td>\n",
              "      <td>1.68</td>\n",
              "      <td>0.08</td>\n",
              "      <td>33.1</td>\n",
              "      <td>47.02</td>\n",
              "      <td>1.92</td>\n",
              "      <td>21.93</td>\n",
              "      <td>1.786</td>\n",
              "    </tr>\n",
              "    <tr>\n",
              "      <th>40098</th>\n",
              "      <td>3826</td>\n",
              "      <td>1.483000e+09</td>\n",
              "      <td>378000000.0</td>\n",
              "      <td>0.255</td>\n",
              "      <td>222000000.0</td>\n",
              "      <td>0.150</td>\n",
              "      <td>1.441000e+09</td>\n",
              "      <td>1.948000e+09</td>\n",
              "      <td>2.359000e+09</td>\n",
              "      <td>4.754000e+09</td>\n",
              "      <td>4.873000e+09</td>\n",
              "      <td>3.650589e+10</td>\n",
              "      <td>3.742389e+10</td>\n",
              "      <td>350000000.0</td>\n",
              "      <td>35000000.0</td>\n",
              "      <td>2.328</td>\n",
              "      <td>0.976</td>\n",
              "      <td>0.006</td>\n",
              "      <td>0.72</td>\n",
              "      <td>0.250</td>\n",
              "      <td>30.475</td>\n",
              "      <td>7.491</td>\n",
              "      <td>50.773</td>\n",
              "      <td>109.804</td>\n",
              "      <td>3.05%</td>\n",
              "      <td>1.68</td>\n",
              "      <td>0.08</td>\n",
              "      <td>33.1</td>\n",
              "      <td>47.02</td>\n",
              "      <td>1.92</td>\n",
              "      <td>21.93</td>\n",
              "      <td>5.764</td>\n",
              "    </tr>\n",
              "    <tr>\n",
              "      <th>40325</th>\n",
              "      <td>3663</td>\n",
              "      <td>2.273000e+09</td>\n",
              "      <td>683000000.0</td>\n",
              "      <td>0.300</td>\n",
              "      <td>412000000.0</td>\n",
              "      <td>0.181</td>\n",
              "      <td>1.254000e+09</td>\n",
              "      <td>8.380000e+08</td>\n",
              "      <td>5.577000e+09</td>\n",
              "      <td>1.141700e+10</td>\n",
              "      <td>-5.580000e+08</td>\n",
              "      <td>3.072765e+10</td>\n",
              "      <td>3.505065e+10</td>\n",
              "      <td>638000000.0</td>\n",
              "      <td>-203000000.0</td>\n",
              "      <td>1.240</td>\n",
              "      <td>-20.461</td>\n",
              "      <td>0.014</td>\n",
              "      <td>2.42</td>\n",
              "      <td>0.293</td>\n",
              "      <td>19.483</td>\n",
              "      <td>-55.067</td>\n",
              "      <td>32.379</td>\n",
              "      <td>110.250</td>\n",
              "      <td>5.22%</td>\n",
              "      <td>1.94</td>\n",
              "      <td>0.05</td>\n",
              "      <td>4.0</td>\n",
              "      <td>57.95</td>\n",
              "      <td>2.35</td>\n",
              "      <td>21.25</td>\n",
              "      <td>76.685</td>\n",
              "    </tr>\n",
              "  </tbody>\n",
              "</table>\n",
              "</div>"
            ],
            "text/plain": [
              "       siccode_fundamentals    revenueusd  ...  index_fred_macro_vix  maturity_year\n",
              "40084                  3524  8.409570e+08  ...                 21.93          6.493\n",
              "40090                  3826  1.483000e+09  ...                 21.93          1.786\n",
              "40093                  3826  1.483000e+09  ...                 21.93          1.786\n",
              "40098                  3826  1.483000e+09  ...                 21.93          5.764\n",
              "40325                  3663  2.273000e+09  ...                 21.25         76.685\n",
              "\n",
              "[5 rows x 32 columns]"
            ]
          },
          "metadata": {
            "tags": []
          },
          "execution_count": 8
        }
      ]
    },
    {
      "cell_type": "code",
      "metadata": {
        "colab": {
          "base_uri": "https://localhost:8080/"
        },
        "id": "wkfZMiyCpucJ",
        "outputId": "6e8bbc2e-7903-41a9-89f6-c65994c5544e"
      },
      "source": [
        "X = df_final[x_var_list]\n",
        "y = df_final['rank_change']\n",
        "\n",
        "X['coupon_x'].replace('%', '', regex=True, inplace=True)\n",
        "X['coupon_x'] = X['coupon_x'].astype('float') / 100\n",
        "\n",
        "# np.unique(y, return_counts = True)\n",
        "Counter(y)"
      ],
      "execution_count": 9,
      "outputs": [
        {
          "output_type": "stream",
          "text": [
            "/usr/local/lib/python3.7/dist-packages/pandas/core/series.py:4582: SettingWithCopyWarning: \n",
            "A value is trying to be set on a copy of a slice from a DataFrame\n",
            "\n",
            "See the caveats in the documentation: https://pandas.pydata.org/pandas-docs/stable/user_guide/indexing.html#returning-a-view-versus-a-copy\n",
            "  method=method,\n",
            "/usr/local/lib/python3.7/dist-packages/ipykernel_launcher.py:5: SettingWithCopyWarning: \n",
            "A value is trying to be set on a copy of a slice from a DataFrame.\n",
            "Try using .loc[row_indexer,col_indexer] = value instead\n",
            "\n",
            "See the caveats in the documentation: https://pandas.pydata.org/pandas-docs/stable/user_guide/indexing.html#returning-a-view-versus-a-copy\n",
            "  \"\"\"\n"
          ],
          "name": "stderr"
        },
        {
          "output_type": "execute_result",
          "data": {
            "text/plain": [
              "Counter({-1.0: 584, 0.0: 12470, 1.0: 444})"
            ]
          },
          "metadata": {
            "tags": []
          },
          "execution_count": 9
        }
      ]
    },
    {
      "cell_type": "code",
      "metadata": {
        "id": "Uao5cVm-qTZD"
      },
      "source": [
        "# convert y to array\n",
        "# y = df_final['rank_diff'].values.reshape(-1, 1)"
      ],
      "execution_count": null,
      "outputs": []
    },
    {
      "cell_type": "code",
      "metadata": {
        "id": "MAMCo7dBqjXo"
      },
      "source": [
        "# train-test split\n",
        "X_train, X_test, y_train, y_test = train_test_split(X, y, shuffle=True, random_state=78)"
      ],
      "execution_count": 10,
      "outputs": []
    },
    {
      "cell_type": "code",
      "metadata": {
        "colab": {
          "base_uri": "https://localhost:8080/"
        },
        "id": "UCU2758KwZ7v",
        "outputId": "610c383b-8f06-4bf8-b8d5-49ab198ed198"
      },
      "source": [
        "np.unique(y_train, return_counts = True)"
      ],
      "execution_count": 11,
      "outputs": [
        {
          "output_type": "execute_result",
          "data": {
            "text/plain": [
              "(array([-1.,  0.,  1.]), array([ 431, 9360,  332]))"
            ]
          },
          "metadata": {
            "tags": []
          },
          "execution_count": 11
        }
      ]
    },
    {
      "cell_type": "code",
      "metadata": {
        "colab": {
          "base_uri": "https://localhost:8080/"
        },
        "id": "L8UTKrZDuT33",
        "outputId": "67e6aee8-cb05-4967-a0ad-af922a4ce41c"
      },
      "source": [
        "y_test[:10]"
      ],
      "execution_count": 12,
      "outputs": [
        {
          "output_type": "execute_result",
          "data": {
            "text/plain": [
              "27129    0.0\n",
              "17435    0.0\n",
              "15496    0.0\n",
              "1173     0.0\n",
              "31794    0.0\n",
              "5468     0.0\n",
              "23607    0.0\n",
              "15022   -1.0\n",
              "12763    0.0\n",
              "38402    0.0\n",
              "Name: rank_change, dtype: float64"
            ]
          },
          "metadata": {
            "tags": []
          },
          "execution_count": 12
        }
      ]
    },
    {
      "cell_type": "code",
      "metadata": {
        "id": "XRX3qjJJ6zCV"
      },
      "source": [
        "# Creating the scaler instance\n",
        "scaler = StandardScaler()\n",
        "\n",
        "# Fitting the scaler\n",
        "scaler.fit(X_train)\n",
        "\n",
        "# Transforming the data\n",
        "X_train_scaled = scaler.transform(X_train)\n",
        "X_test_scaled = scaler.transform(X_test)"
      ],
      "execution_count": 13,
      "outputs": []
    },
    {
      "cell_type": "code",
      "metadata": {
        "colab": {
          "base_uri": "https://localhost:8080/"
        },
        "id": "0Zw34d2_qkUA",
        "outputId": "b9a1e6a7-448f-47d3-d6e1-333a979a841f"
      },
      "source": [
        "# Create a random forest classifier\n",
        "rf_model = RandomForestClassifier(n_estimators= (int(len(x_var_list)/3)), max_depth=3, max_samples = None, random_state=0)\n",
        "\n",
        "# Fit the model\n",
        "rf_model = rf_model.fit(X_train_scaled, y_train)\n",
        "\n",
        "# Make a prediction of \"y\" values from the X_test dataset\n",
        "predictions = rf_model.predict(X_test_scaled)\n",
        "print(np.unique(predictions))\n",
        "print(np.unique(y_test))\n",
        "\n",
        "# Assemble actual y data (Y_test) with predicted y data (from just above) into two columns in a dataframe:\n",
        "# Results = y_test.to_frame()\n",
        "# Results[\"Predicted Value\"] = predictions\n",
        "# Results"
      ],
      "execution_count": 14,
      "outputs": [
        {
          "output_type": "stream",
          "text": [
            "[-1.  0.]\n",
            "[-1.  0.  1.]\n"
          ],
          "name": "stdout"
        }
      ]
    },
    {
      "cell_type": "code",
      "metadata": {
        "id": "R2l73PnIskJj"
      },
      "source": [
        "# Calculating the confusion matrix\n",
        "cm = confusion_matrix(y_test, predictions)\n",
        "cm_df = pd.DataFrame(\n",
        "    cm, index=[\"Actual 1\",\"Actual 2\", \"Actual 3\"], \n",
        "               columns=[\"Predicted 1\",\"Predicted 2\", \"Predicted 3\"])\n",
        "\n",
        "# cm_df = pd.DataFrame(\n",
        "#     cm, index=[\"Actual 1\",\"Actual 2\", \"Actual 3\", \"Actual 4\", \"Actual 5\", \"Actual 6\", \"Actual 7\",\n",
        "#                \"Actual 8\", \"Actual 9\", \"Actual 10\", \"Actual 11\", \"Actual 12\", \"Actual 13\",\"Actual 14\",\"Actual 15\", \"Actual 16\",\n",
        "#                \"Actual 17\", \"Actual 18\", \"Actual 19\"], \n",
        "#                columns=[\"Predicted 1\",\"Predicted 2\", \"Predicted 3\", \"Predicted 4\", \"Predicted 5\", \"Predicted 6\", \n",
        "#                         \"Predicted 7\", \"Predicted 8\", \"Predicted 9\", \"Predicted 10\", \"Predicted 11\", \"Predicted 12\", \"Predicted 13\",\n",
        "#                         \"Predicted 14\",\"Predicted 15\", \"Predicted 16\", \"Predicted 17\", \"Predicted 18\", \"Predicted 19\"])\n",
        "\n",
        "# Calculating the accuracy score\n",
        "acc_score = accuracy_score(y_test, predictions)"
      ],
      "execution_count": 16,
      "outputs": []
    },
    {
      "cell_type": "code",
      "metadata": {
        "colab": {
          "base_uri": "https://localhost:8080/",
          "height": 417
        },
        "id": "jEj4V9e6s305",
        "outputId": "76492458-1e17-4a5f-971e-43c7ac815956"
      },
      "source": [
        "# Displaying results\n",
        "print(\"Confusion Matrix\")\n",
        "display(cm_df)\n",
        "print(f\"Accuracy Score : {acc_score}\")\n",
        "print(\"Classification Report\")\n",
        "print(classification_report(y_test, predictions))"
      ],
      "execution_count": 17,
      "outputs": [
        {
          "output_type": "stream",
          "text": [
            "Confusion Matrix\n"
          ],
          "name": "stdout"
        },
        {
          "output_type": "display_data",
          "data": {
            "text/html": [
              "<div>\n",
              "<style scoped>\n",
              "    .dataframe tbody tr th:only-of-type {\n",
              "        vertical-align: middle;\n",
              "    }\n",
              "\n",
              "    .dataframe tbody tr th {\n",
              "        vertical-align: top;\n",
              "    }\n",
              "\n",
              "    .dataframe thead th {\n",
              "        text-align: right;\n",
              "    }\n",
              "</style>\n",
              "<table border=\"1\" class=\"dataframe\">\n",
              "  <thead>\n",
              "    <tr style=\"text-align: right;\">\n",
              "      <th></th>\n",
              "      <th>Predicted 1</th>\n",
              "      <th>Predicted 2</th>\n",
              "      <th>Predicted 3</th>\n",
              "    </tr>\n",
              "  </thead>\n",
              "  <tbody>\n",
              "    <tr>\n",
              "      <th>Actual 1</th>\n",
              "      <td>15</td>\n",
              "      <td>138</td>\n",
              "      <td>0</td>\n",
              "    </tr>\n",
              "    <tr>\n",
              "      <th>Actual 2</th>\n",
              "      <td>1</td>\n",
              "      <td>3109</td>\n",
              "      <td>0</td>\n",
              "    </tr>\n",
              "    <tr>\n",
              "      <th>Actual 3</th>\n",
              "      <td>0</td>\n",
              "      <td>112</td>\n",
              "      <td>0</td>\n",
              "    </tr>\n",
              "  </tbody>\n",
              "</table>\n",
              "</div>"
            ],
            "text/plain": [
              "          Predicted 1  Predicted 2  Predicted 3\n",
              "Actual 1           15          138            0\n",
              "Actual 2            1         3109            0\n",
              "Actual 3            0          112            0"
            ]
          },
          "metadata": {
            "tags": []
          }
        },
        {
          "output_type": "stream",
          "text": [
            "Accuracy Score : 0.9256296296296296\n",
            "Classification Report\n",
            "              precision    recall  f1-score   support\n",
            "\n",
            "        -1.0       0.94      0.10      0.18       153\n",
            "         0.0       0.93      1.00      0.96      3110\n",
            "         1.0       0.00      0.00      0.00       112\n",
            "\n",
            "    accuracy                           0.93      3375\n",
            "   macro avg       0.62      0.37      0.38      3375\n",
            "weighted avg       0.90      0.93      0.89      3375\n",
            "\n"
          ],
          "name": "stdout"
        },
        {
          "output_type": "stream",
          "text": [
            "/usr/local/lib/python3.7/dist-packages/sklearn/metrics/_classification.py:1272: UndefinedMetricWarning: Precision and F-score are ill-defined and being set to 0.0 in labels with no predicted samples. Use `zero_division` parameter to control this behavior.\n",
            "  _warn_prf(average, modifier, msg_start, len(result))\n"
          ],
          "name": "stderr"
        }
      ]
    },
    {
      "cell_type": "code",
      "metadata": {
        "colab": {
          "base_uri": "https://localhost:8080/"
        },
        "id": "bCqPDjJy4Vfh",
        "outputId": "d4b87935-1a42-4160-f18d-3a5167e0fe68"
      },
      "source": [
        "print(\"Balanced accuracy score: %.4f\" % balanced_accuracy_score(y_test, predictions))"
      ],
      "execution_count": 18,
      "outputs": [
        {
          "output_type": "stream",
          "text": [
            "Balanced accuracy score: 0.3659\n"
          ],
          "name": "stdout"
        }
      ]
    },
    {
      "cell_type": "code",
      "metadata": {
        "colab": {
          "base_uri": "https://localhost:8080/"
        },
        "id": "whntprR47E6S",
        "outputId": "d38f96a7-daf3-4e21-9f01-0ea174163724"
      },
      "source": [
        "# Print the imbalanced classification report\n",
        "print('Classification Report Imbalanced')\n",
        "print(classification_report_imbalanced(y_test, predictions))"
      ],
      "execution_count": 19,
      "outputs": [
        {
          "output_type": "stream",
          "text": [
            "Classification Report Imbalanced\n",
            "                   pre       rec       spe        f1       geo       iba       sup\n",
            "\n",
            "       -1.0       0.94      0.10      1.00      0.18      0.31      0.09       153\n",
            "        0.0       0.93      1.00      0.06      0.96      0.24      0.06      3110\n",
            "        1.0       0.00      0.00      1.00      0.00      0.00      0.00       112\n",
            "\n",
            "avg / total       0.90      0.93      0.13      0.89      0.23      0.06      3375\n",
            "\n"
          ],
          "name": "stdout"
        },
        {
          "output_type": "stream",
          "text": [
            "/usr/local/lib/python3.7/dist-packages/sklearn/metrics/_classification.py:1272: UndefinedMetricWarning: Precision and F-score are ill-defined and being set to 0.0 in labels with no predicted samples. Use `zero_division` parameter to control this behavior.\n",
            "  _warn_prf(average, modifier, msg_start, len(result))\n"
          ],
          "name": "stderr"
        }
      ]
    },
    {
      "cell_type": "code",
      "metadata": {
        "id": "Bb4ub-tms6NN"
      },
      "source": [
        "# Get the feature importance array\n",
        "importances = rf_model.feature_importances_"
      ],
      "execution_count": 20,
      "outputs": []
    },
    {
      "cell_type": "code",
      "metadata": {
        "colab": {
          "base_uri": "https://localhost:8080/"
        },
        "id": "OeqkilpYs9D9",
        "outputId": "8f3ece3b-f56e-46eb-dcbd-b2c371466d48"
      },
      "source": [
        "# List the top 10 most important features\n",
        "importances_sorted = sorted(zip(rf_model.feature_importances_, X.columns), reverse=True)\n",
        "importances_sorted[:10]"
      ],
      "execution_count": 21,
      "outputs": [
        {
          "output_type": "execute_result",
          "data": {
            "text/plain": [
              "[(0.12157247110074909, 'close_edi'),\n",
              " (0.11791945520420151, 'cashnequsd'),\n",
              " (0.09753543957097024, 'marketcap'),\n",
              " (0.08775034782497046, 'pe'),\n",
              " (0.08498707097863292, 'netinccmnusd'),\n",
              " (0.06552304366955579, 'evebitda'),\n",
              " (0.06145932288410141, 'netmargin'),\n",
              " (0.059923153589691094, 'ev'),\n",
              " (0.03831274954287674, 'revenueusd'),\n",
              " (0.036953089358878075, 'ebitdausd')]"
            ]
          },
          "metadata": {
            "tags": []
          },
          "execution_count": 21
        }
      ]
    },
    {
      "cell_type": "code",
      "metadata": {
        "colab": {
          "base_uri": "https://localhost:8080/",
          "height": 298
        },
        "id": "qMhGO_L-tIrT",
        "outputId": "089b8245-36f9-4eeb-d616-5c466107ba59"
      },
      "source": [
        "# Visualize the features by importance\n",
        "importances_df = pd.DataFrame(sorted(zip(rf_model.feature_importances_, X.columns), reverse=True))\n",
        "importances_df.set_index(importances_df[1], inplace=True)\n",
        "importances_df.drop(columns=1, inplace=True)\n",
        "importances_df.rename(columns={0: 'Feature Importances'}, inplace=True)\n",
        "importances_sorted = importances_df.sort_values(by='Feature Importances')\n",
        "importances_sorted.plot(kind='barh', color='lightgreen', title= 'Features Importances', legend=False)"
      ],
      "execution_count": 22,
      "outputs": [
        {
          "output_type": "execute_result",
          "data": {
            "text/plain": [
              "<matplotlib.axes._subplots.AxesSubplot at 0x7fe945063d10>"
            ]
          },
          "metadata": {
            "tags": []
          },
          "execution_count": 22
        },
        {
          "output_type": "display_data",
          "data": {
            "image/png": "[encoded data removed]",
            "text/plain": [
              "<Figure size 432x288 with 1 Axes>"
            ]
          },
          "metadata": {
            "tags": [],
            "needs_background": "light"
          }
        }
      ]
    },
    {
      "cell_type": "code",
      "metadata": {
        "id": "Qf2AMXkk24mb"
      },
      "source": [
        "importances_sorted.to_csv('/content/drive/MyDrive/Project 2/Data/Data tables/smote_rf_importance_df.csv')"
      ],
      "execution_count": 45,
      "outputs": []
    },
    {
      "cell_type": "code",
      "metadata": {
        "colab": {
          "base_uri": "https://localhost:8080/"
        },
        "id": "n5RxkPLO-gar",
        "outputId": "51345e4b-a914-4581-bcfc-92061e898f47"
      },
      "source": [
        "# RANDOM OVERSAMPLING\n",
        "ros = RandomOverSampler(random_state=1)\n",
        "X_resampled, y_resampled = ros.fit_resample(X_train_scaled, y_train)\n",
        "Counter(y_resampled)"
      ],
      "execution_count": 47,
      "outputs": [
        {
          "output_type": "stream",
          "text": [
            "/usr/local/lib/python3.7/dist-packages/sklearn/utils/deprecation.py:87: FutureWarning:\n",
            "\n",
            "Function safe_indexing is deprecated; safe_indexing is deprecated in version 0.22 and will be removed in version 0.24.\n",
            "\n"
          ],
          "name": "stderr"
        },
        {
          "output_type": "execute_result",
          "data": {
            "text/plain": [
              "Counter({-1.0: 9360, 0.0: 9360, 1.0: 9360})"
            ]
          },
          "metadata": {
            "tags": []
          },
          "execution_count": 47
        }
      ]
    },
    {
      "cell_type": "code",
      "metadata": {
        "id": "UCh3Fe6jEYm9"
      },
      "source": [
        "# Create a random forest classifier\n",
        "rf_ro_model = RandomForestClassifier(n_estimators=100, max_depth=3, random_state=0)\n",
        "\n",
        "# Fit the model\n",
        "rf_ro_model = rf_ro_model.fit(X_resampled, y_resampled)\n",
        "\n",
        "# Make a prediction of \"y\" values from the X_test dataset\n",
        "predictions = rf_ro_model.predict(X_test_scaled)"
      ],
      "execution_count": 24,
      "outputs": []
    },
    {
      "cell_type": "code",
      "metadata": {
        "colab": {
          "base_uri": "https://localhost:8080/"
        },
        "id": "Ia8PziGeFPdi",
        "outputId": "6cb6ea78-ea00-4713-a449-e093b0ac5a56"
      },
      "source": [
        "# Display the confusion matrix\n",
        "y_pred = rf_ro_model.predict(X_test_scaled)\n",
        "confusion_matrix(y_test, y_pred)"
      ],
      "execution_count": 25,
      "outputs": [
        {
          "output_type": "execute_result",
          "data": {
            "text/plain": [
              "array([[ 121,   11,   21],\n",
              "       [ 605, 1219, 1286],\n",
              "       [   8,    7,   97]])"
            ]
          },
          "metadata": {
            "tags": []
          },
          "execution_count": 25
        }
      ]
    },
    {
      "cell_type": "code",
      "metadata": {
        "colab": {
          "base_uri": "https://localhost:8080/"
        },
        "id": "_eAMhNYXFwiE",
        "outputId": "861fe5a2-5bb6-493f-d6b8-71e003c1652f"
      },
      "source": [
        "balanced_accuracy_score(y_test, y_pred)"
      ],
      "execution_count": 26,
      "outputs": [
        {
          "output_type": "execute_result",
          "data": {
            "text/plain": [
              "0.6829608388550131"
            ]
          },
          "metadata": {
            "tags": []
          },
          "execution_count": 26
        }
      ]
    },
    {
      "cell_type": "code",
      "metadata": {
        "colab": {
          "base_uri": "https://localhost:8080/"
        },
        "id": "hPjZFiG2F2I6",
        "outputId": "3bbd1a87-cbd4-44f7-e7f5-ced6edf9e49a"
      },
      "source": [
        "# Print the imbalanced classification report\n",
        "print(classification_report_imbalanced(y_test, y_pred))"
      ],
      "execution_count": 27,
      "outputs": [
        {
          "output_type": "stream",
          "text": [
            "                   pre       rec       spe        f1       geo       iba       sup\n",
            "\n",
            "       -1.0       0.16      0.79      0.81      0.27      0.80      0.64       153\n",
            "        0.0       0.99      0.39      0.93      0.56      0.60      0.35      3110\n",
            "        1.0       0.07      0.87      0.60      0.13      0.72      0.53       112\n",
            "\n",
            "avg / total       0.92      0.43      0.92      0.53      0.62      0.37      3375\n",
            "\n"
          ],
          "name": "stdout"
        }
      ]
    },
    {
      "cell_type": "code",
      "metadata": {
        "id": "auEJ67VKL_qe"
      },
      "source": [
        "# Get the feature importance array\n",
        "importances = rf_ro_model.feature_importances_"
      ],
      "execution_count": 28,
      "outputs": []
    },
    {
      "cell_type": "code",
      "metadata": {
        "colab": {
          "base_uri": "https://localhost:8080/"
        },
        "id": "JnfVcpy4MEjU",
        "outputId": "cc23a00d-f3e7-4304-f06f-289009652a3b"
      },
      "source": [
        "# List the top 10 most important features\n",
        "importances_sorted = sorted(zip(rf_ro_model.feature_importances_, X.columns), reverse=True)\n",
        "importances_sorted[:10]"
      ],
      "execution_count": 29,
      "outputs": [
        {
          "output_type": "execute_result",
          "data": {
            "text/plain": [
              "[(0.21726248523626118, 'pe'),\n",
              " (0.11529864989334333, 'evebitda'),\n",
              " (0.05798259762550693, 'percent_fred_macro_yc_30_yr'),\n",
              " (0.05287137848466897, 'netmargin'),\n",
              " (0.04875374017856446, 'debtusd'),\n",
              " (0.04717881772630779, 'pb'),\n",
              " (0.04646088205417986, 'close_edi'),\n",
              " (0.04054533130447552, 'equityusd'),\n",
              " (0.03945208664433384, 'netinccmnusd'),\n",
              " (0.03884983707891493, 'percentchange_fred_macro_gdp')]"
            ]
          },
          "metadata": {
            "tags": []
          },
          "execution_count": 29
        }
      ]
    },
    {
      "cell_type": "code",
      "metadata": {
        "colab": {
          "base_uri": "https://localhost:8080/",
          "height": 298
        },
        "id": "NzV7_Ln3MTx5",
        "outputId": "5ca10e66-c582-4e32-81d6-05abb4defdb2"
      },
      "source": [
        "# Visualize the features by importance\n",
        "importances_df = pd.DataFrame(sorted(zip(rf_ro_model.feature_importances_, X.columns), reverse=True))\n",
        "importances_df.set_index(importances_df[1], inplace=True)\n",
        "importances_df.drop(columns=1, inplace=True)\n",
        "importances_df.rename(columns={0: 'Feature Importances'}, inplace=True)\n",
        "importances_sorted = importances_df.sort_values(by='Feature Importances')\n",
        "importances_sorted.plot(kind='barh', color='lightgreen', title= 'Features Importances', legend=False)"
      ],
      "execution_count": 30,
      "outputs": [
        {
          "output_type": "execute_result",
          "data": {
            "text/plain": [
              "<matplotlib.axes._subplots.AxesSubplot at 0x7fe944f1c850>"
            ]
          },
          "metadata": {
            "tags": []
          },
          "execution_count": 30
        },
        {
          "output_type": "display_data",
          "data": {
            "image/png": "[encoded data removed]",
            "text/plain": [
              "<Figure size 432x288 with 1 Axes>"
            ]
          },
          "metadata": {
            "tags": [],
            "needs_background": "light"
          }
        }
      ]
    },
    {
      "cell_type": "code",
      "metadata": {
        "id": "frl0fNwmO6G7"
      },
      "source": [
        "# PRECISION RECALL CURVE"
      ],
      "execution_count": null,
      "outputs": []
    },
    {
      "cell_type": "code",
      "metadata": {
        "id": "buCeVqwlO9Qz"
      },
      "source": [
        "from sklearn.metrics import precision_recall_curve\n",
        "\n",
        "probs_lr = rf_model.predict_proba(X_test)[:, 1]\n",
        "probs_rf = rf_ro_model.predict_proba(X_test)[:, 1]\n",
        "precision_lr, recall_lr, _ = precision_recall_curve(y_test, probs_lr, pos_label=1)\n",
        "precision_rf, recall_rf, _ = precision_recall_curve(y_test, probs_rf, pos_label=1)"
      ],
      "execution_count": 31,
      "outputs": []
    },
    {
      "cell_type": "code",
      "metadata": {
        "colab": {
          "base_uri": "https://localhost:8080/",
          "height": 282
        },
        "id": "IToRio6lPpGr",
        "outputId": "0ec7236d-829c-40f3-c754-1d56642edc96"
      },
      "source": [
        "plt.plot(recall_lr, precision_lr, marker='.')\n",
        "plt.plot(recall_rf, precision_rf, marker='x')"
      ],
      "execution_count": 32,
      "outputs": [
        {
          "output_type": "execute_result",
          "data": {
            "text/plain": [
              "[<matplotlib.lines.Line2D at 0x7fe944900910>]"
            ]
          },
          "metadata": {
            "tags": []
          },
          "execution_count": 32
        },
        {
          "output_type": "display_data",
          "data": {
            "image/png": "[encoded data removed]",
            "text/plain": [
              "<Figure size 432x288 with 1 Axes>"
            ]
          },
          "metadata": {
            "tags": [],
            "needs_background": "light"
          }
        }
      ]
    },
    {
      "cell_type": "code",
      "metadata": {
        "colab": {
          "base_uri": "https://localhost:8080/"
        },
        "id": "eVNHJkW1GAo5",
        "outputId": "ececc5dd-cec6-497f-d98a-6b1cc7c540d9"
      },
      "source": [
        "# SMOTE OVERSAMPLING\n",
        "X_resampled, y_resampled = SMOTE(random_state=1, sampling_strategy= {-1:10000, 0:10000, 1:10000}).fit_resample(\n",
        "    X_train_scaled, y_train)\n",
        "\n",
        "Counter(y_resampled)"
      ],
      "execution_count": 33,
      "outputs": [
        {
          "output_type": "stream",
          "text": [
            "/usr/local/lib/python3.7/dist-packages/imblearn/utils/_validation.py:257: UserWarning: After over-sampling, the number of samples (10000) in class -1 will be larger than the number of samples in the majority class (class #0.0 -> 9360)\n",
            "  n_samples_majority))\n",
            "/usr/local/lib/python3.7/dist-packages/imblearn/utils/_validation.py:257: UserWarning: After over-sampling, the number of samples (10000) in class 0 will be larger than the number of samples in the majority class (class #0.0 -> 9360)\n",
            "  n_samples_majority))\n",
            "/usr/local/lib/python3.7/dist-packages/imblearn/utils/_validation.py:257: UserWarning: After over-sampling, the number of samples (10000) in class 1 will be larger than the number of samples in the majority class (class #0.0 -> 9360)\n",
            "  n_samples_majority))\n",
            "/usr/local/lib/python3.7/dist-packages/sklearn/utils/deprecation.py:87: FutureWarning: Function safe_indexing is deprecated; safe_indexing is deprecated in version 0.22 and will be removed in version 0.24.\n",
            "  warnings.warn(msg, category=FutureWarning)\n",
            "/usr/local/lib/python3.7/dist-packages/sklearn/utils/deprecation.py:87: FutureWarning: Function safe_indexing is deprecated; safe_indexing is deprecated in version 0.22 and will be removed in version 0.24.\n",
            "  warnings.warn(msg, category=FutureWarning)\n",
            "/usr/local/lib/python3.7/dist-packages/sklearn/utils/deprecation.py:87: FutureWarning: Function safe_indexing is deprecated; safe_indexing is deprecated in version 0.22 and will be removed in version 0.24.\n",
            "  warnings.warn(msg, category=FutureWarning)\n"
          ],
          "name": "stderr"
        },
        {
          "output_type": "execute_result",
          "data": {
            "text/plain": [
              "Counter({-1.0: 10000, 0.0: 10000, 1.0: 10000})"
            ]
          },
          "metadata": {
            "tags": []
          },
          "execution_count": 33
        }
      ]
    },
    {
      "cell_type": "code",
      "metadata": {
        "id": "TIyaFfTzGpO7"
      },
      "source": [
        "# Create a random forest classifier\n",
        "rf_model_SM = RandomForestClassifier(n_estimators=100, max_depth=3, random_state=0)\n",
        "\n",
        "# Fit the model\n",
        "rf_model_SM = rf_model_SM.fit(X_resampled, y_resampled)\n",
        "\n",
        "# Make a prediction of \"y\" values from the X_test dataset\n",
        "predictions = rf_model_SM.predict(X_test_scaled)"
      ],
      "execution_count": 34,
      "outputs": []
    },
    {
      "cell_type": "code",
      "metadata": {
        "colab": {
          "base_uri": "https://localhost:8080/"
        },
        "id": "CqctQImuGu-o",
        "outputId": "8c462595-6242-4271-b23a-85cf6f577384"
      },
      "source": [
        "# Display the confusion matrix\n",
        "y_pred = rf_model_SM.predict(X_test_scaled)\n",
        "confusion_matrix(y_test, y_pred)"
      ],
      "execution_count": 35,
      "outputs": [
        {
          "output_type": "execute_result",
          "data": {
            "text/plain": [
              "array([[ 115,   17,   21],\n",
              "       [ 636, 1186, 1288],\n",
              "       [  13,   12,   87]])"
            ]
          },
          "metadata": {
            "tags": []
          },
          "execution_count": 35
        }
      ]
    },
    {
      "cell_type": "code",
      "metadata": {
        "colab": {
          "base_uri": "https://localhost:8080/"
        },
        "id": "7xVqF2nkG50u",
        "outputId": "550b75b7-8479-431b-c679-53e23e5a4eb5"
      },
      "source": [
        "# Balanced accuracy score\n",
        "balanced_accuracy_score(y_test, y_pred)"
      ],
      "execution_count": 36,
      "outputs": [
        {
          "output_type": "execute_result",
          "data": {
            "text/plain": [
              "0.6365900611763106"
            ]
          },
          "metadata": {
            "tags": []
          },
          "execution_count": 36
        }
      ]
    },
    {
      "cell_type": "code",
      "metadata": {
        "colab": {
          "base_uri": "https://localhost:8080/"
        },
        "id": "Mib_U_bDG_Fd",
        "outputId": "7c4f8840-4351-4716-a970-76c2f69cfe28"
      },
      "source": [
        "# Print the imbalanced classification report\n",
        "print(classification_report_imbalanced(y_test, y_pred))"
      ],
      "execution_count": 37,
      "outputs": [
        {
          "output_type": "stream",
          "text": [
            "                   pre       rec       spe        f1       geo       iba       sup\n",
            "\n",
            "       -1.0       0.15      0.75      0.80      0.25      0.77      0.60       153\n",
            "        0.0       0.98      0.38      0.89      0.55      0.58      0.32      3110\n",
            "        1.0       0.06      0.78      0.60      0.12      0.68      0.47       112\n",
            "\n",
            "avg / total       0.91      0.41      0.88      0.52      0.59      0.34      3375\n",
            "\n"
          ],
          "name": "stdout"
        }
      ]
    },
    {
      "cell_type": "code",
      "metadata": {
        "colab": {
          "base_uri": "https://localhost:8080/"
        },
        "id": "KYD0fqCiHGBs",
        "outputId": "d1cb60a3-dae5-4cb6-f349-13b6e01c26e7"
      },
      "source": [
        "#SMOTEENN combination sampling\n",
        "sm = SMOTEENN(random_state=1)\n",
        "X_resampled, y_resampled = sm.fit_resample(X_train_scaled, y_train)\n",
        "Counter(y_resampled)"
      ],
      "execution_count": 38,
      "outputs": [
        {
          "output_type": "stream",
          "text": [
            "/usr/local/lib/python3.7/dist-packages/sklearn/utils/deprecation.py:87: FutureWarning: Function safe_indexing is deprecated; safe_indexing is deprecated in version 0.22 and will be removed in version 0.24.\n",
            "  warnings.warn(msg, category=FutureWarning)\n",
            "/usr/local/lib/python3.7/dist-packages/sklearn/utils/deprecation.py:87: FutureWarning: Function safe_indexing is deprecated; safe_indexing is deprecated in version 0.22 and will be removed in version 0.24.\n",
            "  warnings.warn(msg, category=FutureWarning)\n",
            "/usr/local/lib/python3.7/dist-packages/sklearn/utils/deprecation.py:87: FutureWarning: Function safe_indexing is deprecated; safe_indexing is deprecated in version 0.22 and will be removed in version 0.24.\n",
            "  warnings.warn(msg, category=FutureWarning)\n",
            "/usr/local/lib/python3.7/dist-packages/sklearn/utils/deprecation.py:87: FutureWarning: Function safe_indexing is deprecated; safe_indexing is deprecated in version 0.22 and will be removed in version 0.24.\n",
            "  warnings.warn(msg, category=FutureWarning)\n",
            "/usr/local/lib/python3.7/dist-packages/sklearn/utils/deprecation.py:87: FutureWarning: Function safe_indexing is deprecated; safe_indexing is deprecated in version 0.22 and will be removed in version 0.24.\n",
            "  warnings.warn(msg, category=FutureWarning)\n",
            "/usr/local/lib/python3.7/dist-packages/sklearn/utils/deprecation.py:87: FutureWarning: Function safe_indexing is deprecated; safe_indexing is deprecated in version 0.22 and will be removed in version 0.24.\n",
            "  warnings.warn(msg, category=FutureWarning)\n"
          ],
          "name": "stderr"
        },
        {
          "output_type": "execute_result",
          "data": {
            "text/plain": [
              "Counter({-1.0: 9339, 0.0: 8372, 1.0: 9345})"
            ]
          },
          "metadata": {
            "tags": []
          },
          "execution_count": 38
        }
      ]
    },
    {
      "cell_type": "code",
      "metadata": {
        "id": "6RDgBDL9H-Kz"
      },
      "source": [
        "# Create a random forest classifier\n",
        "rf_model_SO = RandomForestClassifier(n_estimators=100, max_depth=3, random_state=0)\n",
        "\n",
        "# Fit the model\n",
        "rf_model_SO = rf_model_SO.fit(X_resampled, y_resampled)\n",
        "\n",
        "# Make a prediction of \"y\" values from the X_test dataset\n",
        "predictions = rf_model_SO.predict(X_test_scaled)"
      ],
      "execution_count": 39,
      "outputs": []
    },
    {
      "cell_type": "code",
      "metadata": {
        "colab": {
          "base_uri": "https://localhost:8080/"
        },
        "id": "WaNuVqYhH--B",
        "outputId": "4702abdc-7bfa-4627-b9f5-3474ffe2d1f6"
      },
      "source": [
        "# Display the confusion matrix\n",
        "y_pred = rf_model_SO.predict(X_test_scaled)\n",
        "confusion_matrix(y_test, y_pred)"
      ],
      "execution_count": 40,
      "outputs": [
        {
          "output_type": "execute_result",
          "data": {
            "text/plain": [
              "array([[ 126,    4,   23],\n",
              "       [ 738,  783, 1589],\n",
              "       [  14,    2,   96]])"
            ]
          },
          "metadata": {
            "tags": []
          },
          "execution_count": 40
        }
      ]
    },
    {
      "cell_type": "code",
      "metadata": {
        "colab": {
          "base_uri": "https://localhost:8080/"
        },
        "id": "8rG8s7VxIBIx",
        "outputId": "f3e535ef-6a6e-42d9-998b-5850916ab59b"
      },
      "source": [
        "# Balanced accuracy score\n",
        "balanced_accuracy_score(y_test, y_pred)"
      ],
      "execution_count": 41,
      "outputs": [
        {
          "output_type": "execute_result",
          "data": {
            "text/plain": [
              "0.6441469192178478"
            ]
          },
          "metadata": {
            "tags": []
          },
          "execution_count": 41
        }
      ]
    },
    {
      "cell_type": "code",
      "metadata": {
        "colab": {
          "base_uri": "https://localhost:8080/"
        },
        "id": "puB-fr2kIEHo",
        "outputId": "caad76aa-7cc3-4473-ceed-ff7d18f072a3"
      },
      "source": [
        "# Print the imbalanced classification report\n",
        "print(classification_report_imbalanced(y_test, y_pred))"
      ],
      "execution_count": 42,
      "outputs": [
        {
          "output_type": "stream",
          "text": [
            "                   pre       rec       spe        f1       geo       iba       sup\n",
            "\n",
            "       -1.0       0.14      0.82      0.77      0.24      0.79      0.63       153\n",
            "        0.0       0.99      0.25      0.98      0.40      0.50      0.23      3110\n",
            "        1.0       0.06      0.86      0.51      0.11      0.66      0.45       112\n",
            "\n",
            "avg / total       0.92      0.30      0.95      0.38      0.51      0.25      3375\n",
            "\n"
          ],
          "name": "stdout"
        }
      ]
    },
    {
      "cell_type": "code",
      "metadata": {
        "id": "ctN4qnyUNzr4"
      },
      "source": [
        "# BALANCED RANDOM FOREST CLASSIFIER"
      ],
      "execution_count": 43,
      "outputs": []
    },
    {
      "cell_type": "code",
      "metadata": {
        "colab": {
          "base_uri": "https://localhost:8080/",
          "height": 429
        },
        "id": "CulAzdAuN3Lv",
        "outputId": "931134c0-f3cb-47c5-edb6-5e87fd5dbe37"
      },
      "source": [
        "brf = BalancedRandomForestClassifier(n_estimators=200, max_depth = 10, random_state=0)\n",
        "brf.fit(X_train_scaled, y_train)"
      ],
      "execution_count": 44,
      "outputs": [
        {
          "output_type": "stream",
          "text": [
            "/usr/local/lib/python3.7/dist-packages/sklearn/utils/deprecation.py:87: FutureWarning: Function safe_indexing is deprecated; safe_indexing is deprecated in version 0.22 and will be removed in version 0.24.\n",
            "  warnings.warn(msg, category=FutureWarning)\n"
          ],
          "name": "stderr"
        },
        {
          "output_type": "error",
          "ename": "ValueError",
          "evalue": "ignored",
          "traceback": [
            "\u001b[0;31m---------------------------------------------------------------------------\u001b[0m",
            "\u001b[0;31mValueError\u001b[0m                                Traceback (most recent call last)",
            "\u001b[0;32m<ipython-input-44-bbfe09af3249>\u001b[0m in \u001b[0;36m<module>\u001b[0;34m()\u001b[0m\n\u001b[1;32m      1\u001b[0m \u001b[0mbrf\u001b[0m \u001b[0;34m=\u001b[0m \u001b[0mBalancedRandomForestClassifier\u001b[0m\u001b[0;34m(\u001b[0m\u001b[0mn_estimators\u001b[0m\u001b[0;34m=\u001b[0m\u001b[0;36m200\u001b[0m\u001b[0;34m,\u001b[0m \u001b[0mmax_depth\u001b[0m \u001b[0;34m=\u001b[0m \u001b[0;36m10\u001b[0m\u001b[0;34m,\u001b[0m \u001b[0mrandom_state\u001b[0m\u001b[0;34m=\u001b[0m\u001b[0;36m0\u001b[0m\u001b[0;34m)\u001b[0m\u001b[0;34m\u001b[0m\u001b[0;34m\u001b[0m\u001b[0m\n\u001b[0;32m----> 2\u001b[0;31m \u001b[0mbrf\u001b[0m\u001b[0;34m.\u001b[0m\u001b[0mfit\u001b[0m\u001b[0;34m(\u001b[0m\u001b[0mX_train_scaled\u001b[0m\u001b[0;34m,\u001b[0m \u001b[0my_train\u001b[0m\u001b[0;34m)\u001b[0m\u001b[0;34m\u001b[0m\u001b[0;34m\u001b[0m\u001b[0m\n\u001b[0m",
            "\u001b[0;32m/usr/local/lib/python3.7/dist-packages/imblearn/ensemble/_forest.py\u001b[0m in \u001b[0;36mfit\u001b[0;34m(self, X, y, sample_weight)\u001b[0m\n\u001b[1;32m    435\u001b[0m                         \u001b[0ms\u001b[0m\u001b[0;34m,\u001b[0m \u001b[0mt\u001b[0m\u001b[0;34m,\u001b[0m \u001b[0mself\u001b[0m\u001b[0;34m,\u001b[0m \u001b[0mX\u001b[0m\u001b[0;34m,\u001b[0m \u001b[0my\u001b[0m\u001b[0;34m,\u001b[0m \u001b[0msample_weight\u001b[0m\u001b[0;34m,\u001b[0m \u001b[0mi\u001b[0m\u001b[0;34m,\u001b[0m \u001b[0mlen\u001b[0m\u001b[0;34m(\u001b[0m\u001b[0mtrees\u001b[0m\u001b[0;34m)\u001b[0m\u001b[0;34m,\u001b[0m\u001b[0;34m\u001b[0m\u001b[0;34m\u001b[0m\u001b[0m\n\u001b[1;32m    436\u001b[0m                         verbose=self.verbose, class_weight=self.class_weight)\n\u001b[0;32m--> 437\u001b[0;31m                     for i, (s, t) in enumerate(zip(samplers, trees)))\n\u001b[0m\u001b[1;32m    438\u001b[0m             \u001b[0msamplers\u001b[0m\u001b[0;34m,\u001b[0m \u001b[0mtrees\u001b[0m \u001b[0;34m=\u001b[0m \u001b[0mzip\u001b[0m\u001b[0;34m(\u001b[0m\u001b[0;34m*\u001b[0m\u001b[0msamplers_trees\u001b[0m\u001b[0;34m)\u001b[0m\u001b[0;34m\u001b[0m\u001b[0;34m\u001b[0m\u001b[0m\n\u001b[1;32m    439\u001b[0m \u001b[0;34m\u001b[0m\u001b[0m\n",
            "\u001b[0;32m/usr/local/lib/python3.7/dist-packages/joblib/parallel.py\u001b[0m in \u001b[0;36m__call__\u001b[0;34m(self, iterable)\u001b[0m\n\u001b[1;32m   1039\u001b[0m             \u001b[0;31m# remaining jobs.\u001b[0m\u001b[0;34m\u001b[0m\u001b[0;34m\u001b[0m\u001b[0;34m\u001b[0m\u001b[0m\n\u001b[1;32m   1040\u001b[0m             \u001b[0mself\u001b[0m\u001b[0;34m.\u001b[0m\u001b[0m_iterating\u001b[0m \u001b[0;34m=\u001b[0m \u001b[0;32mFalse\u001b[0m\u001b[0;34m\u001b[0m\u001b[0;34m\u001b[0m\u001b[0m\n\u001b[0;32m-> 1041\u001b[0;31m             \u001b[0;32mif\u001b[0m \u001b[0mself\u001b[0m\u001b[0;34m.\u001b[0m\u001b[0mdispatch_one_batch\u001b[0m\u001b[0;34m(\u001b[0m\u001b[0miterator\u001b[0m\u001b[0;34m)\u001b[0m\u001b[0;34m:\u001b[0m\u001b[0;34m\u001b[0m\u001b[0;34m\u001b[0m\u001b[0m\n\u001b[0m\u001b[1;32m   1042\u001b[0m                 \u001b[0mself\u001b[0m\u001b[0;34m.\u001b[0m\u001b[0m_iterating\u001b[0m \u001b[0;34m=\u001b[0m \u001b[0mself\u001b[0m\u001b[0;34m.\u001b[0m\u001b[0m_original_iterator\u001b[0m \u001b[0;32mis\u001b[0m \u001b[0;32mnot\u001b[0m \u001b[0;32mNone\u001b[0m\u001b[0;34m\u001b[0m\u001b[0;34m\u001b[0m\u001b[0m\n\u001b[1;32m   1043\u001b[0m \u001b[0;34m\u001b[0m\u001b[0m\n",
            "\u001b[0;32m/usr/local/lib/python3.7/dist-packages/joblib/parallel.py\u001b[0m in \u001b[0;36mdispatch_one_batch\u001b[0;34m(self, iterator)\u001b[0m\n\u001b[1;32m    857\u001b[0m                 \u001b[0;32mreturn\u001b[0m \u001b[0;32mFalse\u001b[0m\u001b[0;34m\u001b[0m\u001b[0;34m\u001b[0m\u001b[0m\n\u001b[1;32m    858\u001b[0m             \u001b[0;32melse\u001b[0m\u001b[0;34m:\u001b[0m\u001b[0;34m\u001b[0m\u001b[0;34m\u001b[0m\u001b[0m\n\u001b[0;32m--> 859\u001b[0;31m                 \u001b[0mself\u001b[0m\u001b[0;34m.\u001b[0m\u001b[0m_dispatch\u001b[0m\u001b[0;34m(\u001b[0m\u001b[0mtasks\u001b[0m\u001b[0;34m)\u001b[0m\u001b[0;34m\u001b[0m\u001b[0;34m\u001b[0m\u001b[0m\n\u001b[0m\u001b[1;32m    860\u001b[0m                 \u001b[0;32mreturn\u001b[0m \u001b[0;32mTrue\u001b[0m\u001b[0;34m\u001b[0m\u001b[0;34m\u001b[0m\u001b[0m\n\u001b[1;32m    861\u001b[0m \u001b[0;34m\u001b[0m\u001b[0m\n",
            "\u001b[0;32m/usr/local/lib/python3.7/dist-packages/joblib/parallel.py\u001b[0m in \u001b[0;36m_dispatch\u001b[0;34m(self, batch)\u001b[0m\n\u001b[1;32m    775\u001b[0m         \u001b[0;32mwith\u001b[0m \u001b[0mself\u001b[0m\u001b[0;34m.\u001b[0m\u001b[0m_lock\u001b[0m\u001b[0;34m:\u001b[0m\u001b[0;34m\u001b[0m\u001b[0;34m\u001b[0m\u001b[0m\n\u001b[1;32m    776\u001b[0m             \u001b[0mjob_idx\u001b[0m \u001b[0;34m=\u001b[0m \u001b[0mlen\u001b[0m\u001b[0;34m(\u001b[0m\u001b[0mself\u001b[0m\u001b[0;34m.\u001b[0m\u001b[0m_jobs\u001b[0m\u001b[0;34m)\u001b[0m\u001b[0;34m\u001b[0m\u001b[0;34m\u001b[0m\u001b[0m\n\u001b[0;32m--> 777\u001b[0;31m             \u001b[0mjob\u001b[0m \u001b[0;34m=\u001b[0m \u001b[0mself\u001b[0m\u001b[0;34m.\u001b[0m\u001b[0m_backend\u001b[0m\u001b[0;34m.\u001b[0m\u001b[0mapply_async\u001b[0m\u001b[0;34m(\u001b[0m\u001b[0mbatch\u001b[0m\u001b[0;34m,\u001b[0m \u001b[0mcallback\u001b[0m\u001b[0;34m=\u001b[0m\u001b[0mcb\u001b[0m\u001b[0;34m)\u001b[0m\u001b[0;34m\u001b[0m\u001b[0;34m\u001b[0m\u001b[0m\n\u001b[0m\u001b[1;32m    778\u001b[0m             \u001b[0;31m# A job can complete so quickly than its callback is\u001b[0m\u001b[0;34m\u001b[0m\u001b[0;34m\u001b[0m\u001b[0;34m\u001b[0m\u001b[0m\n\u001b[1;32m    779\u001b[0m             \u001b[0;31m# called before we get here, causing self._jobs to\u001b[0m\u001b[0;34m\u001b[0m\u001b[0;34m\u001b[0m\u001b[0;34m\u001b[0m\u001b[0m\n",
            "\u001b[0;32m/usr/local/lib/python3.7/dist-packages/joblib/_parallel_backends.py\u001b[0m in \u001b[0;36mapply_async\u001b[0;34m(self, func, callback)\u001b[0m\n\u001b[1;32m    206\u001b[0m     \u001b[0;32mdef\u001b[0m \u001b[0mapply_async\u001b[0m\u001b[0;34m(\u001b[0m\u001b[0mself\u001b[0m\u001b[0;34m,\u001b[0m \u001b[0mfunc\u001b[0m\u001b[0;34m,\u001b[0m \u001b[0mcallback\u001b[0m\u001b[0;34m=\u001b[0m\u001b[0;32mNone\u001b[0m\u001b[0;34m)\u001b[0m\u001b[0;34m:\u001b[0m\u001b[0;34m\u001b[0m\u001b[0;34m\u001b[0m\u001b[0m\n\u001b[1;32m    207\u001b[0m         \u001b[0;34m\"\"\"Schedule a func to be run\"\"\"\u001b[0m\u001b[0;34m\u001b[0m\u001b[0;34m\u001b[0m\u001b[0m\n\u001b[0;32m--> 208\u001b[0;31m         \u001b[0mresult\u001b[0m \u001b[0;34m=\u001b[0m \u001b[0mImmediateResult\u001b[0m\u001b[0;34m(\u001b[0m\u001b[0mfunc\u001b[0m\u001b[0;34m)\u001b[0m\u001b[0;34m\u001b[0m\u001b[0;34m\u001b[0m\u001b[0m\n\u001b[0m\u001b[1;32m    209\u001b[0m         \u001b[0;32mif\u001b[0m \u001b[0mcallback\u001b[0m\u001b[0;34m:\u001b[0m\u001b[0;34m\u001b[0m\u001b[0;34m\u001b[0m\u001b[0m\n\u001b[1;32m    210\u001b[0m             \u001b[0mcallback\u001b[0m\u001b[0;34m(\u001b[0m\u001b[0mresult\u001b[0m\u001b[0;34m)\u001b[0m\u001b[0;34m\u001b[0m\u001b[0;34m\u001b[0m\u001b[0m\n",
            "\u001b[0;32m/usr/local/lib/python3.7/dist-packages/joblib/_parallel_backends.py\u001b[0m in \u001b[0;36m__init__\u001b[0;34m(self, batch)\u001b[0m\n\u001b[1;32m    570\u001b[0m         \u001b[0;31m# Don't delay the application, to avoid keeping the input\u001b[0m\u001b[0;34m\u001b[0m\u001b[0;34m\u001b[0m\u001b[0;34m\u001b[0m\u001b[0m\n\u001b[1;32m    571\u001b[0m         \u001b[0;31m# arguments in memory\u001b[0m\u001b[0;34m\u001b[0m\u001b[0;34m\u001b[0m\u001b[0;34m\u001b[0m\u001b[0m\n\u001b[0;32m--> 572\u001b[0;31m         \u001b[0mself\u001b[0m\u001b[0;34m.\u001b[0m\u001b[0mresults\u001b[0m \u001b[0;34m=\u001b[0m \u001b[0mbatch\u001b[0m\u001b[0;34m(\u001b[0m\u001b[0;34m)\u001b[0m\u001b[0;34m\u001b[0m\u001b[0;34m\u001b[0m\u001b[0m\n\u001b[0m\u001b[1;32m    573\u001b[0m \u001b[0;34m\u001b[0m\u001b[0m\n\u001b[1;32m    574\u001b[0m     \u001b[0;32mdef\u001b[0m \u001b[0mget\u001b[0m\u001b[0;34m(\u001b[0m\u001b[0mself\u001b[0m\u001b[0;34m)\u001b[0m\u001b[0;34m:\u001b[0m\u001b[0;34m\u001b[0m\u001b[0;34m\u001b[0m\u001b[0m\n",
            "\u001b[0;32m/usr/local/lib/python3.7/dist-packages/joblib/parallel.py\u001b[0m in \u001b[0;36m__call__\u001b[0;34m(self)\u001b[0m\n\u001b[1;32m    261\u001b[0m         \u001b[0;32mwith\u001b[0m \u001b[0mparallel_backend\u001b[0m\u001b[0;34m(\u001b[0m\u001b[0mself\u001b[0m\u001b[0;34m.\u001b[0m\u001b[0m_backend\u001b[0m\u001b[0;34m,\u001b[0m \u001b[0mn_jobs\u001b[0m\u001b[0;34m=\u001b[0m\u001b[0mself\u001b[0m\u001b[0;34m.\u001b[0m\u001b[0m_n_jobs\u001b[0m\u001b[0;34m)\u001b[0m\u001b[0;34m:\u001b[0m\u001b[0;34m\u001b[0m\u001b[0;34m\u001b[0m\u001b[0m\n\u001b[1;32m    262\u001b[0m             return [func(*args, **kwargs)\n\u001b[0;32m--> 263\u001b[0;31m                     for func, args, kwargs in self.items]\n\u001b[0m\u001b[1;32m    264\u001b[0m \u001b[0;34m\u001b[0m\u001b[0m\n\u001b[1;32m    265\u001b[0m     \u001b[0;32mdef\u001b[0m \u001b[0m__reduce__\u001b[0m\u001b[0;34m(\u001b[0m\u001b[0mself\u001b[0m\u001b[0;34m)\u001b[0m\u001b[0;34m:\u001b[0m\u001b[0;34m\u001b[0m\u001b[0;34m\u001b[0m\u001b[0m\n",
            "\u001b[0;32m/usr/local/lib/python3.7/dist-packages/joblib/parallel.py\u001b[0m in \u001b[0;36m<listcomp>\u001b[0;34m(.0)\u001b[0m\n\u001b[1;32m    261\u001b[0m         \u001b[0;32mwith\u001b[0m \u001b[0mparallel_backend\u001b[0m\u001b[0;34m(\u001b[0m\u001b[0mself\u001b[0m\u001b[0;34m.\u001b[0m\u001b[0m_backend\u001b[0m\u001b[0;34m,\u001b[0m \u001b[0mn_jobs\u001b[0m\u001b[0;34m=\u001b[0m\u001b[0mself\u001b[0m\u001b[0;34m.\u001b[0m\u001b[0m_n_jobs\u001b[0m\u001b[0;34m)\u001b[0m\u001b[0;34m:\u001b[0m\u001b[0;34m\u001b[0m\u001b[0;34m\u001b[0m\u001b[0m\n\u001b[1;32m    262\u001b[0m             return [func(*args, **kwargs)\n\u001b[0;32m--> 263\u001b[0;31m                     for func, args, kwargs in self.items]\n\u001b[0m\u001b[1;32m    264\u001b[0m \u001b[0;34m\u001b[0m\u001b[0m\n\u001b[1;32m    265\u001b[0m     \u001b[0;32mdef\u001b[0m \u001b[0m__reduce__\u001b[0m\u001b[0;34m(\u001b[0m\u001b[0mself\u001b[0m\u001b[0;34m)\u001b[0m\u001b[0;34m:\u001b[0m\u001b[0;34m\u001b[0m\u001b[0;34m\u001b[0m\u001b[0m\n",
            "\u001b[0;32m/usr/local/lib/python3.7/dist-packages/imblearn/ensemble/_forest.py\u001b[0m in \u001b[0;36m_local_parallel_build_trees\u001b[0;34m(sampler, tree, forest, X, y, sample_weight, tree_idx, n_trees, verbose, class_weight)\u001b[0m\n\u001b[1;32m     42\u001b[0m     tree = _parallel_build_trees(tree, forest, X_resampled, y_resampled,\n\u001b[1;32m     43\u001b[0m                                  \u001b[0msample_weight\u001b[0m\u001b[0;34m,\u001b[0m \u001b[0mtree_idx\u001b[0m\u001b[0;34m,\u001b[0m \u001b[0mn_trees\u001b[0m\u001b[0;34m,\u001b[0m\u001b[0;34m\u001b[0m\u001b[0;34m\u001b[0m\u001b[0m\n\u001b[0;32m---> 44\u001b[0;31m                                  verbose=verbose, class_weight=class_weight)\n\u001b[0m\u001b[1;32m     45\u001b[0m     \u001b[0;32mreturn\u001b[0m \u001b[0msampler\u001b[0m\u001b[0;34m,\u001b[0m \u001b[0mtree\u001b[0m\u001b[0;34m\u001b[0m\u001b[0;34m\u001b[0m\u001b[0m\n\u001b[1;32m     46\u001b[0m \u001b[0;34m\u001b[0m\u001b[0m\n",
            "\u001b[0;32m/usr/local/lib/python3.7/dist-packages/sklearn/ensemble/_forest.py\u001b[0m in \u001b[0;36m_parallel_build_trees\u001b[0;34m(tree, forest, X, y, sample_weight, tree_idx, n_trees, verbose, class_weight, n_samples_bootstrap)\u001b[0m\n\u001b[1;32m    153\u001b[0m         indices = _generate_sample_indices(tree.random_state, n_samples,\n\u001b[1;32m    154\u001b[0m                                            n_samples_bootstrap)\n\u001b[0;32m--> 155\u001b[0;31m         \u001b[0msample_counts\u001b[0m \u001b[0;34m=\u001b[0m \u001b[0mnp\u001b[0m\u001b[0;34m.\u001b[0m\u001b[0mbincount\u001b[0m\u001b[0;34m(\u001b[0m\u001b[0mindices\u001b[0m\u001b[0;34m,\u001b[0m \u001b[0mminlength\u001b[0m\u001b[0;34m=\u001b[0m\u001b[0mn_samples\u001b[0m\u001b[0;34m)\u001b[0m\u001b[0;34m\u001b[0m\u001b[0;34m\u001b[0m\u001b[0m\n\u001b[0m\u001b[1;32m    156\u001b[0m         \u001b[0mcurr_sample_weight\u001b[0m \u001b[0;34m*=\u001b[0m \u001b[0msample_counts\u001b[0m\u001b[0;34m\u001b[0m\u001b[0;34m\u001b[0m\u001b[0m\n\u001b[1;32m    157\u001b[0m \u001b[0;34m\u001b[0m\u001b[0m\n",
            "\u001b[0;32m<__array_function__ internals>\u001b[0m in \u001b[0;36mbincount\u001b[0;34m(*args, **kwargs)\u001b[0m\n",
            "\u001b[0;31mValueError\u001b[0m: object of too small depth for desired array"
          ]
        }
      ]
    },
    {
      "cell_type": "code",
      "metadata": {
        "id": "TBnYyV3VOmgv"
      },
      "source": [
        "y_pred_rf = brf.predict(X_test)"
      ],
      "execution_count": null,
      "outputs": []
    }
  ]
}