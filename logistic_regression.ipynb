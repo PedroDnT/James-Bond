{
  "nbformat": 4,
  "nbformat_minor": 0,
  "metadata": {
    "colab": {
      "name": "logistic_regression.ipynb",
      "provenance": [],
      "collapsed_sections": [],
      "include_colab_link": true
    },
    "kernelspec": {
      "name": "python3",
      "display_name": "Python 3"
    },
    "language_info": {
      "name": "python"
    }
  },
  "cells": [
    {
      "cell_type": "markdown",
      "metadata": {
        "id": "view-in-github",
        "colab_type": "text"
      },
      "source": [
        "<a href=\"https://colab.research.google.com/github/saponew/James-Bond/blob/main/logistic_regression.ipynb\" target=\"_parent\"><img src=\"https://colab.research.google.com/assets/colab-badge.svg\" alt=\"Open In Colab\"/></a>"
      ]
    },
    {
      "cell_type": "code",
      "metadata": {
        "colab": {
          "base_uri": "https://localhost:8080/"
        },
        "id": "WZ75-xv0gdqu",
        "outputId": "149de0ca-9df2-478d-9c86-d1612a414915"
      },
      "source": [
        "from google.colab import drive\n",
        "drive.mount('/content/drive')"
      ],
      "execution_count": null,
      "outputs": [
        {
          "output_type": "stream",
          "text": [
            "Drive already mounted at /content/drive; to attempt to forcibly remount, call drive.mount(\"/content/drive\", force_remount=True).\n"
          ],
          "name": "stdout"
        }
      ]
    },
    {
      "cell_type": "code",
      "metadata": {
        "id": "vCMC5OUW-fia"
      },
      "source": [
        "%matplotlib inline\n",
        "import pandas as pd\n",
        "import numpy as np\n",
        "import matplotlib.pyplot as plt\n",
        "from pathlib import Path\n",
        "from sklearn.datasets import make_blobs\n",
        "\n",
        "from collections import Counter"
      ],
      "execution_count": null,
      "outputs": []
    },
    {
      "cell_type": "code",
      "metadata": {
        "id": "pq-PDuwZGnsr"
      },
      "source": [
        "from sklearn.metrics import balanced_accuracy_score\n",
        "from imblearn.metrics import classification_report_imbalanced"
      ],
      "execution_count": null,
      "outputs": []
    },
    {
      "cell_type": "code",
      "metadata": {
        "id": "x-GyfuA8sqjj"
      },
      "source": [
        "from pathlib import Path\n",
        "from sklearn.metrics import confusion_matrix\n",
        "from sklearn.metrics import classification_report\n",
        "from sklearn.model_selection import train_test_split\n",
        "from sklearn.linear_model import LogisticRegression"
      ],
      "execution_count": null,
      "outputs": []
    },
    {
      "cell_type": "code",
      "metadata": {
        "id": "pKBSelfnGsk0"
      },
      "source": [
        " from pathlib import Path\n",
        "csvpath = Path('/content/drive/MyDrive/Project_2/Data/Data tables/all_cusips_core_rating_shifted_df_v4_MACRO_FINAL.csv')\n",
        "df = pd.read_csv(csvpath, parse_dates=True, index_col='date_fundamentals')"
      ],
      "execution_count": null,
      "outputs": []
    },
    {
      "cell_type": "code",
      "metadata": {
        "id": "oXAoLH3Z_UF0"
      },
      "source": [
        "df['coupon_x'] = df['coupon_x'].apply(lambda x: x.replace('%', '').replace(',','')\n",
        "                                             if isinstance(x,str) else x).astype(float)"
      ],
      "execution_count": null,
      "outputs": []
    },
    {
      "cell_type": "code",
      "metadata": {
        "colab": {
          "base_uri": "https://localhost:8080/"
        },
        "id": "dNRMXTw52c-u",
        "outputId": "b6485085-29c8-4568-9dab-cadfb70a9cb9"
      },
      "source": [
        "df.info()"
      ],
      "execution_count": null,
      "outputs": [
        {
          "output_type": "stream",
          "text": [
            "<class 'pandas.core.frame.DataFrame'>\n",
            "DatetimeIndex: 41048 entries, 2009-07-08 to 2021-04-01\n",
            "Data columns (total 59 columns):\n",
            " #   Column                                      Non-Null Count  Dtype  \n",
            "---  ------                                      --------------  -----  \n",
            " 0   Unnamed: 0                                  41048 non-null  int64  \n",
            " 1   Unnamed: 0.1                                22192 non-null  float64\n",
            " 2   cusip_company_part                          41048 non-null  object \n",
            " 3   siccode_fundamentals                        41048 non-null  int64  \n",
            " 4   ticker_fundamentals                         41048 non-null  object \n",
            " 5   company_name_fundamentals                   41048 non-null  object \n",
            " 6   revenueusd                                  40969 non-null  float64\n",
            " 7   ebitdausd                                   40726 non-null  float64\n",
            " 8   ebitdamargin                                40713 non-null  float64\n",
            " 9   netinccmnusd                                40969 non-null  float64\n",
            " 10  netmargin                                   40956 non-null  float64\n",
            " 11  cashnequsd                                  41048 non-null  float64\n",
            " 12  workingcapital                              41048 non-null  float64\n",
            " 13  debtusd                                     41048 non-null  float64\n",
            " 14  liabilities                                 41048 non-null  float64\n",
            " 15  equityusd                                   41048 non-null  float64\n",
            " 16  marketcap                                   41048 non-null  float64\n",
            " 17  ev                                          41048 non-null  float64\n",
            " 18  fcf                                         40727 non-null  float64\n",
            " 19  ncfdebt                                     40728 non-null  float64\n",
            " 20  currentratio                                33161 non-null  float64\n",
            " 21  de                                          41048 non-null  float64\n",
            " 22  divyield                                    41028 non-null  float64\n",
            " 23  epsusd                                      40898 non-null  float64\n",
            " 24  payoutratio                                 40749 non-null  float64\n",
            " 25  evebitda                                    40728 non-null  float64\n",
            " 26  pb                                          41048 non-null  float64\n",
            " 27  pe                                          40872 non-null  float64\n",
            " 28  isin                                        41048 non-null  object \n",
            " 29  currency                                    41048 non-null  object \n",
            " 30  close_edi                                   41048 non-null  float64\n",
            " 31  mktclosedate                                41048 non-null  object \n",
            " 32  secid                                       41048 non-null  float64\n",
            " 33  uscode                                      40981 non-null  object \n",
            " 34  coupon_x                                    41048 non-null  float64\n",
            " 35  maturity_date                               41048 non-null  object \n",
            " 36  timedelta                                   41048 non-null  int64  \n",
            " 37  cusip                                       41048 non-null  object \n",
            " 38  maturity                                    37126 non-null  object \n",
            " 39  rating                                      37126 non-null  object \n",
            " 40  date                                        37126 non-null  object \n",
            " 41  coupon_y                                    37126 non-null  float64\n",
            " 42  issuer_cusip                                37126 non-null  object \n",
            " 43  rank                                        37126 non-null  float64\n",
            " 44  timedelta_2                                 37126 non-null  float64\n",
            " 45  date_fundamentals_shifted                   37332 non-null  object \n",
            " 46  rating_shifted                              34151 non-null  object \n",
            " 47  rank_shifted                                34151 non-null  float64\n",
            " 48  rank_diff                                   34151 non-null  float64\n",
            " 49  maturity_year                               41048 non-null  float64\n",
            " 50  rank_change                                 34151 non-null  float64\n",
            " 51  rank_change_2                               34151 non-null  float64\n",
            " 52  observed_date                               41048 non-null  object \n",
            " 53  percent_fred_macro_yc_30_yr                 41048 non-null  float64\n",
            " 54  percent_fred_macro_yc_3_mo                  41048 non-null  float64\n",
            " 55  percentchange_fred_macro_gdp                41048 non-null  float64\n",
            " 56  dollars_fred_crude_oil_prices               41048 non-null  float64\n",
            " 57  percent_fred_five_year_breakeven_inflation  41048 non-null  float64\n",
            " 58  index_fred_macro_vix                        41048 non-null  float64\n",
            "dtypes: float64(40), int64(3), object(16)\n",
            "memory usage: 18.8+ MB\n"
          ],
          "name": "stdout"
        }
      ]
    },
    {
      "cell_type": "code",
      "metadata": {
        "id": "UjQAVUFHDbir"
      },
      "source": [
        "# data wrangling\n",
        "df = df.drop(['Unnamed: 0', 'Unnamed: 0.1'], axis=1).dropna()\n",
        "df = df.loc[df['timedelta'] <= 60]"
      ],
      "execution_count": null,
      "outputs": []
    },
    {
      "cell_type": "code",
      "metadata": {
        "colab": {
          "base_uri": "https://localhost:8080/"
        },
        "id": "sachS0cL1XqU",
        "outputId": "d331d2a9-d89d-4075-bc1a-652c6f3168c1"
      },
      "source": [
        "df.shape"
      ],
      "execution_count": null,
      "outputs": [
        {
          "output_type": "execute_result",
          "data": {
            "text/plain": [
              "(13498, 57)"
            ]
          },
          "metadata": {
            "tags": []
          },
          "execution_count": 12
        }
      ]
    },
    {
      "cell_type": "code",
      "metadata": {
        "colab": {
          "base_uri": "https://localhost:8080/",
          "height": 255
        },
        "id": "NGKJKUkUhcj9",
        "outputId": "f1e5cf31-a856-4862-e65d-320dfdf2d8cc"
      },
      "source": [
        "# Set x variable list of features\n",
        "x_var_list = ['siccode_fundamentals', 'revenueusd', 'ebitdausd', 'ebitdamargin','netinccmnusd','netmargin','cashnequsd','workingcapital','debtusd','liabilities','equityusd','marketcap',\n",
        "              'ev','fcf','ncfdebt','currentratio','de','divyield','epsusd','payoutratio','evebitda','pb','pe','close_edi','coupon_x','percent_fred_macro_yc_30_yr',\n",
        "              'percent_fred_macro_yc_3_mo','percentchange_fred_macro_gdp','dollars_fred_crude_oil_prices','percent_fred_five_year_breakeven_inflation','index_fred_macro_vix','maturity_year']\n",
        "# Filter by x-variable list\n",
        "df[x_var_list].tail()"
      ],
      "execution_count": null,
      "outputs": [
        {
          "output_type": "execute_result",
          "data": {
            "text/html": [
              "<div>\n",
              "<style scoped>\n",
              "    .dataframe tbody tr th:only-of-type {\n",
              "        vertical-align: middle;\n",
              "    }\n",
              "\n",
              "    .dataframe tbody tr th {\n",
              "        vertical-align: top;\n",
              "    }\n",
              "\n",
              "    .dataframe thead th {\n",
              "        text-align: right;\n",
              "    }\n",
              "</style>\n",
              "<table border=\"1\" class=\"dataframe\">\n",
              "  <thead>\n",
              "    <tr style=\"text-align: right;\">\n",
              "      <th></th>\n",
              "      <th>siccode_fundamentals</th>\n",
              "      <th>revenueusd</th>\n",
              "      <th>ebitdausd</th>\n",
              "      <th>ebitdamargin</th>\n",
              "      <th>netinccmnusd</th>\n",
              "      <th>netmargin</th>\n",
              "      <th>cashnequsd</th>\n",
              "      <th>workingcapital</th>\n",
              "      <th>debtusd</th>\n",
              "      <th>liabilities</th>\n",
              "      <th>equityusd</th>\n",
              "      <th>marketcap</th>\n",
              "      <th>ev</th>\n",
              "      <th>fcf</th>\n",
              "      <th>ncfdebt</th>\n",
              "      <th>currentratio</th>\n",
              "      <th>de</th>\n",
              "      <th>divyield</th>\n",
              "      <th>epsusd</th>\n",
              "      <th>payoutratio</th>\n",
              "      <th>evebitda</th>\n",
              "      <th>pb</th>\n",
              "      <th>pe</th>\n",
              "      <th>close_edi</th>\n",
              "      <th>coupon_x</th>\n",
              "      <th>percent_fred_macro_yc_30_yr</th>\n",
              "      <th>percent_fred_macro_yc_3_mo</th>\n",
              "      <th>percentchange_fred_macro_gdp</th>\n",
              "      <th>dollars_fred_crude_oil_prices</th>\n",
              "      <th>percent_fred_five_year_breakeven_inflation</th>\n",
              "      <th>index_fred_macro_vix</th>\n",
              "      <th>maturity_year</th>\n",
              "    </tr>\n",
              "    <tr>\n",
              "      <th>date_fundamentals</th>\n",
              "      <th></th>\n",
              "      <th></th>\n",
              "      <th></th>\n",
              "      <th></th>\n",
              "      <th></th>\n",
              "      <th></th>\n",
              "      <th></th>\n",
              "      <th></th>\n",
              "      <th></th>\n",
              "      <th></th>\n",
              "      <th></th>\n",
              "      <th></th>\n",
              "      <th></th>\n",
              "      <th></th>\n",
              "      <th></th>\n",
              "      <th></th>\n",
              "      <th></th>\n",
              "      <th></th>\n",
              "      <th></th>\n",
              "      <th></th>\n",
              "      <th></th>\n",
              "      <th></th>\n",
              "      <th></th>\n",
              "      <th></th>\n",
              "      <th></th>\n",
              "      <th></th>\n",
              "      <th></th>\n",
              "      <th></th>\n",
              "      <th></th>\n",
              "      <th></th>\n",
              "      <th></th>\n",
              "      <th></th>\n",
              "    </tr>\n",
              "  </thead>\n",
              "  <tbody>\n",
              "    <tr>\n",
              "      <th>2020-12-18</th>\n",
              "      <td>3524</td>\n",
              "      <td>8.409570e+08</td>\n",
              "      <td>117440000.0</td>\n",
              "      <td>0.140</td>\n",
              "      <td>72196000.0</td>\n",
              "      <td>0.086</td>\n",
              "      <td>4.798920e+08</td>\n",
              "      <td>5.718510e+08</td>\n",
              "      <td>8.577640e+08</td>\n",
              "      <td>1.738400e+09</td>\n",
              "      <td>1.114828e+09</td>\n",
              "      <td>1.004494e+10</td>\n",
              "      <td>1.042282e+10</td>\n",
              "      <td>202057000.0</td>\n",
              "      <td>-100000000.0</td>\n",
              "      <td>1.668</td>\n",
              "      <td>1.559</td>\n",
              "      <td>0.011</td>\n",
              "      <td>0.67</td>\n",
              "      <td>0.373</td>\n",
              "      <td>20.186</td>\n",
              "      <td>9.010</td>\n",
              "      <td>30.467</td>\n",
              "      <td>132.717</td>\n",
              "      <td>7.80</td>\n",
              "      <td>1.68</td>\n",
              "      <td>0.08</td>\n",
              "      <td>33.1</td>\n",
              "      <td>47.02</td>\n",
              "      <td>1.92</td>\n",
              "      <td>21.93</td>\n",
              "      <td>6.493</td>\n",
              "    </tr>\n",
              "    <tr>\n",
              "      <th>2020-12-18</th>\n",
              "      <td>3826</td>\n",
              "      <td>1.483000e+09</td>\n",
              "      <td>378000000.0</td>\n",
              "      <td>0.255</td>\n",
              "      <td>222000000.0</td>\n",
              "      <td>0.150</td>\n",
              "      <td>1.441000e+09</td>\n",
              "      <td>1.948000e+09</td>\n",
              "      <td>2.359000e+09</td>\n",
              "      <td>4.754000e+09</td>\n",
              "      <td>4.873000e+09</td>\n",
              "      <td>3.650589e+10</td>\n",
              "      <td>3.742389e+10</td>\n",
              "      <td>350000000.0</td>\n",
              "      <td>35000000.0</td>\n",
              "      <td>2.328</td>\n",
              "      <td>0.976</td>\n",
              "      <td>0.006</td>\n",
              "      <td>0.72</td>\n",
              "      <td>0.250</td>\n",
              "      <td>30.475</td>\n",
              "      <td>7.491</td>\n",
              "      <td>50.773</td>\n",
              "      <td>104.236</td>\n",
              "      <td>3.20</td>\n",
              "      <td>1.68</td>\n",
              "      <td>0.08</td>\n",
              "      <td>33.1</td>\n",
              "      <td>47.02</td>\n",
              "      <td>1.92</td>\n",
              "      <td>21.93</td>\n",
              "      <td>1.786</td>\n",
              "    </tr>\n",
              "    <tr>\n",
              "      <th>2020-12-18</th>\n",
              "      <td>3826</td>\n",
              "      <td>1.483000e+09</td>\n",
              "      <td>378000000.0</td>\n",
              "      <td>0.255</td>\n",
              "      <td>222000000.0</td>\n",
              "      <td>0.150</td>\n",
              "      <td>1.441000e+09</td>\n",
              "      <td>1.948000e+09</td>\n",
              "      <td>2.359000e+09</td>\n",
              "      <td>4.754000e+09</td>\n",
              "      <td>4.873000e+09</td>\n",
              "      <td>3.650589e+10</td>\n",
              "      <td>3.742389e+10</td>\n",
              "      <td>350000000.0</td>\n",
              "      <td>35000000.0</td>\n",
              "      <td>2.328</td>\n",
              "      <td>0.976</td>\n",
              "      <td>0.006</td>\n",
              "      <td>0.72</td>\n",
              "      <td>0.250</td>\n",
              "      <td>30.475</td>\n",
              "      <td>7.491</td>\n",
              "      <td>50.773</td>\n",
              "      <td>104.236</td>\n",
              "      <td>3.20</td>\n",
              "      <td>1.68</td>\n",
              "      <td>0.08</td>\n",
              "      <td>33.1</td>\n",
              "      <td>47.02</td>\n",
              "      <td>1.92</td>\n",
              "      <td>21.93</td>\n",
              "      <td>1.786</td>\n",
              "    </tr>\n",
              "    <tr>\n",
              "      <th>2020-12-18</th>\n",
              "      <td>3826</td>\n",
              "      <td>1.483000e+09</td>\n",
              "      <td>378000000.0</td>\n",
              "      <td>0.255</td>\n",
              "      <td>222000000.0</td>\n",
              "      <td>0.150</td>\n",
              "      <td>1.441000e+09</td>\n",
              "      <td>1.948000e+09</td>\n",
              "      <td>2.359000e+09</td>\n",
              "      <td>4.754000e+09</td>\n",
              "      <td>4.873000e+09</td>\n",
              "      <td>3.650589e+10</td>\n",
              "      <td>3.742389e+10</td>\n",
              "      <td>350000000.0</td>\n",
              "      <td>35000000.0</td>\n",
              "      <td>2.328</td>\n",
              "      <td>0.976</td>\n",
              "      <td>0.006</td>\n",
              "      <td>0.72</td>\n",
              "      <td>0.250</td>\n",
              "      <td>30.475</td>\n",
              "      <td>7.491</td>\n",
              "      <td>50.773</td>\n",
              "      <td>109.804</td>\n",
              "      <td>3.05</td>\n",
              "      <td>1.68</td>\n",
              "      <td>0.08</td>\n",
              "      <td>33.1</td>\n",
              "      <td>47.02</td>\n",
              "      <td>1.92</td>\n",
              "      <td>21.93</td>\n",
              "      <td>5.764</td>\n",
              "    </tr>\n",
              "    <tr>\n",
              "      <th>2021-02-12</th>\n",
              "      <td>3663</td>\n",
              "      <td>2.273000e+09</td>\n",
              "      <td>683000000.0</td>\n",
              "      <td>0.300</td>\n",
              "      <td>412000000.0</td>\n",
              "      <td>0.181</td>\n",
              "      <td>1.254000e+09</td>\n",
              "      <td>8.380000e+08</td>\n",
              "      <td>5.577000e+09</td>\n",
              "      <td>1.141700e+10</td>\n",
              "      <td>-5.580000e+08</td>\n",
              "      <td>3.072765e+10</td>\n",
              "      <td>3.505065e+10</td>\n",
              "      <td>638000000.0</td>\n",
              "      <td>-203000000.0</td>\n",
              "      <td>1.240</td>\n",
              "      <td>-20.461</td>\n",
              "      <td>0.014</td>\n",
              "      <td>2.42</td>\n",
              "      <td>0.293</td>\n",
              "      <td>19.483</td>\n",
              "      <td>-55.067</td>\n",
              "      <td>32.379</td>\n",
              "      <td>110.250</td>\n",
              "      <td>5.22</td>\n",
              "      <td>1.94</td>\n",
              "      <td>0.05</td>\n",
              "      <td>4.0</td>\n",
              "      <td>57.95</td>\n",
              "      <td>2.35</td>\n",
              "      <td>21.25</td>\n",
              "      <td>76.685</td>\n",
              "    </tr>\n",
              "  </tbody>\n",
              "</table>\n",
              "</div>"
            ],
            "text/plain": [
              "                   siccode_fundamentals  ...  maturity_year\n",
              "date_fundamentals                        ...               \n",
              "2020-12-18                         3524  ...          6.493\n",
              "2020-12-18                         3826  ...          1.786\n",
              "2020-12-18                         3826  ...          1.786\n",
              "2020-12-18                         3826  ...          5.764\n",
              "2021-02-12                         3663  ...         76.685\n",
              "\n",
              "[5 rows x 32 columns]"
            ]
          },
          "metadata": {
            "tags": []
          },
          "execution_count": 13
        }
      ]
    },
    {
      "cell_type": "code",
      "metadata": {
        "id": "1SLtyLfqdDVm"
      },
      "source": [
        "# Features\n",
        "X = df[x_var_list]\n",
        "\n",
        "# Target\n",
        "y = df.rank_change_2"
      ],
      "execution_count": null,
      "outputs": []
    },
    {
      "cell_type": "code",
      "metadata": {
        "colab": {
          "base_uri": "https://localhost:8080/"
        },
        "id": "PvZQwrQi0zIw",
        "outputId": "9f02fc90-a34d-43ae-ca0c-028b75f78e7f"
      },
      "source": [
        "Counter(y)"
      ],
      "execution_count": null,
      "outputs": [
        {
          "output_type": "execute_result",
          "data": {
            "text/plain": [
              "Counter({0.0: 12470, 1.0: 1028})"
            ]
          },
          "metadata": {
            "tags": []
          },
          "execution_count": 15
        }
      ]
    },
    {
      "cell_type": "code",
      "metadata": {
        "id": "wAxYJ25HuRhV"
      },
      "source": [
        "# Train/Test Split\n",
        "X_train, X_test, y_train, y_test = train_test_split(X, y, random_state=1)"
      ],
      "execution_count": null,
      "outputs": []
    },
    {
      "cell_type": "code",
      "metadata": {
        "id": "9zJOSFfAeWlQ"
      },
      "source": [
        " # Create the StandardScaler instance\n",
        "from sklearn.preprocessing import StandardScaler\n",
        "scaler = StandardScaler()"
      ],
      "execution_count": null,
      "outputs": []
    },
    {
      "cell_type": "code",
      "metadata": {
        "id": "zCjhhKiGeWtL"
      },
      "source": [
        " # Fit the Standard Scaler with the training data\n",
        "# When fitting scaling functions, only train on the training dataset\n",
        "X_scaler = scaler.fit(X_train)"
      ],
      "execution_count": null,
      "outputs": []
    },
    {
      "cell_type": "code",
      "metadata": {
        "id": "u7Cby9U7eWzH"
      },
      "source": [
        " # Scale the training and testing data\n",
        "X_train_scaled = X_scaler.transform(X_train)\n",
        "X_test_scaled = X_scaler.transform(X_test)"
      ],
      "execution_count": null,
      "outputs": []
    },
    {
      "cell_type": "code",
      "metadata": {
        "colab": {
          "base_uri": "https://localhost:8080/"
        },
        "id": "D8FDW1xPcD-d",
        "outputId": "ade8d548-8600-4ae3-a7c5-5857a6a623f8"
      },
      "source": [
        "from sklearn.linear_model import LogisticRegression\n",
        "model = LogisticRegression(solver='lbfgs', random_state=1,max_iter=100)\n",
        "model.fit(X_train_scaled, y_train)"
      ],
      "execution_count": null,
      "outputs": [
        {
          "output_type": "execute_result",
          "data": {
            "text/plain": [
              "LogisticRegression(C=1.0, class_weight=None, dual=False, fit_intercept=True,\n",
              "                   intercept_scaling=1, l1_ratio=None, max_iter=100,\n",
              "                   multi_class='auto', n_jobs=None, penalty='l2',\n",
              "                   random_state=1, solver='lbfgs', tol=0.0001, verbose=0,\n",
              "                   warm_start=False)"
            ]
          },
          "metadata": {
            "tags": []
          },
          "execution_count": 23
        }
      ]
    },
    {
      "cell_type": "code",
      "metadata": {
        "colab": {
          "base_uri": "https://localhost:8080/"
        },
        "id": "N81AyoLEjtKE",
        "outputId": "2d42d9d3-d891-42be-d4a1-06b039af4a70"
      },
      "source": [
        "# Accuracy Score\n",
        "from sklearn.metrics import accuracy_score\n",
        "accuracy_score(y_test, y_pred)\n",
        "accuracy_score(y_test, y_pred, normalize=False)"
      ],
      "execution_count": null,
      "outputs": [
        {
          "output_type": "execute_result",
          "data": {
            "text/plain": [
              "3103"
            ]
          },
          "metadata": {
            "tags": []
          },
          "execution_count": 29
        }
      ]
    },
    {
      "cell_type": "code",
      "metadata": {
        "colab": {
          "base_uri": "https://localhost:8080/"
        },
        "id": "vBWit-lZkI1Z",
        "outputId": "d783c764-95af-493a-84f5-47095958871c"
      },
      "source": [
        "# Multilabel case with binary label indicators\n",
        "import numpy as np\n",
        "accuracy_score(np.array([[0, 1], [1, 1]]), np.ones((2, 2)))"
      ],
      "execution_count": null,
      "outputs": [
        {
          "output_type": "execute_result",
          "data": {
            "text/plain": [
              "0.5"
            ]
          },
          "metadata": {
            "tags": []
          },
          "execution_count": 40
        }
      ]
    },
    {
      "cell_type": "code",
      "metadata": {
        "colab": {
          "base_uri": "https://localhost:8080/"
        },
        "id": "SI32s3Z8cETT",
        "outputId": "10e8a42f-950d-4fbd-fc7a-ef1f02840914"
      },
      "source": [
        " # Calculated the balanced accuracy score\n",
        "from sklearn.metrics import balanced_accuracy_score\n",
        "y_pred = model.predict(X_test_scaled)\n",
        "print(\"Balanced Accuracy Score\")\n",
        "balanced_accuracy_score(y_test, y_pred)"
      ],
      "execution_count": null,
      "outputs": [
        {
          "output_type": "stream",
          "text": [
            "Balanced Accuracy Score\n"
          ],
          "name": "stdout"
        },
        {
          "output_type": "execute_result",
          "data": {
            "text/plain": [
              "0.532191798153699"
            ]
          },
          "metadata": {
            "tags": []
          },
          "execution_count": 41
        }
      ]
    },
    {
      "cell_type": "code",
      "metadata": {
        "colab": {
          "base_uri": "https://localhost:8080/"
        },
        "id": "cIdolasWcEaR",
        "outputId": "8ecfdec3-8f28-48f6-a5e6-48674e77666d"
      },
      "source": [
        "# Display the confusion matrix\n",
        "from sklearn.metrics import confusion_matrix\n",
        "confusion_matrix(y_test, y_pred)\n",
        "\n",
        "# Calculating the confusion matrix\n",
        "cm = confusion_matrix(y_test, y_pred)\n",
        "cm_df = pd.DataFrame(\n",
        "    cm, index=[\"Actual 0\", \"Actual +1\"],\n",
        "               columns=[\"Pred 0\", \"Pred 1\"])\n",
        "acc_score = accuracy_score(y_test, y_pred)\n",
        "\n",
        "\n",
        "print(f\"Accuracy Score : {acc_score}\")\n",
        "print(\"Classification Report\")\n",
        "print(classification_report(y_test, y_pred))\n"
      ],
      "execution_count": null,
      "outputs": [
        {
          "output_type": "stream",
          "text": [
            "Accuracy Score : 0.9194074074074075\n",
            "Classification Report\n",
            "              precision    recall  f1-score   support\n",
            "\n",
            "         0.0       0.92      1.00      0.96      3094\n",
            "         1.0       0.66      0.07      0.12       281\n",
            "\n",
            "    accuracy                           0.92      3375\n",
            "   macro avg       0.79      0.53      0.54      3375\n",
            "weighted avg       0.90      0.92      0.89      3375\n",
            "\n"
          ],
          "name": "stdout"
        }
      ]
    },
    {
      "cell_type": "code",
      "metadata": {
        "colab": {
          "base_uri": "https://localhost:8080/",
          "height": 128
        },
        "id": "dU3vZnBV3Vc0",
        "outputId": "8240d368-0708-476c-fa6f-85bd47e765bc"
      },
      "source": [
        "# Displaying results\n",
        "print(\"Confusion Matrix\")\n",
        "display(cm_df)"
      ],
      "execution_count": null,
      "outputs": [
        {
          "output_type": "stream",
          "text": [
            "Confusion Matrix\n"
          ],
          "name": "stdout"
        },
        {
          "output_type": "display_data",
          "data": {
            "text/html": [
              "<div>\n",
              "<style scoped>\n",
              "    .dataframe tbody tr th:only-of-type {\n",
              "        vertical-align: middle;\n",
              "    }\n",
              "\n",
              "    .dataframe tbody tr th {\n",
              "        vertical-align: top;\n",
              "    }\n",
              "\n",
              "    .dataframe thead th {\n",
              "        text-align: right;\n",
              "    }\n",
              "</style>\n",
              "<table border=\"1\" class=\"dataframe\">\n",
              "  <thead>\n",
              "    <tr style=\"text-align: right;\">\n",
              "      <th></th>\n",
              "      <th>Pred 0</th>\n",
              "      <th>Pred 1</th>\n",
              "    </tr>\n",
              "  </thead>\n",
              "  <tbody>\n",
              "    <tr>\n",
              "      <th>Actual 0</th>\n",
              "      <td>3084</td>\n",
              "      <td>10</td>\n",
              "    </tr>\n",
              "    <tr>\n",
              "      <th>Actual +1</th>\n",
              "      <td>262</td>\n",
              "      <td>19</td>\n",
              "    </tr>\n",
              "  </tbody>\n",
              "</table>\n",
              "</div>"
            ],
            "text/plain": [
              "           Pred 0  Pred 1\n",
              "Actual 0     3084      10\n",
              "Actual +1     262      19"
            ]
          },
          "metadata": {
            "tags": []
          }
        }
      ]
    },
    {
      "cell_type": "code",
      "metadata": {
        "colab": {
          "base_uri": "https://localhost:8080/"
        },
        "id": "SeuSH6WS2DtZ",
        "outputId": "f07a7278-8cc5-4f0c-e701-58fb1719eee1"
      },
      "source": [
        "print(\"Balanced accuracy score: %.4f\" % balanced_accuracy_score(y_test, y_pred))"
      ],
      "execution_count": null,
      "outputs": [
        {
          "output_type": "stream",
          "text": [
            "Balanced accuracy score: 0.5322\n"
          ],
          "name": "stdout"
        }
      ]
    },
    {
      "cell_type": "code",
      "metadata": {
        "colab": {
          "base_uri": "https://localhost:8080/"
        },
        "id": "ODh_EEYDcEhQ",
        "outputId": "e13320f7-fd92-4e9f-ddb0-58e20e055946"
      },
      "source": [
        "# Print the imbalanced classification report\n",
        "from imblearn.metrics import classification_report_imbalanced\n",
        "print(\"Classification Report\")\n",
        "print(classification_report_imbalanced(y_test, y_pred))"
      ],
      "execution_count": null,
      "outputs": [
        {
          "output_type": "stream",
          "text": [
            "Classification Report\n",
            "                   pre       rec       spe        f1       geo       iba       sup\n",
            "\n",
            "        0.0       0.92      1.00      0.07      0.96      0.26      0.07      3094\n",
            "        1.0       0.66      0.07      1.00      0.12      0.26      0.06       281\n",
            "\n",
            "avg / total       0.90      0.92      0.14      0.89      0.26      0.07      3375\n",
            "\n"
          ],
          "name": "stdout"
        }
      ]
    },
    {
      "cell_type": "code",
      "metadata": {
        "colab": {
          "base_uri": "https://localhost:8080/"
        },
        "id": "lQ_UY1MT0BQG",
        "outputId": "9d42ed10-d14c-4d9c-a4f0-69dfbc0a5b27"
      },
      "source": [
        "# get importance\n",
        "print(\"Importance Sort\")\n",
        "importance = model.coef_[0]\n",
        "importance_sorted = sorted(zip(abs(model.coef_[0]), X.columns), reverse=True)\n",
        "importance_sorted[:10]"
      ],
      "execution_count": null,
      "outputs": [
        {
          "output_type": "stream",
          "text": [
            "Importance Sort\n"
          ],
          "name": "stdout"
        },
        {
          "output_type": "execute_result",
          "data": {
            "text/plain": [
              "[(1.5538844960632416, 'workingcapital'),\n",
              " (1.3977204516699533, 'debtusd'),\n",
              " (1.1375732586625145, 'equityusd'),\n",
              " (1.0033776058142354, 'cashnequsd'),\n",
              " (0.7797566103835334, 'revenueusd'),\n",
              " (0.7381410977518041, 'de'),\n",
              " (0.7118451248334632, 'pb'),\n",
              " (0.5493278962442638, 'ncfdebt'),\n",
              " (0.44528326654006123, 'close_edi'),\n",
              " (0.35016829760504137, 'percent_fred_macro_yc_30_yr')]"
            ]
          },
          "metadata": {
            "tags": []
          },
          "execution_count": 44
        }
      ]
    },
    {
      "cell_type": "code",
      "metadata": {
        "colab": {
          "base_uri": "https://localhost:8080/"
        },
        "id": "HwugCYT2tZBL",
        "outputId": "be35d991-6e14-47b4-eee2-788b9a1d9704"
      },
      "source": [
        "res = [[ i for i, j in importance_sorted ],\n",
        "       [ j for i, j in importance_sorted ]]\n",
        "\n",
        "res"
      ],
      "execution_count": null,
      "outputs": [
        {
          "output_type": "execute_result",
          "data": {
            "text/plain": [
              "[[1.5538844960632416,\n",
              "  1.3977204516699533,\n",
              "  1.1375732586625145,\n",
              "  1.0033776058142354,\n",
              "  0.7797566103835334,\n",
              "  0.7381410977518041,\n",
              "  0.7118451248334632,\n",
              "  0.5493278962442638,\n",
              "  0.44528326654006123,\n",
              "  0.35016829760504137,\n",
              "  0.30321533728451044,\n",
              "  0.30224554794373887,\n",
              "  0.29668834349730255,\n",
              "  0.2070002540999206,\n",
              "  0.20162282080466237,\n",
              "  0.1855216472161447,\n",
              "  0.17576170778104028,\n",
              "  0.14969108353775495,\n",
              "  0.14174977564165897,\n",
              "  0.1316460100854604,\n",
              "  0.1274008618411762,\n",
              "  0.1227695598602552,\n",
              "  0.12019298725979381,\n",
              "  0.11236411556441578,\n",
              "  0.09079315996378838,\n",
              "  0.08638075859728551,\n",
              "  0.08231515079093481,\n",
              "  0.08090754839702823,\n",
              "  0.03266329217356769,\n",
              "  0.02745964175528988,\n",
              "  0.017332445921565746,\n",
              "  0.011512201594627397],\n",
              " ['workingcapital',\n",
              "  'debtusd',\n",
              "  'equityusd',\n",
              "  'cashnequsd',\n",
              "  'revenueusd',\n",
              "  'de',\n",
              "  'pb',\n",
              "  'ncfdebt',\n",
              "  'close_edi',\n",
              "  'percent_fred_macro_yc_30_yr',\n",
              "  'coupon_x',\n",
              "  'percent_fred_macro_yc_3_mo',\n",
              "  'marketcap',\n",
              "  'payoutratio',\n",
              "  'dollars_fred_crude_oil_prices',\n",
              "  'ebitdausd',\n",
              "  'percent_fred_five_year_breakeven_inflation',\n",
              "  'netmargin',\n",
              "  'divyield',\n",
              "  'epsusd',\n",
              "  'evebitda',\n",
              "  'currentratio',\n",
              "  'ev',\n",
              "  'siccode_fundamentals',\n",
              "  'liabilities',\n",
              "  'index_fred_macro_vix',\n",
              "  'maturity_year',\n",
              "  'ebitdamargin',\n",
              "  'netinccmnusd',\n",
              "  'percentchange_fred_macro_gdp',\n",
              "  'pe',\n",
              "  'fcf']]"
            ]
          },
          "metadata": {
            "tags": []
          },
          "execution_count": 45
        }
      ]
    },
    {
      "cell_type": "code",
      "metadata": {
        "id": "jlzdFWY7vhnv"
      },
      "source": [
        "df = pd.DataFrame({'importance':res[0],'feature':res[1]})"
      ],
      "execution_count": null,
      "outputs": []
    },
    {
      "cell_type": "code",
      "metadata": {
        "colab": {
          "base_uri": "https://localhost:8080/",
          "height": 638
        },
        "id": "74hkIWLUx6yv",
        "outputId": "ad681c28-7d49-48e8-f028-6f0aeb43c083"
      },
      "source": [
        "# logistic regression for feature importance\n",
        "from sklearn.datasets import make_classification\n",
        "from sklearn.linear_model import LogisticRegression\n",
        "from matplotlib import pyplot\n",
        "\n",
        "plt.figure(figsize=(35,10))\n",
        "plt.title('Top Ten Features', fontsize=33)\n",
        "plt.xlabel('Feature Label', fontsize=23)\n",
        "plt.ylabel('Absolute Coefficient', fontsize=23)\n",
        "\n",
        "pyplot.bar([x for x in range(10)], df['importance'].head(10), color='lightgreen')\n",
        "plt.xticks([x for x in range(10)],df['feature'][:10],rotation=10, )\n",
        "\n",
        "pyplot.xticks(fontsize=22)\n",
        "pyplot.yticks(fontsize=18)\n",
        "\n",
        "pyplot.show()"
      ],
      "execution_count": null,
      "outputs": [
        {
          "output_type": "display_data",
          "data": {
            "image/png": "[encoded data removed]",
            "text/plain": [
              "<Figure size 2520x720 with 1 Axes>"
            ]
          },
          "metadata": {
            "tags": [],
            "needs_background": "light"
          }
        }
      ]
    }
  ]
}