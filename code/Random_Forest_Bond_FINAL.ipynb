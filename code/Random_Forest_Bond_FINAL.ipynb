{
  "nbformat": 4,
  "nbformat_minor": 0,
  "metadata": {
    "colab": {
      "name": "Random Forest Bond FINAL.ipynb",
      "provenance": [],
      "include_colab_link": true
    },
    "kernelspec": {
      "display_name": "Python 3",
      "name": "python3"
    },
    "language_info": {
      "name": "python"
    }
  },
  "cells": [
    {
      "cell_type": "markdown",
      "metadata": {
        "id": "view-in-github",
        "colab_type": "text"
      },
      "source": [
        "<a href=\"https://colab.research.google.com/github/saponew/James-Bond/blob/main/Random_Forest_Bond_FINAL.ipynb\" target=\"_parent\"><img src=\"https://colab.research.google.com/assets/colab-badge.svg\" alt=\"Open In Colab\"/></a>"
      ]
    },
    {
      "cell_type": "code",
      "metadata": {
        "id": "sE3e7R-k_rLF"
      },
      "source": [
        "import pandas as pd\n",
        "import numpy as np\n",
        "from pathlib import Path\n",
        "%matplotlib inline"
      ],
      "execution_count": 2,
      "outputs": []
    },
    {
      "cell_type": "code",
      "metadata": {
        "id": "wzQxWrY0pJQR"
      },
      "source": [
        "import matplotlib.pyplot as plt\n",
        "from joblib import dump, load\n",
        "from sklearn.ensemble import RandomForestClassifier\n",
        "from sklearn.datasets import make_classification\n",
        "from sklearn.model_selection import train_test_split\n",
        "from sklearn.metrics import confusion_matrix, accuracy_score, classification_report, balanced_accuracy_score\n",
        "from sklearn.preprocessing import StandardScaler\n",
        "from collections import Counter\n",
        "from imblearn.over_sampling import RandomOverSampler, SMOTE\n",
        "from imblearn.metrics import classification_report_imbalanced\n",
        "from imblearn.combine import SMOTEENN\n",
        "from imblearn.ensemble import BalancedRandomForestClassifier"
      ],
      "execution_count": null,
      "outputs": []
    },
    {
      "cell_type": "code",
      "metadata": {
        "colab": {
          "base_uri": "https://localhost:8080/",
          "height": 904
        },
        "id": "Pn9sQyRcpK5Y",
        "outputId": "ad98a05e-a241-4c0e-94c8-ac1f13cfade0"
      },
      "source": [
        "# Set path to CSV\n",
        "data = Path('/content/drive/MyDrive/Bootcamp/Project_2/Data/Data tables/all_cusips_core_rating_shifted_df_v4_MACRO_FINAL.csv')\n",
        "df = pd.read_csv(data)\n",
        "print(df.info)\n",
        "print(df.columns)\n",
        "df.head(10)"
      ],
      "execution_count": 4,
      "outputs": [
        {
          "output_type": "stream",
          "text": [
            "<bound method DataFrame.info of        Unnamed: 0  ...  index_fred_macro_vix\n",
            "0               0  ...                 30.85\n",
            "1               1  ...                 25.02\n",
            "2               2  ...                 24.40\n",
            "3               3  ...                 23.43\n",
            "4               4  ...                 23.43\n",
            "...           ...  ...                   ...\n",
            "41043       41043  ...                 19.61\n",
            "41044       41044  ...                 19.61\n",
            "41045       41045  ...                 19.61\n",
            "41046       41046  ...                 19.61\n",
            "41047       41047  ...                 19.40\n",
            "\n",
            "[41048 rows x 60 columns]>\n",
            "Index(['Unnamed: 0', 'Unnamed: 0.1', 'date_fundamentals', 'cusip_company_part',\n",
            "       'siccode_fundamentals', 'ticker_fundamentals',\n",
            "       'company_name_fundamentals', 'revenueusd', 'ebitdausd', 'ebitdamargin',\n",
            "       'netinccmnusd', 'netmargin', 'cashnequsd', 'workingcapital', 'debtusd',\n",
            "       'liabilities', 'equityusd', 'marketcap', 'ev', 'fcf', 'ncfdebt',\n",
            "       'currentratio', 'de', 'divyield', 'epsusd', 'payoutratio', 'evebitda',\n",
            "       'pb', 'pe', 'isin', 'currency', 'close_edi', 'mktclosedate', 'secid',\n",
            "       'uscode', 'coupon_x', 'maturity_date', 'timedelta', 'cusip', 'maturity',\n",
            "       'rating', 'date', 'coupon_y', 'issuer_cusip', 'rank', 'timedelta_2',\n",
            "       'date_fundamentals_shifted', 'rating_shifted', 'rank_shifted',\n",
            "       'rank_diff', 'maturity_year', 'rank_change', 'rank_change_2',\n",
            "       'observed_date', 'percent_fred_macro_yc_30_yr',\n",
            "       'percent_fred_macro_yc_3_mo', 'percentchange_fred_macro_gdp',\n",
            "       'dollars_fred_crude_oil_prices',\n",
            "       'percent_fred_five_year_breakeven_inflation', 'index_fred_macro_vix'],\n",
            "      dtype='object')\n"
          ],
          "name": "stdout"
        },
        {
          "output_type": "execute_result",
          "data": {
            "text/html": [
              "<div>\n",
              "<style scoped>\n",
              "    .dataframe tbody tr th:only-of-type {\n",
              "        vertical-align: middle;\n",
              "    }\n",
              "\n",
              "    .dataframe tbody tr th {\n",
              "        vertical-align: top;\n",
              "    }\n",
              "\n",
              "    .dataframe thead th {\n",
              "        text-align: right;\n",
              "    }\n",
              "</style>\n",
              "<table border=\"1\" class=\"dataframe\">\n",
              "  <thead>\n",
              "    <tr style=\"text-align: right;\">\n",
              "      <th></th>\n",
              "      <th>Unnamed: 0</th>\n",
              "      <th>Unnamed: 0.1</th>\n",
              "      <th>date_fundamentals</th>\n",
              "      <th>cusip_company_part</th>\n",
              "      <th>siccode_fundamentals</th>\n",
              "      <th>ticker_fundamentals</th>\n",
              "      <th>company_name_fundamentals</th>\n",
              "      <th>revenueusd</th>\n",
              "      <th>ebitdausd</th>\n",
              "      <th>ebitdamargin</th>\n",
              "      <th>netinccmnusd</th>\n",
              "      <th>netmargin</th>\n",
              "      <th>cashnequsd</th>\n",
              "      <th>workingcapital</th>\n",
              "      <th>debtusd</th>\n",
              "      <th>liabilities</th>\n",
              "      <th>equityusd</th>\n",
              "      <th>marketcap</th>\n",
              "      <th>ev</th>\n",
              "      <th>fcf</th>\n",
              "      <th>ncfdebt</th>\n",
              "      <th>currentratio</th>\n",
              "      <th>de</th>\n",
              "      <th>divyield</th>\n",
              "      <th>epsusd</th>\n",
              "      <th>payoutratio</th>\n",
              "      <th>evebitda</th>\n",
              "      <th>pb</th>\n",
              "      <th>pe</th>\n",
              "      <th>isin</th>\n",
              "      <th>currency</th>\n",
              "      <th>close_edi</th>\n",
              "      <th>mktclosedate</th>\n",
              "      <th>secid</th>\n",
              "      <th>uscode</th>\n",
              "      <th>coupon_x</th>\n",
              "      <th>maturity_date</th>\n",
              "      <th>timedelta</th>\n",
              "      <th>cusip</th>\n",
              "      <th>maturity</th>\n",
              "      <th>rating</th>\n",
              "      <th>date</th>\n",
              "      <th>coupon_y</th>\n",
              "      <th>issuer_cusip</th>\n",
              "      <th>rank</th>\n",
              "      <th>timedelta_2</th>\n",
              "      <th>date_fundamentals_shifted</th>\n",
              "      <th>rating_shifted</th>\n",
              "      <th>rank_shifted</th>\n",
              "      <th>rank_diff</th>\n",
              "      <th>maturity_year</th>\n",
              "      <th>rank_change</th>\n",
              "      <th>rank_change_2</th>\n",
              "      <th>observed_date</th>\n",
              "      <th>percent_fred_macro_yc_30_yr</th>\n",
              "      <th>percent_fred_macro_yc_3_mo</th>\n",
              "      <th>percentchange_fred_macro_gdp</th>\n",
              "      <th>dollars_fred_crude_oil_prices</th>\n",
              "      <th>percent_fred_five_year_breakeven_inflation</th>\n",
              "      <th>index_fred_macro_vix</th>\n",
              "    </tr>\n",
              "  </thead>\n",
              "  <tbody>\n",
              "    <tr>\n",
              "      <th>0</th>\n",
              "      <td>0</td>\n",
              "      <td>0.0</td>\n",
              "      <td>2009-07-08</td>\n",
              "      <td>767754</td>\n",
              "      <td>5912</td>\n",
              "      <td>RAD</td>\n",
              "      <td>Rite Aid Corp</td>\n",
              "      <td>6.531178e+09</td>\n",
              "      <td>1.545970e+08</td>\n",
              "      <td>0.024</td>\n",
              "      <td>-98471000.0</td>\n",
              "      <td>-0.015</td>\n",
              "      <td>1.364590e+08</td>\n",
              "      <td>1.792586e+09</td>\n",
              "      <td>5.691324e+09</td>\n",
              "      <td>9.309811e+09</td>\n",
              "      <td>-1.290631e+09</td>\n",
              "      <td>1.159302e+09</td>\n",
              "      <td>6.714167e+09</td>\n",
              "      <td>315294016.0</td>\n",
              "      <td>-3.104920e+08</td>\n",
              "      <td>1.749</td>\n",
              "      <td>-7.213</td>\n",
              "      <td>0.000</td>\n",
              "      <td>-2.20</td>\n",
              "      <td>0.000</td>\n",
              "      <td>-4.539000</td>\n",
              "      <td>-0.898</td>\n",
              "      <td>-0.404</td>\n",
              "      <td>US767754AD64</td>\n",
              "      <td>USD</td>\n",
              "      <td>68.500</td>\n",
              "      <td>2009-06-19</td>\n",
              "      <td>681831.0</td>\n",
              "      <td>767754AD6</td>\n",
              "      <td>6.875%</td>\n",
              "      <td>2013-08-15</td>\n",
              "      <td>19</td>\n",
              "      <td>767754AD6</td>\n",
              "      <td>NaN</td>\n",
              "      <td>NaN</td>\n",
              "      <td>NaN</td>\n",
              "      <td>NaN</td>\n",
              "      <td>NaN</td>\n",
              "      <td>NaN</td>\n",
              "      <td>NaN</td>\n",
              "      <td>2010-01-06</td>\n",
              "      <td>NaN</td>\n",
              "      <td>NaN</td>\n",
              "      <td>NaN</td>\n",
              "      <td>4.107</td>\n",
              "      <td>NaN</td>\n",
              "      <td>NaN</td>\n",
              "      <td>2009-07-08</td>\n",
              "      <td>4.35</td>\n",
              "      <td>0.19</td>\n",
              "      <td>1.1</td>\n",
              "      <td>60.15</td>\n",
              "      <td>1.12</td>\n",
              "      <td>30.85</td>\n",
              "    </tr>\n",
              "    <tr>\n",
              "      <th>1</th>\n",
              "      <td>1</td>\n",
              "      <td>0.0</td>\n",
              "      <td>2009-07-15</td>\n",
              "      <td>001765</td>\n",
              "      <td>4512</td>\n",
              "      <td>AAMRQ</td>\n",
              "      <td>Amr Corp</td>\n",
              "      <td>4.889000e+09</td>\n",
              "      <td>-2.230000e+08</td>\n",
              "      <td>-0.046</td>\n",
              "      <td>-390000000.0</td>\n",
              "      <td>-0.080</td>\n",
              "      <td>6.510000e+08</td>\n",
              "      <td>-3.130000e+09</td>\n",
              "      <td>1.009200e+10</td>\n",
              "      <td>2.713800e+10</td>\n",
              "      <td>-3.000000e+09</td>\n",
              "      <td>1.220332e+09</td>\n",
              "      <td>1.066133e+10</td>\n",
              "      <td>48000000.0</td>\n",
              "      <td>-1.080000e+08</td>\n",
              "      <td>0.622</td>\n",
              "      <td>-9.046</td>\n",
              "      <td>0.000</td>\n",
              "      <td>-1.39</td>\n",
              "      <td>0.000</td>\n",
              "      <td>12.157000</td>\n",
              "      <td>-0.407</td>\n",
              "      <td>-1.151</td>\n",
              "      <td>US001765AU07</td>\n",
              "      <td>USD</td>\n",
              "      <td>64.000</td>\n",
              "      <td>2009-07-15</td>\n",
              "      <td>832734.0</td>\n",
              "      <td>001765AU0</td>\n",
              "      <td>9%</td>\n",
              "      <td>2012-08-01</td>\n",
              "      <td>0</td>\n",
              "      <td>001765AU0</td>\n",
              "      <td>NaN</td>\n",
              "      <td>NaN</td>\n",
              "      <td>NaN</td>\n",
              "      <td>NaN</td>\n",
              "      <td>NaN</td>\n",
              "      <td>NaN</td>\n",
              "      <td>NaN</td>\n",
              "      <td>2010-02-17</td>\n",
              "      <td>NaN</td>\n",
              "      <td>NaN</td>\n",
              "      <td>NaN</td>\n",
              "      <td>3.049</td>\n",
              "      <td>NaN</td>\n",
              "      <td>NaN</td>\n",
              "      <td>2009-07-15</td>\n",
              "      <td>4.25</td>\n",
              "      <td>0.18</td>\n",
              "      <td>1.1</td>\n",
              "      <td>61.49</td>\n",
              "      <td>1.27</td>\n",
              "      <td>25.02</td>\n",
              "    </tr>\n",
              "    <tr>\n",
              "      <th>2</th>\n",
              "      <td>2</td>\n",
              "      <td>0.0</td>\n",
              "      <td>2009-07-21</td>\n",
              "      <td>895953</td>\n",
              "      <td>5812</td>\n",
              "      <td>YUM</td>\n",
              "      <td>Yum Brands Inc</td>\n",
              "      <td>2.476000e+09</td>\n",
              "      <td>5.200000e+08</td>\n",
              "      <td>0.210</td>\n",
              "      <td>303000000.0</td>\n",
              "      <td>0.122</td>\n",
              "      <td>2.840000e+08</td>\n",
              "      <td>-4.810000e+08</td>\n",
              "      <td>3.548000e+09</td>\n",
              "      <td>6.367000e+09</td>\n",
              "      <td>4.760000e+08</td>\n",
              "      <td>1.557371e+10</td>\n",
              "      <td>1.883771e+10</td>\n",
              "      <td>6000000.0</td>\n",
              "      <td>9.000000e+06</td>\n",
              "      <td>0.690</td>\n",
              "      <td>13.376</td>\n",
              "      <td>0.023</td>\n",
              "      <td>0.65</td>\n",
              "      <td>0.292</td>\n",
              "      <td>9.145000</td>\n",
              "      <td>32.718</td>\n",
              "      <td>15.465</td>\n",
              "      <td>US895953AD96</td>\n",
              "      <td>USD</td>\n",
              "      <td>110.064</td>\n",
              "      <td>2009-07-21</td>\n",
              "      <td>682971.0</td>\n",
              "      <td>895953AD9</td>\n",
              "      <td>8.875%</td>\n",
              "      <td>2011-04-15</td>\n",
              "      <td>0</td>\n",
              "      <td>895953AD9</td>\n",
              "      <td>NaN</td>\n",
              "      <td>NaN</td>\n",
              "      <td>NaN</td>\n",
              "      <td>NaN</td>\n",
              "      <td>NaN</td>\n",
              "      <td>NaN</td>\n",
              "      <td>NaN</td>\n",
              "      <td>2010-02-17</td>\n",
              "      <td>NaN</td>\n",
              "      <td>NaN</td>\n",
              "      <td>NaN</td>\n",
              "      <td>1.734</td>\n",
              "      <td>NaN</td>\n",
              "      <td>NaN</td>\n",
              "      <td>2009-07-21</td>\n",
              "      <td>4.53</td>\n",
              "      <td>0.17</td>\n",
              "      <td>1.1</td>\n",
              "      <td>64.81</td>\n",
              "      <td>1.33</td>\n",
              "      <td>24.40</td>\n",
              "    </tr>\n",
              "    <tr>\n",
              "      <th>3</th>\n",
              "      <td>3</td>\n",
              "      <td>0.0</td>\n",
              "      <td>2009-07-24</td>\n",
              "      <td>693304</td>\n",
              "      <td>4931</td>\n",
              "      <td>EXC</td>\n",
              "      <td>Exelon Corp</td>\n",
              "      <td>4.141000e+09</td>\n",
              "      <td>1.898000e+09</td>\n",
              "      <td>0.458</td>\n",
              "      <td>657000000.0</td>\n",
              "      <td>0.159</td>\n",
              "      <td>1.884000e+09</td>\n",
              "      <td>1.659000e+09</td>\n",
              "      <td>1.288200e+10</td>\n",
              "      <td>3.673900e+10</td>\n",
              "      <td>1.215300e+10</td>\n",
              "      <td>3.588031e+10</td>\n",
              "      <td>4.687831e+10</td>\n",
              "      <td>365000000.0</td>\n",
              "      <td>-2.780000e+08</td>\n",
              "      <td>1.398</td>\n",
              "      <td>3.023</td>\n",
              "      <td>0.038</td>\n",
              "      <td>1.00</td>\n",
              "      <td>0.525</td>\n",
              "      <td>6.347000</td>\n",
              "      <td>2.952</td>\n",
              "      <td>12.925</td>\n",
              "      <td>US693304AB36</td>\n",
              "      <td>USD</td>\n",
              "      <td>108.312</td>\n",
              "      <td>2009-07-24</td>\n",
              "      <td>257507.0</td>\n",
              "      <td>693304AB3</td>\n",
              "      <td>5.95%</td>\n",
              "      <td>2011-11-01</td>\n",
              "      <td>0</td>\n",
              "      <td>693304AB3</td>\n",
              "      <td>NaN</td>\n",
              "      <td>NaN</td>\n",
              "      <td>NaN</td>\n",
              "      <td>NaN</td>\n",
              "      <td>NaN</td>\n",
              "      <td>NaN</td>\n",
              "      <td>NaN</td>\n",
              "      <td>2010-02-05</td>\n",
              "      <td>NaN</td>\n",
              "      <td>NaN</td>\n",
              "      <td>NaN</td>\n",
              "      <td>2.274</td>\n",
              "      <td>NaN</td>\n",
              "      <td>NaN</td>\n",
              "      <td>2009-07-24</td>\n",
              "      <td>4.45</td>\n",
              "      <td>0.19</td>\n",
              "      <td>1.1</td>\n",
              "      <td>66.96</td>\n",
              "      <td>1.39</td>\n",
              "      <td>23.43</td>\n",
              "    </tr>\n",
              "    <tr>\n",
              "      <th>4</th>\n",
              "      <td>4</td>\n",
              "      <td>0.0</td>\n",
              "      <td>2009-07-24</td>\n",
              "      <td>693304</td>\n",
              "      <td>4931</td>\n",
              "      <td>EXC</td>\n",
              "      <td>Exelon Corp</td>\n",
              "      <td>4.141000e+09</td>\n",
              "      <td>1.898000e+09</td>\n",
              "      <td>0.458</td>\n",
              "      <td>657000000.0</td>\n",
              "      <td>0.159</td>\n",
              "      <td>1.884000e+09</td>\n",
              "      <td>1.659000e+09</td>\n",
              "      <td>1.288200e+10</td>\n",
              "      <td>3.673900e+10</td>\n",
              "      <td>1.215300e+10</td>\n",
              "      <td>3.588031e+10</td>\n",
              "      <td>4.687831e+10</td>\n",
              "      <td>365000000.0</td>\n",
              "      <td>-2.780000e+08</td>\n",
              "      <td>1.398</td>\n",
              "      <td>3.023</td>\n",
              "      <td>0.038</td>\n",
              "      <td>1.00</td>\n",
              "      <td>0.525</td>\n",
              "      <td>6.347000</td>\n",
              "      <td>2.952</td>\n",
              "      <td>12.925</td>\n",
              "      <td>US693304AD91</td>\n",
              "      <td>USD</td>\n",
              "      <td>104.972</td>\n",
              "      <td>2009-07-24</td>\n",
              "      <td>257512.0</td>\n",
              "      <td>693304AD9</td>\n",
              "      <td>4.75%</td>\n",
              "      <td>2012-10-01</td>\n",
              "      <td>0</td>\n",
              "      <td>693304AD9</td>\n",
              "      <td>NaN</td>\n",
              "      <td>NaN</td>\n",
              "      <td>NaN</td>\n",
              "      <td>NaN</td>\n",
              "      <td>NaN</td>\n",
              "      <td>NaN</td>\n",
              "      <td>NaN</td>\n",
              "      <td>2010-02-05</td>\n",
              "      <td>NaN</td>\n",
              "      <td>NaN</td>\n",
              "      <td>NaN</td>\n",
              "      <td>3.192</td>\n",
              "      <td>NaN</td>\n",
              "      <td>NaN</td>\n",
              "      <td>2009-07-24</td>\n",
              "      <td>4.45</td>\n",
              "      <td>0.19</td>\n",
              "      <td>1.1</td>\n",
              "      <td>66.96</td>\n",
              "      <td>1.39</td>\n",
              "      <td>23.43</td>\n",
              "    </tr>\n",
              "    <tr>\n",
              "      <th>5</th>\n",
              "      <td>5</td>\n",
              "      <td>0.0</td>\n",
              "      <td>2009-07-31</td>\n",
              "      <td>665772</td>\n",
              "      <td>4931</td>\n",
              "      <td>XEL</td>\n",
              "      <td>Xcel Energy Inc</td>\n",
              "      <td>2.016083e+09</td>\n",
              "      <td>5.280670e+08</td>\n",
              "      <td>0.262</td>\n",
              "      <td>116046992.0</td>\n",
              "      <td>0.058</td>\n",
              "      <td>3.802530e+08</td>\n",
              "      <td>7.394000e+06</td>\n",
              "      <td>8.884389e+09</td>\n",
              "      <td>1.791353e+10</td>\n",
              "      <td>7.073723e+09</td>\n",
              "      <td>9.087161e+09</td>\n",
              "      <td>1.759130e+10</td>\n",
              "      <td>-156418000.0</td>\n",
              "      <td>3.258160e+08</td>\n",
              "      <td>1.003</td>\n",
              "      <td>2.532</td>\n",
              "      <td>0.048</td>\n",
              "      <td>0.25</td>\n",
              "      <td>0.980</td>\n",
              "      <td>7.146000</td>\n",
              "      <td>1.285</td>\n",
              "      <td>13.486</td>\n",
              "      <td>US665772BW80</td>\n",
              "      <td>USD</td>\n",
              "      <td>114.000</td>\n",
              "      <td>2009-07-31</td>\n",
              "      <td>961125.0</td>\n",
              "      <td>665772BW8</td>\n",
              "      <td>8%</td>\n",
              "      <td>2012-08-28</td>\n",
              "      <td>0</td>\n",
              "      <td>665772BW8</td>\n",
              "      <td>NaN</td>\n",
              "      <td>NaN</td>\n",
              "      <td>NaN</td>\n",
              "      <td>NaN</td>\n",
              "      <td>NaN</td>\n",
              "      <td>NaN</td>\n",
              "      <td>NaN</td>\n",
              "      <td>2010-02-26</td>\n",
              "      <td>NaN</td>\n",
              "      <td>NaN</td>\n",
              "      <td>NaN</td>\n",
              "      <td>3.079</td>\n",
              "      <td>NaN</td>\n",
              "      <td>NaN</td>\n",
              "      <td>2009-07-31</td>\n",
              "      <td>4.50</td>\n",
              "      <td>0.19</td>\n",
              "      <td>1.1</td>\n",
              "      <td>69.26</td>\n",
              "      <td>1.32</td>\n",
              "      <td>25.40</td>\n",
              "    </tr>\n",
              "    <tr>\n",
              "      <th>6</th>\n",
              "      <td>6</td>\n",
              "      <td>0.0</td>\n",
              "      <td>2009-07-31</td>\n",
              "      <td>854616</td>\n",
              "      <td>3420</td>\n",
              "      <td>SWK</td>\n",
              "      <td>Stanley Black &amp; Decker Inc</td>\n",
              "      <td>9.191999e+08</td>\n",
              "      <td>1.613000e+08</td>\n",
              "      <td>0.175</td>\n",
              "      <td>69500000.0</td>\n",
              "      <td>0.076</td>\n",
              "      <td>1.563000e+08</td>\n",
              "      <td>2.576000e+08</td>\n",
              "      <td>1.548300e+09</td>\n",
              "      <td>2.929800e+09</td>\n",
              "      <td>1.795700e+09</td>\n",
              "      <td>3.186122e+09</td>\n",
              "      <td>4.578122e+09</td>\n",
              "      <td>43000000.0</td>\n",
              "      <td>-5.700000e+06</td>\n",
              "      <td>1.230</td>\n",
              "      <td>1.632</td>\n",
              "      <td>0.032</td>\n",
              "      <td>0.88</td>\n",
              "      <td>0.364</td>\n",
              "      <td>7.488000</td>\n",
              "      <td>1.774</td>\n",
              "      <td>11.675</td>\n",
              "      <td>US854616AP49</td>\n",
              "      <td>USD</td>\n",
              "      <td>68.850</td>\n",
              "      <td>2009-07-31</td>\n",
              "      <td>1263850.0</td>\n",
              "      <td>854616AP4</td>\n",
              "      <td>5.902%</td>\n",
              "      <td>2045-12-01</td>\n",
              "      <td>0</td>\n",
              "      <td>854616AP4</td>\n",
              "      <td>NaN</td>\n",
              "      <td>NaN</td>\n",
              "      <td>NaN</td>\n",
              "      <td>NaN</td>\n",
              "      <td>NaN</td>\n",
              "      <td>NaN</td>\n",
              "      <td>NaN</td>\n",
              "      <td>2010-02-22</td>\n",
              "      <td>NaN</td>\n",
              "      <td>NaN</td>\n",
              "      <td>NaN</td>\n",
              "      <td>36.362</td>\n",
              "      <td>NaN</td>\n",
              "      <td>NaN</td>\n",
              "      <td>2009-07-31</td>\n",
              "      <td>4.50</td>\n",
              "      <td>0.19</td>\n",
              "      <td>1.1</td>\n",
              "      <td>69.26</td>\n",
              "      <td>1.32</td>\n",
              "      <td>25.40</td>\n",
              "    </tr>\n",
              "    <tr>\n",
              "      <th>7</th>\n",
              "      <td>7</td>\n",
              "      <td>0.0</td>\n",
              "      <td>2009-07-31</td>\n",
              "      <td>665772</td>\n",
              "      <td>4931</td>\n",
              "      <td>XEL</td>\n",
              "      <td>Xcel Energy Inc</td>\n",
              "      <td>2.016083e+09</td>\n",
              "      <td>5.280670e+08</td>\n",
              "      <td>0.262</td>\n",
              "      <td>116046992.0</td>\n",
              "      <td>0.058</td>\n",
              "      <td>3.802530e+08</td>\n",
              "      <td>7.394000e+06</td>\n",
              "      <td>8.884389e+09</td>\n",
              "      <td>1.791353e+10</td>\n",
              "      <td>7.073723e+09</td>\n",
              "      <td>9.087161e+09</td>\n",
              "      <td>1.759130e+10</td>\n",
              "      <td>-156418000.0</td>\n",
              "      <td>3.258160e+08</td>\n",
              "      <td>1.003</td>\n",
              "      <td>2.532</td>\n",
              "      <td>0.048</td>\n",
              "      <td>0.25</td>\n",
              "      <td>0.980</td>\n",
              "      <td>7.146000</td>\n",
              "      <td>1.285</td>\n",
              "      <td>13.486</td>\n",
              "      <td>US665772BZ12</td>\n",
              "      <td>USD</td>\n",
              "      <td>103.901</td>\n",
              "      <td>2009-07-31</td>\n",
              "      <td>950901.0</td>\n",
              "      <td>665772BZ1</td>\n",
              "      <td>4.75%</td>\n",
              "      <td>2010-08-01</td>\n",
              "      <td>0</td>\n",
              "      <td>665772BZ1</td>\n",
              "      <td>NaN</td>\n",
              "      <td>NaN</td>\n",
              "      <td>NaN</td>\n",
              "      <td>NaN</td>\n",
              "      <td>NaN</td>\n",
              "      <td>NaN</td>\n",
              "      <td>NaN</td>\n",
              "      <td>2010-02-26</td>\n",
              "      <td>NaN</td>\n",
              "      <td>NaN</td>\n",
              "      <td>NaN</td>\n",
              "      <td>1.003</td>\n",
              "      <td>NaN</td>\n",
              "      <td>NaN</td>\n",
              "      <td>2009-07-31</td>\n",
              "      <td>4.50</td>\n",
              "      <td>0.19</td>\n",
              "      <td>1.1</td>\n",
              "      <td>69.26</td>\n",
              "      <td>1.32</td>\n",
              "      <td>25.40</td>\n",
              "    </tr>\n",
              "    <tr>\n",
              "      <th>8</th>\n",
              "      <td>8</td>\n",
              "      <td>0.0</td>\n",
              "      <td>2009-08-03</td>\n",
              "      <td>74971X</td>\n",
              "      <td>4911</td>\n",
              "      <td>GEN1</td>\n",
              "      <td>GenOn Energy Inc</td>\n",
              "      <td>3.897770e+08</td>\n",
              "      <td>8.346350e+08</td>\n",
              "      <td>2.141</td>\n",
              "      <td>803566016.0</td>\n",
              "      <td>2.062</td>\n",
              "      <td>1.489743e+09</td>\n",
              "      <td>1.292527e+09</td>\n",
              "      <td>2.571300e+09</td>\n",
              "      <td>3.821343e+09</td>\n",
              "      <td>4.450892e+09</td>\n",
              "      <td>1.968300e+09</td>\n",
              "      <td>3.049857e+09</td>\n",
              "      <td>-135646000.0</td>\n",
              "      <td>-4.478000e+07</td>\n",
              "      <td>2.073</td>\n",
              "      <td>0.859</td>\n",
              "      <td>0.000</td>\n",
              "      <td>2.29</td>\n",
              "      <td>0.000</td>\n",
              "      <td>-3.025000</td>\n",
              "      <td>0.442</td>\n",
              "      <td>-2.390</td>\n",
              "      <td>US74971XAA54</td>\n",
              "      <td>USD</td>\n",
              "      <td>99.000</td>\n",
              "      <td>2009-08-03</td>\n",
              "      <td>1429184.0</td>\n",
              "      <td>74971XAA5</td>\n",
              "      <td>6.75%</td>\n",
              "      <td>2014-12-15</td>\n",
              "      <td>0</td>\n",
              "      <td>74971XAA5</td>\n",
              "      <td>NaN</td>\n",
              "      <td>NaN</td>\n",
              "      <td>NaN</td>\n",
              "      <td>NaN</td>\n",
              "      <td>NaN</td>\n",
              "      <td>NaN</td>\n",
              "      <td>NaN</td>\n",
              "      <td>2010-02-25</td>\n",
              "      <td>NaN</td>\n",
              "      <td>NaN</td>\n",
              "      <td>NaN</td>\n",
              "      <td>5.370</td>\n",
              "      <td>NaN</td>\n",
              "      <td>NaN</td>\n",
              "      <td>2009-08-03</td>\n",
              "      <td>4.44</td>\n",
              "      <td>0.18</td>\n",
              "      <td>1.1</td>\n",
              "      <td>71.59</td>\n",
              "      <td>1.38</td>\n",
              "      <td>25.92</td>\n",
              "    </tr>\n",
              "    <tr>\n",
              "      <th>9</th>\n",
              "      <td>9</td>\n",
              "      <td>0.0</td>\n",
              "      <td>2009-08-03</td>\n",
              "      <td>260543</td>\n",
              "      <td>2821</td>\n",
              "      <td>DD</td>\n",
              "      <td>DuPont de Nemours Inc</td>\n",
              "      <td>1.132200e+10</td>\n",
              "      <td>6.960000e+08</td>\n",
              "      <td>0.061</td>\n",
              "      <td>-485999968.0</td>\n",
              "      <td>-0.043</td>\n",
              "      <td>2.648000e+09</td>\n",
              "      <td>7.256000e+09</td>\n",
              "      <td>2.376800e+10</td>\n",
              "      <td>4.594500e+10</td>\n",
              "      <td>1.971900e+10</td>\n",
              "      <td>2.569690e+10</td>\n",
              "      <td>4.681690e+10</td>\n",
              "      <td>-185000000.0</td>\n",
              "      <td>6.900000e+09</td>\n",
              "      <td>1.652</td>\n",
              "      <td>2.330</td>\n",
              "      <td>0.051</td>\n",
              "      <td>-1.41</td>\n",
              "      <td>-0.319</td>\n",
              "      <td>25.865999</td>\n",
              "      <td>1.303</td>\n",
              "      <td>-16.202</td>\n",
              "      <td>US260543BL65</td>\n",
              "      <td>USD</td>\n",
              "      <td>102.625</td>\n",
              "      <td>2009-08-03</td>\n",
              "      <td>444510.0</td>\n",
              "      <td>260543BL6</td>\n",
              "      <td>6.125%</td>\n",
              "      <td>2011-02-01</td>\n",
              "      <td>0</td>\n",
              "      <td>260543BL6</td>\n",
              "      <td>NaN</td>\n",
              "      <td>NaN</td>\n",
              "      <td>NaN</td>\n",
              "      <td>NaN</td>\n",
              "      <td>NaN</td>\n",
              "      <td>NaN</td>\n",
              "      <td>NaN</td>\n",
              "      <td>2010-02-19</td>\n",
              "      <td>NaN</td>\n",
              "      <td>NaN</td>\n",
              "      <td>NaN</td>\n",
              "      <td>1.499</td>\n",
              "      <td>NaN</td>\n",
              "      <td>NaN</td>\n",
              "      <td>2009-08-03</td>\n",
              "      <td>4.44</td>\n",
              "      <td>0.18</td>\n",
              "      <td>1.1</td>\n",
              "      <td>71.59</td>\n",
              "      <td>1.38</td>\n",
              "      <td>25.92</td>\n",
              "    </tr>\n",
              "  </tbody>\n",
              "</table>\n",
              "</div>"
            ],
            "text/plain": [
              "   Unnamed: 0  ...  index_fred_macro_vix\n",
              "0           0  ...                 30.85\n",
              "1           1  ...                 25.02\n",
              "2           2  ...                 24.40\n",
              "3           3  ...                 23.43\n",
              "4           4  ...                 23.43\n",
              "5           5  ...                 25.40\n",
              "6           6  ...                 25.40\n",
              "7           7  ...                 25.40\n",
              "8           8  ...                 25.92\n",
              "9           9  ...                 25.92\n",
              "\n",
              "[10 rows x 60 columns]"
            ]
          },
          "metadata": {
            "tags": []
          },
          "execution_count": 4
        }
      ]
    },
    {
      "cell_type": "code",
      "metadata": {
        "id": "CNKgjeD-aJZR",
        "colab": {
          "base_uri": "https://localhost:8080/"
        },
        "outputId": "93ec11fd-c17d-4ae0-87f0-d21612c83b9f"
      },
      "source": [
        "from google.colab import drive\n",
        "drive.mount('/content/drive')"
      ],
      "execution_count": 1,
      "outputs": [
        {
          "output_type": "stream",
          "text": [
            "Mounted at /content/drive\n"
          ],
          "name": "stdout"
        }
      ]
    },
    {
      "cell_type": "code",
      "metadata": {
        "colab": {
          "base_uri": "https://localhost:8080/",
          "height": 546
        },
        "id": "ZuM-X11MpWEd",
        "outputId": "d9d8b792-b9e0-48f6-96c0-738421119ee7"
      },
      "source": [
        "# data wrangling: drop NaN, cap timedelta @60, convert format 'coupon' column\n",
        "df_final = df.drop(['Unnamed: 0', 'Unnamed: 0.1'], axis=1)\n",
        "df_final.dropna(inplace=True)\n",
        "df_final = df_final.loc[df_final['timedelta'] <= 60]\n",
        "df_final['coupon_x'].replace('%', '', regex=True, inplace=True)\n",
        "df_final['coupon_x'] = df_final['coupon_x'].astype('float') / 100\n",
        "\n",
        "print(df_final.info)\n",
        "df_final.head()"
      ],
      "execution_count": 5,
      "outputs": [
        {
          "output_type": "stream",
          "text": [
            "<bound method DataFrame.info of       date_fundamentals  ... index_fred_macro_vix\n",
            "570          2012-06-27  ...                20.38\n",
            "571          2012-06-27  ...                20.38\n",
            "581          2012-07-05  ...                16.66\n",
            "587          2012-07-19  ...                16.16\n",
            "588          2012-07-19  ...                16.16\n",
            "...                 ...  ...                  ...\n",
            "40084        2020-12-18  ...                21.93\n",
            "40090        2020-12-18  ...                21.93\n",
            "40093        2020-12-18  ...                21.93\n",
            "40098        2020-12-18  ...                21.93\n",
            "40325        2021-02-12  ...                21.25\n",
            "\n",
            "[13498 rows x 58 columns]>\n"
          ],
          "name": "stdout"
        },
        {
          "output_type": "execute_result",
          "data": {
            "text/html": [
              "<div>\n",
              "<style scoped>\n",
              "    .dataframe tbody tr th:only-of-type {\n",
              "        vertical-align: middle;\n",
              "    }\n",
              "\n",
              "    .dataframe tbody tr th {\n",
              "        vertical-align: top;\n",
              "    }\n",
              "\n",
              "    .dataframe thead th {\n",
              "        text-align: right;\n",
              "    }\n",
              "</style>\n",
              "<table border=\"1\" class=\"dataframe\">\n",
              "  <thead>\n",
              "    <tr style=\"text-align: right;\">\n",
              "      <th></th>\n",
              "      <th>date_fundamentals</th>\n",
              "      <th>cusip_company_part</th>\n",
              "      <th>siccode_fundamentals</th>\n",
              "      <th>ticker_fundamentals</th>\n",
              "      <th>company_name_fundamentals</th>\n",
              "      <th>revenueusd</th>\n",
              "      <th>ebitdausd</th>\n",
              "      <th>ebitdamargin</th>\n",
              "      <th>netinccmnusd</th>\n",
              "      <th>netmargin</th>\n",
              "      <th>cashnequsd</th>\n",
              "      <th>workingcapital</th>\n",
              "      <th>debtusd</th>\n",
              "      <th>liabilities</th>\n",
              "      <th>equityusd</th>\n",
              "      <th>marketcap</th>\n",
              "      <th>ev</th>\n",
              "      <th>fcf</th>\n",
              "      <th>ncfdebt</th>\n",
              "      <th>currentratio</th>\n",
              "      <th>de</th>\n",
              "      <th>divyield</th>\n",
              "      <th>epsusd</th>\n",
              "      <th>payoutratio</th>\n",
              "      <th>evebitda</th>\n",
              "      <th>pb</th>\n",
              "      <th>pe</th>\n",
              "      <th>isin</th>\n",
              "      <th>currency</th>\n",
              "      <th>close_edi</th>\n",
              "      <th>mktclosedate</th>\n",
              "      <th>secid</th>\n",
              "      <th>uscode</th>\n",
              "      <th>coupon_x</th>\n",
              "      <th>maturity_date</th>\n",
              "      <th>timedelta</th>\n",
              "      <th>cusip</th>\n",
              "      <th>maturity</th>\n",
              "      <th>rating</th>\n",
              "      <th>date</th>\n",
              "      <th>coupon_y</th>\n",
              "      <th>issuer_cusip</th>\n",
              "      <th>rank</th>\n",
              "      <th>timedelta_2</th>\n",
              "      <th>date_fundamentals_shifted</th>\n",
              "      <th>rating_shifted</th>\n",
              "      <th>rank_shifted</th>\n",
              "      <th>rank_diff</th>\n",
              "      <th>maturity_year</th>\n",
              "      <th>rank_change</th>\n",
              "      <th>rank_change_2</th>\n",
              "      <th>observed_date</th>\n",
              "      <th>percent_fred_macro_yc_30_yr</th>\n",
              "      <th>percent_fred_macro_yc_3_mo</th>\n",
              "      <th>percentchange_fred_macro_gdp</th>\n",
              "      <th>dollars_fred_crude_oil_prices</th>\n",
              "      <th>percent_fred_five_year_breakeven_inflation</th>\n",
              "      <th>index_fred_macro_vix</th>\n",
              "    </tr>\n",
              "  </thead>\n",
              "  <tbody>\n",
              "    <tr>\n",
              "      <th>570</th>\n",
              "      <td>2012-06-27</td>\n",
              "      <td>00724F</td>\n",
              "      <td>7372</td>\n",
              "      <td>ADBE</td>\n",
              "      <td>Adobe Inc</td>\n",
              "      <td>1.124449e+09</td>\n",
              "      <td>3.883770e+08</td>\n",
              "      <td>0.345</td>\n",
              "      <td>223876016.0</td>\n",
              "      <td>0.199</td>\n",
              "      <td>951238080.0</td>\n",
              "      <td>2.525163e+09</td>\n",
              "      <td>1.510094e+09</td>\n",
              "      <td>3.266186e+09</td>\n",
              "      <td>6.099646e+09</td>\n",
              "      <td>1.544626e+10</td>\n",
              "      <td>1.600512e+10</td>\n",
              "      <td>387451008.0</td>\n",
              "      <td>-2290000.0</td>\n",
              "      <td>3.027</td>\n",
              "      <td>0.535</td>\n",
              "      <td>0.000</td>\n",
              "      <td>0.45</td>\n",
              "      <td>0.000</td>\n",
              "      <td>11.385</td>\n",
              "      <td>2.532</td>\n",
              "      <td>19.856001</td>\n",
              "      <td>US00724FAA93</td>\n",
              "      <td>USD</td>\n",
              "      <td>105.124</td>\n",
              "      <td>2012-06-27</td>\n",
              "      <td>1758557.0</td>\n",
              "      <td>00724FAA9</td>\n",
              "      <td>0.03250</td>\n",
              "      <td>2015-02-01</td>\n",
              "      <td>0</td>\n",
              "      <td>00724FAA9</td>\n",
              "      <td>2015-02-01</td>\n",
              "      <td>BAA1</td>\n",
              "      <td>2012-06-15</td>\n",
              "      <td>3.250</td>\n",
              "      <td>00724F</td>\n",
              "      <td>8.0</td>\n",
              "      <td>12.0</td>\n",
              "      <td>2013-01-22</td>\n",
              "      <td>BAA1</td>\n",
              "      <td>8.0</td>\n",
              "      <td>0.0</td>\n",
              "      <td>2.600</td>\n",
              "      <td>0.0</td>\n",
              "      <td>0.0</td>\n",
              "      <td>2012-06-27</td>\n",
              "      <td>2.71</td>\n",
              "      <td>0.10</td>\n",
              "      <td>2.9</td>\n",
              "      <td>79.34</td>\n",
              "      <td>1.68</td>\n",
              "      <td>20.38</td>\n",
              "    </tr>\n",
              "    <tr>\n",
              "      <th>571</th>\n",
              "      <td>2012-06-27</td>\n",
              "      <td>00724F</td>\n",
              "      <td>7372</td>\n",
              "      <td>ADBE</td>\n",
              "      <td>Adobe Inc</td>\n",
              "      <td>1.124449e+09</td>\n",
              "      <td>3.883770e+08</td>\n",
              "      <td>0.345</td>\n",
              "      <td>223876016.0</td>\n",
              "      <td>0.199</td>\n",
              "      <td>951238080.0</td>\n",
              "      <td>2.525163e+09</td>\n",
              "      <td>1.510094e+09</td>\n",
              "      <td>3.266186e+09</td>\n",
              "      <td>6.099646e+09</td>\n",
              "      <td>1.544626e+10</td>\n",
              "      <td>1.600512e+10</td>\n",
              "      <td>387451008.0</td>\n",
              "      <td>-2290000.0</td>\n",
              "      <td>3.027</td>\n",
              "      <td>0.535</td>\n",
              "      <td>0.000</td>\n",
              "      <td>0.45</td>\n",
              "      <td>0.000</td>\n",
              "      <td>11.385</td>\n",
              "      <td>2.532</td>\n",
              "      <td>19.856001</td>\n",
              "      <td>US00724FAB76</td>\n",
              "      <td>USD</td>\n",
              "      <td>111.915</td>\n",
              "      <td>2012-06-27</td>\n",
              "      <td>1758481.0</td>\n",
              "      <td>00724FAB7</td>\n",
              "      <td>0.04750</td>\n",
              "      <td>2020-02-01</td>\n",
              "      <td>0</td>\n",
              "      <td>00724FAB7</td>\n",
              "      <td>2020-02-01</td>\n",
              "      <td>BAA1</td>\n",
              "      <td>2012-06-15</td>\n",
              "      <td>4.750</td>\n",
              "      <td>00724F</td>\n",
              "      <td>8.0</td>\n",
              "      <td>12.0</td>\n",
              "      <td>2013-01-22</td>\n",
              "      <td>BAA1</td>\n",
              "      <td>8.0</td>\n",
              "      <td>0.0</td>\n",
              "      <td>7.603</td>\n",
              "      <td>0.0</td>\n",
              "      <td>0.0</td>\n",
              "      <td>2012-06-27</td>\n",
              "      <td>2.71</td>\n",
              "      <td>0.10</td>\n",
              "      <td>2.9</td>\n",
              "      <td>79.34</td>\n",
              "      <td>1.68</td>\n",
              "      <td>20.38</td>\n",
              "    </tr>\n",
              "    <tr>\n",
              "      <th>581</th>\n",
              "      <td>2012-07-05</td>\n",
              "      <td>026375</td>\n",
              "      <td>2771</td>\n",
              "      <td>AM1</td>\n",
              "      <td>American Greetings Corp</td>\n",
              "      <td>3.931060e+08</td>\n",
              "      <td>2.626500e+07</td>\n",
              "      <td>0.067</td>\n",
              "      <td>7250000.5</td>\n",
              "      <td>0.018</td>\n",
              "      <td>60180000.0</td>\n",
              "      <td>2.500000e+08</td>\n",
              "      <td>2.251810e+08</td>\n",
              "      <td>8.090370e+08</td>\n",
              "      <td>6.794340e+08</td>\n",
              "      <td>4.851067e+08</td>\n",
              "      <td>6.501076e+08</td>\n",
              "      <td>33485000.0</td>\n",
              "      <td>0.0</td>\n",
              "      <td>1.842</td>\n",
              "      <td>1.191</td>\n",
              "      <td>0.052</td>\n",
              "      <td>0.20</td>\n",
              "      <td>0.750</td>\n",
              "      <td>4.348</td>\n",
              "      <td>0.714</td>\n",
              "      <td>15.229000</td>\n",
              "      <td>US026375AP03</td>\n",
              "      <td>USD</td>\n",
              "      <td>105.250</td>\n",
              "      <td>2012-07-05</td>\n",
              "      <td>3295358.0</td>\n",
              "      <td>026375AP0</td>\n",
              "      <td>0.07375</td>\n",
              "      <td>2021-12-01</td>\n",
              "      <td>0</td>\n",
              "      <td>026375AP0</td>\n",
              "      <td>2021-12-01</td>\n",
              "      <td>BA2</td>\n",
              "      <td>2012-06-15</td>\n",
              "      <td>7.375</td>\n",
              "      <td>026375</td>\n",
              "      <td>12.0</td>\n",
              "      <td>20.0</td>\n",
              "      <td>2013-01-02</td>\n",
              "      <td>BA2</td>\n",
              "      <td>12.0</td>\n",
              "      <td>0.0</td>\n",
              "      <td>9.414</td>\n",
              "      <td>0.0</td>\n",
              "      <td>0.0</td>\n",
              "      <td>2012-07-05</td>\n",
              "      <td>2.74</td>\n",
              "      <td>0.09</td>\n",
              "      <td>2.9</td>\n",
              "      <td>87.74</td>\n",
              "      <td>1.80</td>\n",
              "      <td>16.66</td>\n",
              "    </tr>\n",
              "    <tr>\n",
              "      <th>587</th>\n",
              "      <td>2012-07-19</td>\n",
              "      <td>05329W</td>\n",
              "      <td>5500</td>\n",
              "      <td>AN</td>\n",
              "      <td>Autonation Inc</td>\n",
              "      <td>3.904500e+09</td>\n",
              "      <td>1.833000e+08</td>\n",
              "      <td>0.047</td>\n",
              "      <td>78600000.0</td>\n",
              "      <td>0.020</td>\n",
              "      <td>62100000.0</td>\n",
              "      <td>1.686000e+08</td>\n",
              "      <td>2.028500e+09</td>\n",
              "      <td>4.933200e+09</td>\n",
              "      <td>1.528200e+09</td>\n",
              "      <td>4.922053e+09</td>\n",
              "      <td>6.888453e+09</td>\n",
              "      <td>-13500000.0</td>\n",
              "      <td>144500000.0</td>\n",
              "      <td>1.062</td>\n",
              "      <td>3.228</td>\n",
              "      <td>0.000</td>\n",
              "      <td>0.65</td>\n",
              "      <td>0.000</td>\n",
              "      <td>10.145</td>\n",
              "      <td>3.221</td>\n",
              "      <td>16.874001</td>\n",
              "      <td>US05329WAJ18</td>\n",
              "      <td>USD</td>\n",
              "      <td>110.152</td>\n",
              "      <td>2012-07-19</td>\n",
              "      <td>1856738.0</td>\n",
              "      <td>05329WAJ1</td>\n",
              "      <td>0.06750</td>\n",
              "      <td>2018-04-15</td>\n",
              "      <td>0</td>\n",
              "      <td>05329WAJ1</td>\n",
              "      <td>2018-04-15</td>\n",
              "      <td>BA2</td>\n",
              "      <td>2012-06-15</td>\n",
              "      <td>6.750</td>\n",
              "      <td>05329W</td>\n",
              "      <td>12.0</td>\n",
              "      <td>34.0</td>\n",
              "      <td>2013-02-15</td>\n",
              "      <td>BA2</td>\n",
              "      <td>12.0</td>\n",
              "      <td>0.0</td>\n",
              "      <td>5.742</td>\n",
              "      <td>0.0</td>\n",
              "      <td>0.0</td>\n",
              "      <td>2012-07-19</td>\n",
              "      <td>2.59</td>\n",
              "      <td>0.09</td>\n",
              "      <td>2.9</td>\n",
              "      <td>89.07</td>\n",
              "      <td>1.82</td>\n",
              "      <td>16.16</td>\n",
              "    </tr>\n",
              "    <tr>\n",
              "      <th>588</th>\n",
              "      <td>2012-07-19</td>\n",
              "      <td>126408</td>\n",
              "      <td>4011</td>\n",
              "      <td>CSX</td>\n",
              "      <td>Csx Corp</td>\n",
              "      <td>3.012000e+09</td>\n",
              "      <td>1.211000e+09</td>\n",
              "      <td>0.402</td>\n",
              "      <td>512000000.0</td>\n",
              "      <td>0.170</td>\n",
              "      <td>642000000.0</td>\n",
              "      <td>-2.030000e+08</td>\n",
              "      <td>9.089000e+09</td>\n",
              "      <td>2.069400e+10</td>\n",
              "      <td>8.895000e+09</td>\n",
              "      <td>2.369094e+10</td>\n",
              "      <td>3.213794e+10</td>\n",
              "      <td>93000000.0</td>\n",
              "      <td>-42000000.0</td>\n",
              "      <td>0.921</td>\n",
              "      <td>2.326</td>\n",
              "      <td>0.022</td>\n",
              "      <td>0.49</td>\n",
              "      <td>0.286</td>\n",
              "      <td>7.062</td>\n",
              "      <td>2.663</td>\n",
              "      <td>12.588000</td>\n",
              "      <td>US126408BP76</td>\n",
              "      <td>USD</td>\n",
              "      <td>127.500</td>\n",
              "      <td>2012-07-19</td>\n",
              "      <td>1070939.0</td>\n",
              "      <td>126408BP7</td>\n",
              "      <td>0.07250</td>\n",
              "      <td>2027-05-01</td>\n",
              "      <td>0</td>\n",
              "      <td>126408BP7</td>\n",
              "      <td>2027-05-01</td>\n",
              "      <td>BAA3</td>\n",
              "      <td>2012-06-15</td>\n",
              "      <td>7.250</td>\n",
              "      <td>126408</td>\n",
              "      <td>10.0</td>\n",
              "      <td>34.0</td>\n",
              "      <td>2013-02-19</td>\n",
              "      <td>BAA2</td>\n",
              "      <td>9.0</td>\n",
              "      <td>1.0</td>\n",
              "      <td>14.792</td>\n",
              "      <td>1.0</td>\n",
              "      <td>1.0</td>\n",
              "      <td>2012-07-19</td>\n",
              "      <td>2.59</td>\n",
              "      <td>0.09</td>\n",
              "      <td>2.9</td>\n",
              "      <td>89.07</td>\n",
              "      <td>1.82</td>\n",
              "      <td>16.16</td>\n",
              "    </tr>\n",
              "  </tbody>\n",
              "</table>\n",
              "</div>"
            ],
            "text/plain": [
              "    date_fundamentals  ... index_fred_macro_vix\n",
              "570        2012-06-27  ...                20.38\n",
              "571        2012-06-27  ...                20.38\n",
              "581        2012-07-05  ...                16.66\n",
              "587        2012-07-19  ...                16.16\n",
              "588        2012-07-19  ...                16.16\n",
              "\n",
              "[5 rows x 58 columns]"
            ]
          },
          "metadata": {
            "tags": []
          },
          "execution_count": 5
        }
      ]
    },
    {
      "cell_type": "code",
      "metadata": {
        "id": "cpkzitoEptH6"
      },
      "source": [
        "# Set x variable list of features\n",
        "x_var_list = ['siccode_fundamentals', 'revenueusd', 'ebitdausd',\n",
        "       'ebitdamargin', 'netinccmnusd', 'netmargin', 'cashnequsd',\n",
        "       'workingcapital', 'debtusd', 'liabilities', 'equityusd', 'marketcap',\n",
        "       'ev', 'fcf', 'ncfdebt', 'currentratio', 'de', 'divyield', 'epsusd',\n",
        "       'payoutratio', 'evebitda', 'pb', 'pe', 'close_edi', 'coupon_x',\n",
        "       'percent_fred_macro_yc_30_yr',\n",
        "       'percent_fred_macro_yc_3_mo', 'percentchange_fred_macro_gdp',\n",
        "       'dollars_fred_crude_oil_prices',\n",
        "       'percent_fred_five_year_breakeven_inflation', 'index_fred_macro_vix', 'maturity_year']"
      ],
      "execution_count": 6,
      "outputs": []
    },
    {
      "cell_type": "code",
      "metadata": {
        "colab": {
          "base_uri": "https://localhost:8080/"
        },
        "id": "wkfZMiyCpucJ",
        "outputId": "4d3e163c-45b4-4804-da85-554ce705caaa"
      },
      "source": [
        "# Assign x and target features\n",
        "X = df_final[x_var_list]\n",
        "y = df_final['rank_change']\n",
        "\n",
        "Counter(y)"
      ],
      "execution_count": 7,
      "outputs": [
        {
          "output_type": "execute_result",
          "data": {
            "text/plain": [
              "Counter({-1.0: 584, 0.0: 12470, 1.0: 444})"
            ]
          },
          "metadata": {
            "tags": []
          },
          "execution_count": 7
        }
      ]
    },
    {
      "cell_type": "code",
      "metadata": {
        "id": "MAMCo7dBqjXo"
      },
      "source": [
        "# train-test split\n",
        "X_train, X_test, y_train, y_test = train_test_split(X, y, shuffle=True, random_state=78)"
      ],
      "execution_count": 8,
      "outputs": []
    },
    {
      "cell_type": "code",
      "metadata": {
        "colab": {
          "base_uri": "https://localhost:8080/"
        },
        "id": "UCU2758KwZ7v",
        "outputId": "f56097d2-0505-4a57-fbfc-d6f2d8f49fc6"
      },
      "source": [
        "np.unique(y_train, return_counts = True)"
      ],
      "execution_count": 9,
      "outputs": [
        {
          "output_type": "execute_result",
          "data": {
            "text/plain": [
              "(array([-1.,  0.,  1.]), array([ 431, 9360,  332]))"
            ]
          },
          "metadata": {
            "tags": []
          },
          "execution_count": 9
        }
      ]
    },
    {
      "cell_type": "code",
      "metadata": {
        "colab": {
          "base_uri": "https://localhost:8080/"
        },
        "id": "L8UTKrZDuT33",
        "outputId": "7f3db3be-e0d3-4993-f952-6e108e76d32b"
      },
      "source": [
        "y_test[:10]"
      ],
      "execution_count": 10,
      "outputs": [
        {
          "output_type": "execute_result",
          "data": {
            "text/plain": [
              "27129    0.0\n",
              "17435    0.0\n",
              "15496    0.0\n",
              "1173     0.0\n",
              "31794    0.0\n",
              "5468     0.0\n",
              "23607    0.0\n",
              "15022   -1.0\n",
              "12763    0.0\n",
              "38402    0.0\n",
              "Name: rank_change, dtype: float64"
            ]
          },
          "metadata": {
            "tags": []
          },
          "execution_count": 10
        }
      ]
    },
    {
      "cell_type": "code",
      "metadata": {
        "id": "XRX3qjJJ6zCV"
      },
      "source": [
        "# Creating the scaler instance\n",
        "scaler = StandardScaler()\n",
        "\n",
        "# Fitting the scaler\n",
        "scaler.fit(X_train)\n",
        "\n",
        "# Transforming the data\n",
        "X_train_scaled = scaler.transform(X_train)\n",
        "X_test_scaled = scaler.transform(X_test)"
      ],
      "execution_count": 11,
      "outputs": []
    },
    {
      "cell_type": "code",
      "metadata": {
        "colab": {
          "base_uri": "https://localhost:8080/"
        },
        "id": "0Zw34d2_qkUA",
        "outputId": "be2aa730-4394-4538-f85c-a3f9df09b244"
      },
      "source": [
        "# Create a random forest classifier\n",
        "sqrt_features = int(np.sqrt(len(x_var_list)))\n",
        "\n",
        "rf_model = RandomForestClassifier(max_samples = None, \n",
        "                                  max_features = sqrt_features,\n",
        "                                  n_estimators = 100,\n",
        "                                  max_depth=5,\n",
        "                                  random_state=0)\n",
        "\n",
        "# Fit the model\n",
        "rf_model = rf_model.fit(X_train_scaled, y_train)\n",
        "\n",
        "# Make a prediction of \"y\" values from the X_test dataset\n",
        "predictions = rf_model.predict(X_test_scaled)\n",
        "print(np.unique(predictions))\n",
        "print(np.unique(y_test))"
      ],
      "execution_count": 12,
      "outputs": [
        {
          "output_type": "stream",
          "text": [
            "[-1.  0.]\n",
            "[-1.  0.  1.]\n"
          ],
          "name": "stdout"
        }
      ]
    },
    {
      "cell_type": "code",
      "metadata": {
        "id": "R2l73PnIskJj"
      },
      "source": [
        "# Calculating the confusion matrix\n",
        "cm = confusion_matrix(y_test, predictions)\n",
        "cm_df = pd.DataFrame(\n",
        "    cm, index=[\"Actual -1\", \"Actual 0\", \"Actual +1\"], \n",
        "               columns=[\"Pred -1\",\"Pred 0\", \"Pred 1\"])\n",
        "\n",
        "# Calculating the accuracy score\n",
        "acc_score = accuracy_score(y_test, predictions)"
      ],
      "execution_count": 13,
      "outputs": []
    },
    {
      "cell_type": "code",
      "metadata": {
        "colab": {
          "base_uri": "https://localhost:8080/",
          "height": 417
        },
        "id": "jEj4V9e6s305",
        "outputId": "f50a63af-6fe3-4352-beff-122421586043"
      },
      "source": [
        "# Displaying results\n",
        "print(\"Confusion Matrix\")\n",
        "display(cm_df)\n",
        "print(f\"Accuracy Score : {acc_score}\")\n",
        "print(\"Classification Report\")\n",
        "print(classification_report(y_test, predictions))"
      ],
      "execution_count": 14,
      "outputs": [
        {
          "output_type": "stream",
          "text": [
            "Confusion Matrix\n"
          ],
          "name": "stdout"
        },
        {
          "output_type": "display_data",
          "data": {
            "text/html": [
              "<div>\n",
              "<style scoped>\n",
              "    .dataframe tbody tr th:only-of-type {\n",
              "        vertical-align: middle;\n",
              "    }\n",
              "\n",
              "    .dataframe tbody tr th {\n",
              "        vertical-align: top;\n",
              "    }\n",
              "\n",
              "    .dataframe thead th {\n",
              "        text-align: right;\n",
              "    }\n",
              "</style>\n",
              "<table border=\"1\" class=\"dataframe\">\n",
              "  <thead>\n",
              "    <tr style=\"text-align: right;\">\n",
              "      <th></th>\n",
              "      <th>Pred -1</th>\n",
              "      <th>Pred 0</th>\n",
              "      <th>Pred 1</th>\n",
              "    </tr>\n",
              "  </thead>\n",
              "  <tbody>\n",
              "    <tr>\n",
              "      <th>Actual -1</th>\n",
              "      <td>30</td>\n",
              "      <td>123</td>\n",
              "      <td>0</td>\n",
              "    </tr>\n",
              "    <tr>\n",
              "      <th>Actual 0</th>\n",
              "      <td>6</td>\n",
              "      <td>3104</td>\n",
              "      <td>0</td>\n",
              "    </tr>\n",
              "    <tr>\n",
              "      <th>Actual +1</th>\n",
              "      <td>0</td>\n",
              "      <td>112</td>\n",
              "      <td>0</td>\n",
              "    </tr>\n",
              "  </tbody>\n",
              "</table>\n",
              "</div>"
            ],
            "text/plain": [
              "           Pred -1  Pred 0  Pred 1\n",
              "Actual -1       30     123       0\n",
              "Actual 0         6    3104       0\n",
              "Actual +1        0     112       0"
            ]
          },
          "metadata": {
            "tags": []
          }
        },
        {
          "output_type": "stream",
          "text": [
            "Accuracy Score : 0.9285925925925926\n",
            "Classification Report\n",
            "              precision    recall  f1-score   support\n",
            "\n",
            "        -1.0       0.83      0.20      0.32       153\n",
            "         0.0       0.93      1.00      0.96      3110\n",
            "         1.0       0.00      0.00      0.00       112\n",
            "\n",
            "    accuracy                           0.93      3375\n",
            "   macro avg       0.59      0.40      0.43      3375\n",
            "weighted avg       0.89      0.93      0.90      3375\n",
            "\n"
          ],
          "name": "stdout"
        },
        {
          "output_type": "stream",
          "text": [
            "/usr/local/lib/python3.7/dist-packages/sklearn/metrics/_classification.py:1272: UndefinedMetricWarning: Precision and F-score are ill-defined and being set to 0.0 in labels with no predicted samples. Use `zero_division` parameter to control this behavior.\n",
            "  _warn_prf(average, modifier, msg_start, len(result))\n"
          ],
          "name": "stderr"
        }
      ]
    },
    {
      "cell_type": "code",
      "metadata": {
        "colab": {
          "base_uri": "https://localhost:8080/"
        },
        "id": "bCqPDjJy4Vfh",
        "outputId": "10409326-d223-49e4-a18e-847bb4977ed6"
      },
      "source": [
        "print(\"Balanced accuracy score: %.4f\" % balanced_accuracy_score(y_test, predictions))"
      ],
      "execution_count": 15,
      "outputs": [
        {
          "output_type": "stream",
          "text": [
            "Balanced accuracy score: 0.3980\n"
          ],
          "name": "stdout"
        }
      ]
    },
    {
      "cell_type": "code",
      "metadata": {
        "id": "Bb4ub-tms6NN"
      },
      "source": [
        "# Get the feature importance array\n",
        "importances = rf_model.feature_importances_"
      ],
      "execution_count": 16,
      "outputs": []
    },
    {
      "cell_type": "code",
      "metadata": {
        "colab": {
          "base_uri": "https://localhost:8080/"
        },
        "id": "OeqkilpYs9D9",
        "outputId": "9612ce5c-6aa9-4183-9b70-b4b802e90e2d"
      },
      "source": [
        "# List the top 10 most important features\n",
        "importances_sorted = sorted(zip(rf_model.feature_importances_, X.columns), reverse=True)\n",
        "importances_sorted[:10]"
      ],
      "execution_count": 17,
      "outputs": [
        {
          "output_type": "execute_result",
          "data": {
            "text/plain": [
              "[(0.09518062616852144, 'cashnequsd'),\n",
              " (0.07659564156772912, 'pe'),\n",
              " (0.07357510954418692, 'marketcap'),\n",
              " (0.0519439791599483, 'percent_fred_macro_yc_30_yr'),\n",
              " (0.05168070796462883, 'close_edi'),\n",
              " (0.04369888222987587, 'siccode_fundamentals'),\n",
              " (0.042125137683599496, 'netinccmnusd'),\n",
              " (0.04019267634163654, 'ev'),\n",
              " (0.03887989075549197, 'evebitda'),\n",
              " (0.03883548987397109, 'equityusd')]"
            ]
          },
          "metadata": {
            "tags": []
          },
          "execution_count": 17
        }
      ]
    },
    {
      "cell_type": "code",
      "metadata": {
        "colab": {
          "base_uri": "https://localhost:8080/",
          "height": 281
        },
        "id": "qMhGO_L-tIrT",
        "outputId": "a609130d-5168-4e2f-cc4d-427c149c619e"
      },
      "source": [
        "# Visualize the features by importance\n",
        "importances_df = pd.DataFrame(sorted(zip(rf_model.feature_importances_, X.columns), reverse=True))\n",
        "importances_df.set_index(importances_df[1], inplace=True)\n",
        "importances_df.drop(columns=1, inplace=True)\n",
        "importances_df.rename(columns={0: 'Feature Importances'}, inplace=True)\n",
        "importances_sorted = importances_df.sort_values(by='Feature Importances')\n",
        "importances_df[:10].plot(kind='barh', color='lightgreen', title= 'Features Importances', legend=False).invert_yaxis()"
      ],
      "execution_count": 19,
      "outputs": [
        {
          "output_type": "display_data",
          "data": {
            "image/png": "[encoded data removed]",
            "text/plain": [
              "<Figure size 432x288 with 1 Axes>"
            ]
          },
          "metadata": {
            "tags": [],
            "needs_background": "light"
          }
        }
      ]
    },
    {
      "cell_type": "code",
      "metadata": {
        "colab": {
          "base_uri": "https://localhost:8080/"
        },
        "id": "n5RxkPLO-gar",
        "outputId": "ffa0c625-14b7-420e-a9b6-fb12cf05a13a"
      },
      "source": [
        "# RANDOM OVERSAMPLING\n",
        "ros = RandomOverSampler(random_state=1)\n",
        "X_resampled, y_resampled = ros.fit_resample(X_train_scaled, y_train)\n",
        "Counter(y_resampled)"
      ],
      "execution_count": 20,
      "outputs": [
        {
          "output_type": "stream",
          "text": [
            "/usr/local/lib/python3.7/dist-packages/sklearn/utils/deprecation.py:87: FutureWarning: Function safe_indexing is deprecated; safe_indexing is deprecated in version 0.22 and will be removed in version 0.24.\n",
            "  warnings.warn(msg, category=FutureWarning)\n"
          ],
          "name": "stderr"
        },
        {
          "output_type": "execute_result",
          "data": {
            "text/plain": [
              "Counter({-1.0: 9360, 0.0: 9360, 1.0: 9360})"
            ]
          },
          "metadata": {
            "tags": []
          },
          "execution_count": 20
        }
      ]
    },
    {
      "cell_type": "code",
      "metadata": {
        "id": "UCh3Fe6jEYm9"
      },
      "source": [
        "# Create a random forest classifier\n",
        "rf_ro_model = RandomForestClassifier(max_samples = None, \n",
        "                                     max_features = sqrt_features,\n",
        "                                     n_estimators = 100,\n",
        "                                     max_depth=5,\n",
        "                                     random_state=0)\n",
        "\n",
        "# Fit the model\n",
        "rf_ro_model = rf_ro_model.fit(X_resampled, y_resampled)\n",
        "\n",
        "# Make a prediction of \"y\" values from the X_test dataset\n",
        "predictions = rf_ro_model.predict(X_test_scaled)"
      ],
      "execution_count": 21,
      "outputs": []
    },
    {
      "cell_type": "code",
      "metadata": {
        "colab": {
          "base_uri": "https://localhost:8080/"
        },
        "id": "Ia8PziGeFPdi",
        "outputId": "76f6758a-32eb-44ad-947d-87433f45ff6c"
      },
      "source": [
        "# Display the confusion matrix\n",
        "y_pred = rf_ro_model.predict(X_test_scaled)\n",
        "confusion_matrix(y_test, y_pred)"
      ],
      "execution_count": 22,
      "outputs": [
        {
          "output_type": "execute_result",
          "data": {
            "text/plain": [
              "array([[ 126,   26,    1],\n",
              "       [ 351, 2469,  290],\n",
              "       [   1,   17,   94]])"
            ]
          },
          "metadata": {
            "tags": []
          },
          "execution_count": 22
        }
      ]
    },
    {
      "cell_type": "code",
      "metadata": {
        "colab": {
          "base_uri": "https://localhost:8080/"
        },
        "id": "_eAMhNYXFwiE",
        "outputId": "b13dd48c-ee2d-4583-8c64-425808d0d30c"
      },
      "source": [
        "# Print balanced accuracy score\n",
        "balanced_accuracy_score(y_test, y_pred)"
      ],
      "execution_count": 23,
      "outputs": [
        {
          "output_type": "execute_result",
          "data": {
            "text/plain": [
              "0.8189019337638593"
            ]
          },
          "metadata": {
            "tags": []
          },
          "execution_count": 23
        }
      ]
    },
    {
      "cell_type": "code",
      "metadata": {
        "colab": {
          "base_uri": "https://localhost:8080/"
        },
        "id": "Ew3P-V81BQZ7",
        "outputId": "31099d37-8b20-45ec-9863-7a8f0ed15a37"
      },
      "source": [
        "# Print classification report\n",
        "print(\"Classification Report\")\n",
        "print(classification_report(y_test, predictions))"
      ],
      "execution_count": 24,
      "outputs": [
        {
          "output_type": "stream",
          "text": [
            "Classification Report\n",
            "              precision    recall  f1-score   support\n",
            "\n",
            "        -1.0       0.26      0.82      0.40       153\n",
            "         0.0       0.98      0.79      0.88      3110\n",
            "         1.0       0.24      0.84      0.38       112\n",
            "\n",
            "    accuracy                           0.80      3375\n",
            "   macro avg       0.50      0.82      0.55      3375\n",
            "weighted avg       0.93      0.80      0.84      3375\n",
            "\n"
          ],
          "name": "stdout"
        }
      ]
    },
    {
      "cell_type": "code",
      "metadata": {
        "id": "auEJ67VKL_qe"
      },
      "source": [
        "# Get the feature importance array\n",
        "importances = rf_ro_model.feature_importances_"
      ],
      "execution_count": 25,
      "outputs": []
    },
    {
      "cell_type": "code",
      "metadata": {
        "colab": {
          "base_uri": "https://localhost:8080/"
        },
        "id": "JnfVcpy4MEjU",
        "outputId": "eb2a0188-f442-4bba-8c82-5e43fad91815"
      },
      "source": [
        "# List the top 10 most important features\n",
        "importances_sorted = sorted(zip(rf_ro_model.feature_importances_, X.columns), reverse=True)\n",
        "importances_sorted[:10]"
      ],
      "execution_count": 26,
      "outputs": [
        {
          "output_type": "execute_result",
          "data": {
            "text/plain": [
              "[(0.1403457488389676, 'pe'),\n",
              " (0.08793417062901196, 'evebitda'),\n",
              " (0.07814896463869903, 'percent_fred_macro_yc_30_yr'),\n",
              " (0.04989869940357998, 'pb'),\n",
              " (0.04080280460861385, 'equityusd'),\n",
              " (0.04051774856843325, 'marketcap'),\n",
              " (0.039332739756651365, 'netmargin'),\n",
              " (0.036378952850707975, 'debtusd'),\n",
              " (0.036160237302014925, 'percent_fred_macro_yc_3_mo'),\n",
              " (0.034812742028891695, 'ev')]"
            ]
          },
          "metadata": {
            "tags": []
          },
          "execution_count": 26
        }
      ]
    },
    {
      "cell_type": "code",
      "metadata": {
        "colab": {
          "base_uri": "https://localhost:8080/",
          "height": 281
        },
        "id": "NzV7_Ln3MTx5",
        "outputId": "b953ea97-d657-4a47-9e8b-a059f0eb1960"
      },
      "source": [
        "# Visualize the features by importance\n",
        "importances_df = pd.DataFrame(sorted(zip(rf_ro_model.feature_importances_, X.columns), reverse=True))\n",
        "importances_df.set_index(importances_df[1], inplace=True)\n",
        "importances_df.drop(columns=1, inplace=True)\n",
        "importances_df.rename(columns={0: 'Feature Importances'}, inplace=True)\n",
        "importances_sorted = importances_df.sort_values(by='Feature Importances')\n",
        "importances_df[:10].plot(kind='barh', color='lightgreen', title= 'Features Importances', legend=False).invert_yaxis()"
      ],
      "execution_count": 27,
      "outputs": [
        {
          "output_type": "display_data",
          "data": {
            "image/png": "[encoded data removed]",
            "text/plain": [
              "<Figure size 432x288 with 1 Axes>"
            ]
          },
          "metadata": {
            "tags": [],
            "needs_background": "light"
          }
        }
      ]
    },
    {
      "cell_type": "code",
      "metadata": {
        "id": "frl0fNwmO6G7"
      },
      "source": [
        "# PRECISION RECALL CURVE"
      ],
      "execution_count": null,
      "outputs": []
    },
    {
      "cell_type": "code",
      "metadata": {
        "id": "buCeVqwlO9Qz"
      },
      "source": [
        "from sklearn.metrics import precision_recall_curve\n",
        "\n",
        "probs_lr = rf_model.predict_proba(X_test)[:, 1]\n",
        "probs_rf = rf_ro_model.predict_proba(X_test)[:, 1]\n",
        "precision_lr, recall_lr, _ = precision_recall_curve(y_test, probs_lr, pos_label=1)\n",
        "precision_rf, recall_rf, _ = precision_recall_curve(y_test, probs_rf, pos_label=1)"
      ],
      "execution_count": 28,
      "outputs": []
    },
    {
      "cell_type": "code",
      "metadata": {
        "colab": {
          "base_uri": "https://localhost:8080/",
          "height": 282
        },
        "id": "IToRio6lPpGr",
        "outputId": "2a310c55-4e57-4e03-f89b-676cf9bf9fd3"
      },
      "source": [
        "plt.plot(recall_lr, precision_lr, marker='.')\n",
        "plt.plot(recall_rf, precision_rf, marker='x')"
      ],
      "execution_count": 29,
      "outputs": [
        {
          "output_type": "execute_result",
          "data": {
            "text/plain": [
              "[<matplotlib.lines.Line2D at 0x7f5a34acfe90>]"
            ]
          },
          "metadata": {
            "tags": []
          },
          "execution_count": 29
        },
        {
          "output_type": "display_data",
          "data": {
            "image/png": "[encoded data removed]",
            "text/plain": [
              "<Figure size 432x288 with 1 Axes>"
            ]
          },
          "metadata": {
            "tags": [],
            "needs_background": "light"
          }
        }
      ]
    },
    {
      "cell_type": "code",
      "metadata": {
        "colab": {
          "base_uri": "https://localhost:8080/"
        },
        "id": "eVNHJkW1GAo5",
        "outputId": "a4711f3e-e751-437a-dfd2-582ed77bf5ed"
      },
      "source": [
        "# SMOTE OVERSAMPLING\n",
        "X_resampled, y_resampled = SMOTE(random_state=1, sampling_strategy= {-1:10000, 0:10000, 1:10000}).fit_resample(\n",
        "    X_train_scaled, y_train)\n",
        "\n",
        "Counter(y_resampled)"
      ],
      "execution_count": 30,
      "outputs": [
        {
          "output_type": "stream",
          "text": [
            "/usr/local/lib/python3.7/dist-packages/imblearn/utils/_validation.py:257: UserWarning: After over-sampling, the number of samples (10000) in class -1 will be larger than the number of samples in the majority class (class #0.0 -> 9360)\n",
            "  n_samples_majority))\n",
            "/usr/local/lib/python3.7/dist-packages/imblearn/utils/_validation.py:257: UserWarning: After over-sampling, the number of samples (10000) in class 0 will be larger than the number of samples in the majority class (class #0.0 -> 9360)\n",
            "  n_samples_majority))\n",
            "/usr/local/lib/python3.7/dist-packages/imblearn/utils/_validation.py:257: UserWarning: After over-sampling, the number of samples (10000) in class 1 will be larger than the number of samples in the majority class (class #0.0 -> 9360)\n",
            "  n_samples_majority))\n",
            "/usr/local/lib/python3.7/dist-packages/sklearn/utils/deprecation.py:87: FutureWarning: Function safe_indexing is deprecated; safe_indexing is deprecated in version 0.22 and will be removed in version 0.24.\n",
            "  warnings.warn(msg, category=FutureWarning)\n",
            "/usr/local/lib/python3.7/dist-packages/sklearn/utils/deprecation.py:87: FutureWarning: Function safe_indexing is deprecated; safe_indexing is deprecated in version 0.22 and will be removed in version 0.24.\n",
            "  warnings.warn(msg, category=FutureWarning)\n",
            "/usr/local/lib/python3.7/dist-packages/sklearn/utils/deprecation.py:87: FutureWarning: Function safe_indexing is deprecated; safe_indexing is deprecated in version 0.22 and will be removed in version 0.24.\n",
            "  warnings.warn(msg, category=FutureWarning)\n"
          ],
          "name": "stderr"
        },
        {
          "output_type": "execute_result",
          "data": {
            "text/plain": [
              "Counter({-1.0: 10000, 0.0: 10000, 1.0: 10000})"
            ]
          },
          "metadata": {
            "tags": []
          },
          "execution_count": 30
        }
      ]
    },
    {
      "cell_type": "code",
      "metadata": {
        "id": "TIyaFfTzGpO7"
      },
      "source": [
        "# Create a random forest classifier\n",
        "rf_model_SM = RandomForestClassifier(max_samples = None, \n",
        "                                     max_features = sqrt_features,\n",
        "                                     n_estimators = 100,\n",
        "                                     max_depth=5,\n",
        "                                     random_state=0)\n",
        "\n",
        "# Fit the model\n",
        "rf_model_SM = rf_model_SM.fit(X_resampled, y_resampled)\n",
        "\n",
        "# Make a prediction of \"y\" values from the X_test dataset\n",
        "predictions = rf_model_SM.predict(X_test_scaled)"
      ],
      "execution_count": 31,
      "outputs": []
    },
    {
      "cell_type": "code",
      "metadata": {
        "id": "f5XrENVcs7B4"
      },
      "source": [
        "# Calculating the confusion matrix\n",
        "cm = confusion_matrix(y_test, predictions)\n",
        "cm_df = pd.DataFrame(\n",
        "    cm, index=[\"Actual -1\", \"Actual 0\", \"Actual +1\"], \n",
        "               columns=[\"Pred -1\",\"Pred 0\", \"Pred 1\"])\n",
        "\n",
        "acc_score = accuracy_score(y_test, predictions)"
      ],
      "execution_count": 32,
      "outputs": []
    },
    {
      "cell_type": "code",
      "metadata": {
        "colab": {
          "base_uri": "https://localhost:8080/",
          "height": 363
        },
        "id": "Sv0r3f_xs9a3",
        "outputId": "066af592-613d-4308-bf33-145b7d4d87b5"
      },
      "source": [
        "# Displaying results\n",
        "print(\"Confusion Matrix\")\n",
        "display(cm_df)\n",
        "print(f\"Accuracy Score : {acc_score}\")\n",
        "print(\"Classification Report\")\n",
        "print(classification_report(y_test, predictions))"
      ],
      "execution_count": 33,
      "outputs": [
        {
          "output_type": "stream",
          "text": [
            "Confusion Matrix\n"
          ],
          "name": "stdout"
        },
        {
          "output_type": "display_data",
          "data": {
            "text/html": [
              "<div>\n",
              "<style scoped>\n",
              "    .dataframe tbody tr th:only-of-type {\n",
              "        vertical-align: middle;\n",
              "    }\n",
              "\n",
              "    .dataframe tbody tr th {\n",
              "        vertical-align: top;\n",
              "    }\n",
              "\n",
              "    .dataframe thead th {\n",
              "        text-align: right;\n",
              "    }\n",
              "</style>\n",
              "<table border=\"1\" class=\"dataframe\">\n",
              "  <thead>\n",
              "    <tr style=\"text-align: right;\">\n",
              "      <th></th>\n",
              "      <th>Pred -1</th>\n",
              "      <th>Pred 0</th>\n",
              "      <th>Pred 1</th>\n",
              "    </tr>\n",
              "  </thead>\n",
              "  <tbody>\n",
              "    <tr>\n",
              "      <th>Actual -1</th>\n",
              "      <td>123</td>\n",
              "      <td>29</td>\n",
              "      <td>1</td>\n",
              "    </tr>\n",
              "    <tr>\n",
              "      <th>Actual 0</th>\n",
              "      <td>365</td>\n",
              "      <td>2409</td>\n",
              "      <td>336</td>\n",
              "    </tr>\n",
              "    <tr>\n",
              "      <th>Actual +1</th>\n",
              "      <td>2</td>\n",
              "      <td>20</td>\n",
              "      <td>90</td>\n",
              "    </tr>\n",
              "  </tbody>\n",
              "</table>\n",
              "</div>"
            ],
            "text/plain": [
              "           Pred -1  Pred 0  Pred 1\n",
              "Actual -1      123      29       1\n",
              "Actual 0       365    2409     336\n",
              "Actual +1        2      20      90"
            ]
          },
          "metadata": {
            "tags": []
          }
        },
        {
          "output_type": "stream",
          "text": [
            "Accuracy Score : 0.7768888888888889\n",
            "Classification Report\n",
            "              precision    recall  f1-score   support\n",
            "\n",
            "        -1.0       0.25      0.80      0.38       153\n",
            "         0.0       0.98      0.77      0.87      3110\n",
            "         1.0       0.21      0.80      0.33       112\n",
            "\n",
            "    accuracy                           0.78      3375\n",
            "   macro avg       0.48      0.79      0.53      3375\n",
            "weighted avg       0.92      0.78      0.83      3375\n",
            "\n"
          ],
          "name": "stdout"
        }
      ]
    },
    {
      "cell_type": "code",
      "metadata": {
        "colab": {
          "base_uri": "https://localhost:8080/"
        },
        "id": "7xVqF2nkG50u",
        "outputId": "b7208645-6c14-4df4-b490-3f06715d68de"
      },
      "source": [
        "# Balanced accuracy score\n",
        "print(\"Balanced accuracy score: %.4f\" % balanced_accuracy_score(y_test, predictions))"
      ],
      "execution_count": 34,
      "outputs": [
        {
          "output_type": "stream",
          "text": [
            "Balanced accuracy score: 0.7940\n"
          ],
          "name": "stdout"
        }
      ]
    },
    {
      "cell_type": "code",
      "metadata": {
        "id": "OEwPEPtPsbYH"
      },
      "source": [
        "# Get the feature importance array\n",
        "importances = rf_model_SM.feature_importances_"
      ],
      "execution_count": 35,
      "outputs": []
    },
    {
      "cell_type": "code",
      "metadata": {
        "colab": {
          "base_uri": "https://localhost:8080/"
        },
        "id": "PaoEizq9sfiF",
        "outputId": "90e8097b-ba5d-4168-ea04-8d9210b2c069"
      },
      "source": [
        "# List the top 10 most important features\n",
        "importances_sorted = sorted(zip(rf_model_SM.feature_importances_, X.columns), reverse=True)\n",
        "importances_sorted[:10]"
      ],
      "execution_count": 36,
      "outputs": [
        {
          "output_type": "execute_result",
          "data": {
            "text/plain": [
              "[(0.13105228828311002, 'pe'),\n",
              " (0.10395099730641942, 'evebitda'),\n",
              " (0.08416693717264982, 'percent_fred_macro_yc_30_yr'),\n",
              " (0.045825208431497705, 'netmargin'),\n",
              " (0.04177028116137459, 'pb'),\n",
              " (0.0380512918339089, 'debtusd'),\n",
              " (0.03794769399141453, 'percent_fred_macro_yc_3_mo'),\n",
              " (0.03685239830712696, 'equityusd'),\n",
              " (0.0367105072133036, 'ev'),\n",
              " (0.034985550971327405, 'percentchange_fred_macro_gdp')]"
            ]
          },
          "metadata": {
            "tags": []
          },
          "execution_count": 36
        }
      ]
    },
    {
      "cell_type": "code",
      "metadata": {
        "colab": {
          "base_uri": "https://localhost:8080/",
          "height": 281
        },
        "id": "UU8aTBrosik8",
        "outputId": "f764cd9b-621a-4320-ee2e-834a8d668e67"
      },
      "source": [
        "# Visualize the features by importance\n",
        "importances_df = pd.DataFrame(sorted(zip(rf_model_SM.feature_importances_, X.columns), reverse=True))\n",
        "importances_df.set_index(importances_df[1], inplace=True)\n",
        "importances_df.drop(columns=1, inplace=True)\n",
        "importances_df.rename(columns={0: 'Feature Importances'}, inplace=True)\n",
        "importances_sorted = importances_df.sort_values(by='Feature Importances')\n",
        "importances_df[:10].plot(kind='barh', color='lightgreen', title= 'Features Importances', legend=False).invert_yaxis()"
      ],
      "execution_count": 37,
      "outputs": [
        {
          "output_type": "display_data",
          "data": {
            "image/png": "[encoded data removed]",
            "text/plain": [
              "<Figure size 432x288 with 1 Axes>"
            ]
          },
          "metadata": {
            "tags": [],
            "needs_background": "light"
          }
        }
      ]
    },
    {
      "cell_type": "code",
      "metadata": {
        "colab": {
          "base_uri": "https://localhost:8080/"
        },
        "id": "KYD0fqCiHGBs",
        "outputId": "5a39f281-592c-481a-ceea-7144f7040ffc"
      },
      "source": [
        "#SMOTEENN combination sampling\n",
        "sm = SMOTEENN(random_state=1)\n",
        "X_resampled, y_resampled = sm.fit_resample(X_train_scaled, y_train)\n",
        "Counter(y_resampled)"
      ],
      "execution_count": 38,
      "outputs": [
        {
          "output_type": "stream",
          "text": [
            "/usr/local/lib/python3.7/dist-packages/sklearn/utils/deprecation.py:87: FutureWarning: Function safe_indexing is deprecated; safe_indexing is deprecated in version 0.22 and will be removed in version 0.24.\n",
            "  warnings.warn(msg, category=FutureWarning)\n",
            "/usr/local/lib/python3.7/dist-packages/sklearn/utils/deprecation.py:87: FutureWarning: Function safe_indexing is deprecated; safe_indexing is deprecated in version 0.22 and will be removed in version 0.24.\n",
            "  warnings.warn(msg, category=FutureWarning)\n",
            "/usr/local/lib/python3.7/dist-packages/sklearn/utils/deprecation.py:87: FutureWarning: Function safe_indexing is deprecated; safe_indexing is deprecated in version 0.22 and will be removed in version 0.24.\n",
            "  warnings.warn(msg, category=FutureWarning)\n",
            "/usr/local/lib/python3.7/dist-packages/sklearn/utils/deprecation.py:87: FutureWarning: Function safe_indexing is deprecated; safe_indexing is deprecated in version 0.22 and will be removed in version 0.24.\n",
            "  warnings.warn(msg, category=FutureWarning)\n",
            "/usr/local/lib/python3.7/dist-packages/sklearn/utils/deprecation.py:87: FutureWarning: Function safe_indexing is deprecated; safe_indexing is deprecated in version 0.22 and will be removed in version 0.24.\n",
            "  warnings.warn(msg, category=FutureWarning)\n",
            "/usr/local/lib/python3.7/dist-packages/sklearn/utils/deprecation.py:87: FutureWarning: Function safe_indexing is deprecated; safe_indexing is deprecated in version 0.22 and will be removed in version 0.24.\n",
            "  warnings.warn(msg, category=FutureWarning)\n"
          ],
          "name": "stderr"
        },
        {
          "output_type": "execute_result",
          "data": {
            "text/plain": [
              "Counter({-1.0: 9339, 0.0: 8372, 1.0: 9345})"
            ]
          },
          "metadata": {
            "tags": []
          },
          "execution_count": 38
        }
      ]
    },
    {
      "cell_type": "code",
      "metadata": {
        "id": "6RDgBDL9H-Kz"
      },
      "source": [
        "# Create a random forest classifier\n",
        "rf_model_SO = RandomForestClassifier(max_samples = None, \n",
        "                                     max_features = sqrt_features,\n",
        "                                     n_estimators = 100,\n",
        "                                     max_depth=5,\n",
        "                                     random_state=0)\n",
        "\n",
        "# Fit the model\n",
        "rf_model_SO = rf_model_SO.fit(X_resampled, y_resampled)\n",
        "\n",
        "# Make a prediction of \"y\" values from the X_test dataset\n",
        "predictions = rf_model_SO.predict(X_test_scaled)"
      ],
      "execution_count": 39,
      "outputs": []
    },
    {
      "cell_type": "code",
      "metadata": {
        "id": "7RXkQvAGwCZk"
      },
      "source": [
        "# Calculating the confusion matrix\n",
        "cm = confusion_matrix(y_test, predictions)\n",
        "cm_df = pd.DataFrame(\n",
        "    cm, index=[\"Actual -1\", \"Actual 0\", \"Actual +1\"], \n",
        "               columns=[\"Pred -1\",\"Pred 0\", \"Pred 1\"])\n",
        "\n",
        "acc_score = accuracy_score(y_test, predictions)"
      ],
      "execution_count": 40,
      "outputs": []
    },
    {
      "cell_type": "code",
      "metadata": {
        "colab": {
          "base_uri": "https://localhost:8080/",
          "height": 363
        },
        "id": "ecVFUGMvwDEb",
        "outputId": "5abf24f8-bacd-43d0-a3cc-0933e236915a"
      },
      "source": [
        "# Displaying results\n",
        "print(\"Confusion Matrix\")\n",
        "display(cm_df)\n",
        "print(f\"Accuracy Score : {acc_score}\")\n",
        "print(\"Classification Report\")\n",
        "print(classification_report(y_test, predictions))"
      ],
      "execution_count": 41,
      "outputs": [
        {
          "output_type": "stream",
          "text": [
            "Confusion Matrix\n"
          ],
          "name": "stdout"
        },
        {
          "output_type": "display_data",
          "data": {
            "text/html": [
              "<div>\n",
              "<style scoped>\n",
              "    .dataframe tbody tr th:only-of-type {\n",
              "        vertical-align: middle;\n",
              "    }\n",
              "\n",
              "    .dataframe tbody tr th {\n",
              "        vertical-align: top;\n",
              "    }\n",
              "\n",
              "    .dataframe thead th {\n",
              "        text-align: right;\n",
              "    }\n",
              "</style>\n",
              "<table border=\"1\" class=\"dataframe\">\n",
              "  <thead>\n",
              "    <tr style=\"text-align: right;\">\n",
              "      <th></th>\n",
              "      <th>Pred -1</th>\n",
              "      <th>Pred 0</th>\n",
              "      <th>Pred 1</th>\n",
              "    </tr>\n",
              "  </thead>\n",
              "  <tbody>\n",
              "    <tr>\n",
              "      <th>Actual -1</th>\n",
              "      <td>126</td>\n",
              "      <td>25</td>\n",
              "      <td>2</td>\n",
              "    </tr>\n",
              "    <tr>\n",
              "      <th>Actual 0</th>\n",
              "      <td>462</td>\n",
              "      <td>2254</td>\n",
              "      <td>394</td>\n",
              "    </tr>\n",
              "    <tr>\n",
              "      <th>Actual +1</th>\n",
              "      <td>8</td>\n",
              "      <td>11</td>\n",
              "      <td>93</td>\n",
              "    </tr>\n",
              "  </tbody>\n",
              "</table>\n",
              "</div>"
            ],
            "text/plain": [
              "           Pred -1  Pred 0  Pred 1\n",
              "Actual -1      126      25       2\n",
              "Actual 0       462    2254     394\n",
              "Actual +1        8      11      93"
            ]
          },
          "metadata": {
            "tags": []
          }
        },
        {
          "output_type": "stream",
          "text": [
            "Accuracy Score : 0.7327407407407407\n",
            "Classification Report\n",
            "              precision    recall  f1-score   support\n",
            "\n",
            "        -1.0       0.21      0.82      0.34       153\n",
            "         0.0       0.98      0.72      0.83      3110\n",
            "         1.0       0.19      0.83      0.31       112\n",
            "\n",
            "    accuracy                           0.73      3375\n",
            "   macro avg       0.46      0.79      0.49      3375\n",
            "weighted avg       0.92      0.73      0.79      3375\n",
            "\n"
          ],
          "name": "stdout"
        }
      ]
    },
    {
      "cell_type": "code",
      "metadata": {
        "colab": {
          "base_uri": "https://localhost:8080/"
        },
        "id": "8rG8s7VxIBIx",
        "outputId": "c42f81c1-87f2-4370-8a9b-acfb1a328e08"
      },
      "source": [
        "# Balanced accuracy score\n",
        "print(\"Balanced accuracy score: %.4f\" % balanced_accuracy_score(y_test, predictions))"
      ],
      "execution_count": 42,
      "outputs": [
        {
          "output_type": "stream",
          "text": [
            "Balanced accuracy score: 0.7929\n"
          ],
          "name": "stdout"
        }
      ]
    },
    {
      "cell_type": "code",
      "metadata": {
        "id": "-RYn6E1kvmBL"
      },
      "source": [
        "# Get the feature importance array\n",
        "importances = rf_model_SO.feature_importances_"
      ],
      "execution_count": 43,
      "outputs": []
    },
    {
      "cell_type": "code",
      "metadata": {
        "colab": {
          "base_uri": "https://localhost:8080/"
        },
        "id": "YzJF5Uq_vmbA",
        "outputId": "36900bab-8300-45ac-cd8a-b076f776dd6a"
      },
      "source": [
        "# List the top 10 most important features\n",
        "importances_sorted = sorted(zip(rf_model_SO.feature_importances_, X.columns), reverse=True)\n",
        "importances_sorted[:10]"
      ],
      "execution_count": 44,
      "outputs": [
        {
          "output_type": "execute_result",
          "data": {
            "text/plain": [
              "[(0.1441925056905273, 'pe'),\n",
              " (0.0976802589441564, 'evebitda'),\n",
              " (0.09479990303638709, 'percent_fred_macro_yc_30_yr'),\n",
              " (0.042176541428613365, 'netmargin'),\n",
              " (0.03678492282953559, 'siccode_fundamentals'),\n",
              " (0.03619393710383872, 'percentchange_fred_macro_gdp'),\n",
              " (0.035598919505607216, 'marketcap'),\n",
              " (0.03498308133291789, 'ev'),\n",
              " (0.03370920623210007, 'pb'),\n",
              " (0.03312123220181769, 'percent_fred_macro_yc_3_mo')]"
            ]
          },
          "metadata": {
            "tags": []
          },
          "execution_count": 44
        }
      ]
    },
    {
      "cell_type": "code",
      "metadata": {
        "colab": {
          "base_uri": "https://localhost:8080/",
          "height": 281
        },
        "id": "sgk0Frvivm2g",
        "outputId": "29b2aa67-38d3-4368-92ca-59bcb2142b4a"
      },
      "source": [
        "# Visualize the features by importance\n",
        "importances_df = pd.DataFrame(sorted(zip(rf_model_SO.feature_importances_, X.columns), reverse=True))\n",
        "importances_df.set_index(importances_df[1], inplace=True)\n",
        "importances_df.drop(columns=1, inplace=True)\n",
        "importances_df.rename(columns={0: 'Feature Importances'}, inplace=True)\n",
        "importances_sorted = importances_df.sort_values(by='Feature Importances')\n",
        "importances_df[:10].plot(kind='barh', color='lightgreen', title= 'Features Importances', legend=False).invert_yaxis()"
      ],
      "execution_count": 45,
      "outputs": [
        {
          "output_type": "display_data",
          "data": {
            "image/png": "[encoded data removed]",
            "text/plain": [
              "<Figure size 432x288 with 1 Axes>"
            ]
          },
          "metadata": {
            "tags": [],
            "needs_background": "light"
          }
        }
      ]
    }
  ]
}