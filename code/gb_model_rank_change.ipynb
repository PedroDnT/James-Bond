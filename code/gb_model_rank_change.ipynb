{
  "nbformat": 4,
  "nbformat_minor": 0,
  "metadata": {
    "colab": {
      "name": "gb_model_rank_change",
      "provenance": [],
      "mount_file_id": "1y9IBymTgiFMth1SP7VV6QbgGCKsaFXSC",
      "authorship_tag": "ABX9TyO7jpA878Nn026ubmZfcK/D",
      "include_colab_link": true
    },
    "kernelspec": {
      "name": "python3",
      "display_name": "Python 3"
    },
    "language_info": {
      "name": "python"
    }
  },
  "cells": [
    {
      "cell_type": "markdown",
      "metadata": {
        "id": "view-in-github",
        "colab_type": "text"
      },
      "source": [
        "<a href=\"https://colab.research.google.com/github/saponew/James-Bond/blob/main/gb_model_rank_change.ipynb\" target=\"_parent\"><img src=\"https://colab.research.google.com/assets/colab-badge.svg\" alt=\"Open In Colab\"/></a>"
      ]
    },
    {
      "cell_type": "code",
      "metadata": {
        "colab": {
          "base_uri": "https://localhost:8080/"
        },
        "id": "BraRc09MIyHc",
        "outputId": "d957c456-8f1e-4105-cf55-a85adf4731b9"
      },
      "source": [
        "pip install bayesian-optimization"
      ],
      "execution_count": null,
      "outputs": [
        {
          "output_type": "stream",
          "text": [
            "Requirement already satisfied: bayesian-optimization in /usr/local/lib/python3.7/dist-packages (1.2.0)\n",
            "Requirement already satisfied: scipy>=0.14.0 in /usr/local/lib/python3.7/dist-packages (from bayesian-optimization) (1.4.1)\n",
            "Requirement already satisfied: numpy>=1.9.0 in /usr/local/lib/python3.7/dist-packages (from bayesian-optimization) (1.19.5)\n",
            "Requirement already satisfied: scikit-learn>=0.18.0 in /usr/local/lib/python3.7/dist-packages (from bayesian-optimization) (0.22.2.post1)\n",
            "Requirement already satisfied: joblib>=0.11 in /usr/local/lib/python3.7/dist-packages (from scikit-learn>=0.18.0->bayesian-optimization) (1.0.1)\n"
          ],
          "name": "stdout"
        }
      ]
    },
    {
      "cell_type": "code",
      "metadata": {
        "id": "cbapQEPYItRe"
      },
      "source": [
        "#Import libraries\n",
        "import pandas as pd\n",
        "import numpy as np\n",
        "import xgboost\n",
        "from sklearn import model_selection\n",
        "from sklearn.metrics import accuracy_score\n",
        "from sklearn.preprocessing import LabelEncoder"
      ],
      "execution_count": null,
      "outputs": []
    },
    {
      "cell_type": "code",
      "metadata": {
        "id": "I7fnRkrgI8pt"
      },
      "source": [
        "from pathlib import Path\n",
        "csvpath = Path('/content/drive/MyDrive/Project 2/Data/Data tables/all_cusips_core_rating_shifted_df_v4_MACRO_FINAL.csv')\n",
        "\n",
        "df = pd.read_csv(csvpath, parse_dates=True, index_col='date_fundamentals')"
      ],
      "execution_count": null,
      "outputs": []
    },
    {
      "cell_type": "code",
      "metadata": {
        "colab": {
          "base_uri": "https://localhost:8080/"
        },
        "id": "g2n0-3SCKVXF",
        "outputId": "8db3e859-87bb-40fb-aaf9-9f6ab1e9be8a"
      },
      "source": [
        "df.dtypes"
      ],
      "execution_count": null,
      "outputs": [
        {
          "output_type": "execute_result",
          "data": {
            "text/plain": [
              "Unnamed: 0                                      int64\n",
              "Unnamed: 0.1                                  float64\n",
              "cusip_company_part                             object\n",
              "siccode_fundamentals                            int64\n",
              "ticker_fundamentals                            object\n",
              "company_name_fundamentals                      object\n",
              "revenueusd                                    float64\n",
              "ebitdausd                                     float64\n",
              "ebitdamargin                                  float64\n",
              "netinccmnusd                                  float64\n",
              "netmargin                                     float64\n",
              "cashnequsd                                    float64\n",
              "workingcapital                                float64\n",
              "debtusd                                       float64\n",
              "liabilities                                   float64\n",
              "equityusd                                     float64\n",
              "marketcap                                     float64\n",
              "ev                                            float64\n",
              "fcf                                           float64\n",
              "ncfdebt                                       float64\n",
              "currentratio                                  float64\n",
              "de                                            float64\n",
              "divyield                                      float64\n",
              "epsusd                                        float64\n",
              "payoutratio                                   float64\n",
              "evebitda                                      float64\n",
              "pb                                            float64\n",
              "pe                                            float64\n",
              "isin                                           object\n",
              "currency                                       object\n",
              "close_edi                                     float64\n",
              "mktclosedate                                   object\n",
              "secid                                         float64\n",
              "uscode                                         object\n",
              "coupon_x                                       object\n",
              "maturity_date                                  object\n",
              "timedelta                                       int64\n",
              "cusip                                          object\n",
              "maturity                                       object\n",
              "rating                                         object\n",
              "date                                           object\n",
              "coupon_y                                      float64\n",
              "issuer_cusip                                   object\n",
              "rank                                          float64\n",
              "timedelta_2                                   float64\n",
              "date_fundamentals_shifted                      object\n",
              "rating_shifted                                 object\n",
              "rank_shifted                                  float64\n",
              "rank_diff                                     float64\n",
              "maturity_year                                 float64\n",
              "rank_change                                   float64\n",
              "rank_change_2                                 float64\n",
              "observed_date                                  object\n",
              "percent_fred_macro_yc_30_yr                   float64\n",
              "percent_fred_macro_yc_3_mo                    float64\n",
              "percentchange_fred_macro_gdp                  float64\n",
              "dollars_fred_crude_oil_prices                 float64\n",
              "percent_fred_five_year_breakeven_inflation    float64\n",
              "index_fred_macro_vix                          float64\n",
              "dtype: object"
            ]
          },
          "metadata": {
            "tags": []
          },
          "execution_count": 3
        }
      ]
    },
    {
      "cell_type": "code",
      "metadata": {
        "id": "SWOLJDBmKZDT"
      },
      "source": [
        "from sklearn import tree\n",
        "from sklearn.preprocessing import StandardScaler\n",
        "from sklearn.model_selection import train_test_split\n",
        "from sklearn.ensemble import GradientBoostingClassifier\n",
        "\n",
        "from sklearn.metrics import confusion_matrix\n",
        "from sklearn.metrics import accuracy_score\n",
        "from sklearn.metrics import classification_report\n",
        "\n",
        "# Needed for decision tree visualization\n",
        "import pydotplus\n",
        "from IPython.display import Image"
      ],
      "execution_count": null,
      "outputs": []
    },
    {
      "cell_type": "code",
      "metadata": {
        "id": "zRjHVW8awI-S",
        "colab": {
          "base_uri": "https://localhost:8080/",
          "height": 595
        },
        "outputId": "c8d3d938-a308-4d7e-ec26-eaa8a3d76d27"
      },
      "source": [
        "# data wrangling: drop NaN, cap timedelta @60\n",
        "df_final = df.drop(['Unnamed: 0', 'Unnamed: 0.1'], axis=1)\n",
        "df_final.dropna(inplace=True)\n",
        "df_final = df_final.loc[df_final['timedelta'] <= 60]\n",
        "\n",
        "print(df_final.info)\n",
        "df_final.head()"
      ],
      "execution_count": null,
      "outputs": [
        {
          "output_type": "stream",
          "text": [
            "<bound method DataFrame.info of                   cusip_company_part  ...  index_fred_macro_vix\n",
            "date_fundamentals                     ...                      \n",
            "2012-06-27                    00724F  ...                 20.38\n",
            "2012-06-27                    00724F  ...                 20.38\n",
            "2012-07-05                    026375  ...                 16.66\n",
            "2012-07-19                    05329W  ...                 16.16\n",
            "2012-07-19                    126408  ...                 16.16\n",
            "...                              ...  ...                   ...\n",
            "2020-12-18                    891092  ...                 21.93\n",
            "2020-12-18                    00846U  ...                 21.93\n",
            "2020-12-18                    00846U  ...                 21.93\n",
            "2020-12-18                    00846U  ...                 21.93\n",
            "2021-02-12                    620076  ...                 21.25\n",
            "\n",
            "[13498 rows x 57 columns]>\n"
          ],
          "name": "stdout"
        },
        {
          "output_type": "execute_result",
          "data": {
            "text/html": [
              "<div>\n",
              "<style scoped>\n",
              "    .dataframe tbody tr th:only-of-type {\n",
              "        vertical-align: middle;\n",
              "    }\n",
              "\n",
              "    .dataframe tbody tr th {\n",
              "        vertical-align: top;\n",
              "    }\n",
              "\n",
              "    .dataframe thead th {\n",
              "        text-align: right;\n",
              "    }\n",
              "</style>\n",
              "<table border=\"1\" class=\"dataframe\">\n",
              "  <thead>\n",
              "    <tr style=\"text-align: right;\">\n",
              "      <th></th>\n",
              "      <th>cusip_company_part</th>\n",
              "      <th>siccode_fundamentals</th>\n",
              "      <th>ticker_fundamentals</th>\n",
              "      <th>company_name_fundamentals</th>\n",
              "      <th>revenueusd</th>\n",
              "      <th>ebitdausd</th>\n",
              "      <th>ebitdamargin</th>\n",
              "      <th>netinccmnusd</th>\n",
              "      <th>netmargin</th>\n",
              "      <th>cashnequsd</th>\n",
              "      <th>workingcapital</th>\n",
              "      <th>debtusd</th>\n",
              "      <th>liabilities</th>\n",
              "      <th>equityusd</th>\n",
              "      <th>marketcap</th>\n",
              "      <th>ev</th>\n",
              "      <th>fcf</th>\n",
              "      <th>ncfdebt</th>\n",
              "      <th>currentratio</th>\n",
              "      <th>de</th>\n",
              "      <th>divyield</th>\n",
              "      <th>epsusd</th>\n",
              "      <th>payoutratio</th>\n",
              "      <th>evebitda</th>\n",
              "      <th>pb</th>\n",
              "      <th>pe</th>\n",
              "      <th>isin</th>\n",
              "      <th>currency</th>\n",
              "      <th>close_edi</th>\n",
              "      <th>mktclosedate</th>\n",
              "      <th>secid</th>\n",
              "      <th>uscode</th>\n",
              "      <th>coupon_x</th>\n",
              "      <th>maturity_date</th>\n",
              "      <th>timedelta</th>\n",
              "      <th>cusip</th>\n",
              "      <th>maturity</th>\n",
              "      <th>rating</th>\n",
              "      <th>date</th>\n",
              "      <th>coupon_y</th>\n",
              "      <th>issuer_cusip</th>\n",
              "      <th>rank</th>\n",
              "      <th>timedelta_2</th>\n",
              "      <th>date_fundamentals_shifted</th>\n",
              "      <th>rating_shifted</th>\n",
              "      <th>rank_shifted</th>\n",
              "      <th>rank_diff</th>\n",
              "      <th>maturity_year</th>\n",
              "      <th>rank_change</th>\n",
              "      <th>rank_change_2</th>\n",
              "      <th>observed_date</th>\n",
              "      <th>percent_fred_macro_yc_30_yr</th>\n",
              "      <th>percent_fred_macro_yc_3_mo</th>\n",
              "      <th>percentchange_fred_macro_gdp</th>\n",
              "      <th>dollars_fred_crude_oil_prices</th>\n",
              "      <th>percent_fred_five_year_breakeven_inflation</th>\n",
              "      <th>index_fred_macro_vix</th>\n",
              "    </tr>\n",
              "    <tr>\n",
              "      <th>date_fundamentals</th>\n",
              "      <th></th>\n",
              "      <th></th>\n",
              "      <th></th>\n",
              "      <th></th>\n",
              "      <th></th>\n",
              "      <th></th>\n",
              "      <th></th>\n",
              "      <th></th>\n",
              "      <th></th>\n",
              "      <th></th>\n",
              "      <th></th>\n",
              "      <th></th>\n",
              "      <th></th>\n",
              "      <th></th>\n",
              "      <th></th>\n",
              "      <th></th>\n",
              "      <th></th>\n",
              "      <th></th>\n",
              "      <th></th>\n",
              "      <th></th>\n",
              "      <th></th>\n",
              "      <th></th>\n",
              "      <th></th>\n",
              "      <th></th>\n",
              "      <th></th>\n",
              "      <th></th>\n",
              "      <th></th>\n",
              "      <th></th>\n",
              "      <th></th>\n",
              "      <th></th>\n",
              "      <th></th>\n",
              "      <th></th>\n",
              "      <th></th>\n",
              "      <th></th>\n",
              "      <th></th>\n",
              "      <th></th>\n",
              "      <th></th>\n",
              "      <th></th>\n",
              "      <th></th>\n",
              "      <th></th>\n",
              "      <th></th>\n",
              "      <th></th>\n",
              "      <th></th>\n",
              "      <th></th>\n",
              "      <th></th>\n",
              "      <th></th>\n",
              "      <th></th>\n",
              "      <th></th>\n",
              "      <th></th>\n",
              "      <th></th>\n",
              "      <th></th>\n",
              "      <th></th>\n",
              "      <th></th>\n",
              "      <th></th>\n",
              "      <th></th>\n",
              "      <th></th>\n",
              "      <th></th>\n",
              "    </tr>\n",
              "  </thead>\n",
              "  <tbody>\n",
              "    <tr>\n",
              "      <th>2012-06-27</th>\n",
              "      <td>00724F</td>\n",
              "      <td>7372</td>\n",
              "      <td>ADBE</td>\n",
              "      <td>Adobe Inc</td>\n",
              "      <td>1.124449e+09</td>\n",
              "      <td>3.883770e+08</td>\n",
              "      <td>0.345</td>\n",
              "      <td>223876016.0</td>\n",
              "      <td>0.199</td>\n",
              "      <td>951238080.0</td>\n",
              "      <td>2.525163e+09</td>\n",
              "      <td>1.510094e+09</td>\n",
              "      <td>3.266186e+09</td>\n",
              "      <td>6.099646e+09</td>\n",
              "      <td>1.544626e+10</td>\n",
              "      <td>1.600512e+10</td>\n",
              "      <td>387451008.0</td>\n",
              "      <td>-2290000.0</td>\n",
              "      <td>3.027</td>\n",
              "      <td>0.535</td>\n",
              "      <td>0.000</td>\n",
              "      <td>0.45</td>\n",
              "      <td>0.000</td>\n",
              "      <td>11.385</td>\n",
              "      <td>2.532</td>\n",
              "      <td>19.856001</td>\n",
              "      <td>US00724FAA93</td>\n",
              "      <td>USD</td>\n",
              "      <td>105.124</td>\n",
              "      <td>2012-06-27</td>\n",
              "      <td>1758557.0</td>\n",
              "      <td>00724FAA9</td>\n",
              "      <td>3.25%</td>\n",
              "      <td>2015-02-01</td>\n",
              "      <td>0</td>\n",
              "      <td>00724FAA9</td>\n",
              "      <td>2015-02-01</td>\n",
              "      <td>BAA1</td>\n",
              "      <td>2012-06-15</td>\n",
              "      <td>3.250</td>\n",
              "      <td>00724F</td>\n",
              "      <td>8.0</td>\n",
              "      <td>12.0</td>\n",
              "      <td>2013-01-22</td>\n",
              "      <td>BAA1</td>\n",
              "      <td>8.0</td>\n",
              "      <td>0.0</td>\n",
              "      <td>2.600</td>\n",
              "      <td>0.0</td>\n",
              "      <td>0.0</td>\n",
              "      <td>2012-06-27</td>\n",
              "      <td>2.71</td>\n",
              "      <td>0.10</td>\n",
              "      <td>2.9</td>\n",
              "      <td>79.34</td>\n",
              "      <td>1.68</td>\n",
              "      <td>20.38</td>\n",
              "    </tr>\n",
              "    <tr>\n",
              "      <th>2012-06-27</th>\n",
              "      <td>00724F</td>\n",
              "      <td>7372</td>\n",
              "      <td>ADBE</td>\n",
              "      <td>Adobe Inc</td>\n",
              "      <td>1.124449e+09</td>\n",
              "      <td>3.883770e+08</td>\n",
              "      <td>0.345</td>\n",
              "      <td>223876016.0</td>\n",
              "      <td>0.199</td>\n",
              "      <td>951238080.0</td>\n",
              "      <td>2.525163e+09</td>\n",
              "      <td>1.510094e+09</td>\n",
              "      <td>3.266186e+09</td>\n",
              "      <td>6.099646e+09</td>\n",
              "      <td>1.544626e+10</td>\n",
              "      <td>1.600512e+10</td>\n",
              "      <td>387451008.0</td>\n",
              "      <td>-2290000.0</td>\n",
              "      <td>3.027</td>\n",
              "      <td>0.535</td>\n",
              "      <td>0.000</td>\n",
              "      <td>0.45</td>\n",
              "      <td>0.000</td>\n",
              "      <td>11.385</td>\n",
              "      <td>2.532</td>\n",
              "      <td>19.856001</td>\n",
              "      <td>US00724FAB76</td>\n",
              "      <td>USD</td>\n",
              "      <td>111.915</td>\n",
              "      <td>2012-06-27</td>\n",
              "      <td>1758481.0</td>\n",
              "      <td>00724FAB7</td>\n",
              "      <td>4.75%</td>\n",
              "      <td>2020-02-01</td>\n",
              "      <td>0</td>\n",
              "      <td>00724FAB7</td>\n",
              "      <td>2020-02-01</td>\n",
              "      <td>BAA1</td>\n",
              "      <td>2012-06-15</td>\n",
              "      <td>4.750</td>\n",
              "      <td>00724F</td>\n",
              "      <td>8.0</td>\n",
              "      <td>12.0</td>\n",
              "      <td>2013-01-22</td>\n",
              "      <td>BAA1</td>\n",
              "      <td>8.0</td>\n",
              "      <td>0.0</td>\n",
              "      <td>7.603</td>\n",
              "      <td>0.0</td>\n",
              "      <td>0.0</td>\n",
              "      <td>2012-06-27</td>\n",
              "      <td>2.71</td>\n",
              "      <td>0.10</td>\n",
              "      <td>2.9</td>\n",
              "      <td>79.34</td>\n",
              "      <td>1.68</td>\n",
              "      <td>20.38</td>\n",
              "    </tr>\n",
              "    <tr>\n",
              "      <th>2012-07-05</th>\n",
              "      <td>026375</td>\n",
              "      <td>2771</td>\n",
              "      <td>AM1</td>\n",
              "      <td>American Greetings Corp</td>\n",
              "      <td>3.931060e+08</td>\n",
              "      <td>2.626500e+07</td>\n",
              "      <td>0.067</td>\n",
              "      <td>7250000.5</td>\n",
              "      <td>0.018</td>\n",
              "      <td>60180000.0</td>\n",
              "      <td>2.500000e+08</td>\n",
              "      <td>2.251810e+08</td>\n",
              "      <td>8.090370e+08</td>\n",
              "      <td>6.794340e+08</td>\n",
              "      <td>4.851067e+08</td>\n",
              "      <td>6.501076e+08</td>\n",
              "      <td>33485000.0</td>\n",
              "      <td>0.0</td>\n",
              "      <td>1.842</td>\n",
              "      <td>1.191</td>\n",
              "      <td>0.052</td>\n",
              "      <td>0.20</td>\n",
              "      <td>0.750</td>\n",
              "      <td>4.348</td>\n",
              "      <td>0.714</td>\n",
              "      <td>15.229000</td>\n",
              "      <td>US026375AP03</td>\n",
              "      <td>USD</td>\n",
              "      <td>105.250</td>\n",
              "      <td>2012-07-05</td>\n",
              "      <td>3295358.0</td>\n",
              "      <td>026375AP0</td>\n",
              "      <td>7.375%</td>\n",
              "      <td>2021-12-01</td>\n",
              "      <td>0</td>\n",
              "      <td>026375AP0</td>\n",
              "      <td>2021-12-01</td>\n",
              "      <td>BA2</td>\n",
              "      <td>2012-06-15</td>\n",
              "      <td>7.375</td>\n",
              "      <td>026375</td>\n",
              "      <td>12.0</td>\n",
              "      <td>20.0</td>\n",
              "      <td>2013-01-02</td>\n",
              "      <td>BA2</td>\n",
              "      <td>12.0</td>\n",
              "      <td>0.0</td>\n",
              "      <td>9.414</td>\n",
              "      <td>0.0</td>\n",
              "      <td>0.0</td>\n",
              "      <td>2012-07-05</td>\n",
              "      <td>2.74</td>\n",
              "      <td>0.09</td>\n",
              "      <td>2.9</td>\n",
              "      <td>87.74</td>\n",
              "      <td>1.80</td>\n",
              "      <td>16.66</td>\n",
              "    </tr>\n",
              "    <tr>\n",
              "      <th>2012-07-19</th>\n",
              "      <td>05329W</td>\n",
              "      <td>5500</td>\n",
              "      <td>AN</td>\n",
              "      <td>Autonation Inc</td>\n",
              "      <td>3.904500e+09</td>\n",
              "      <td>1.833000e+08</td>\n",
              "      <td>0.047</td>\n",
              "      <td>78600000.0</td>\n",
              "      <td>0.020</td>\n",
              "      <td>62100000.0</td>\n",
              "      <td>1.686000e+08</td>\n",
              "      <td>2.028500e+09</td>\n",
              "      <td>4.933200e+09</td>\n",
              "      <td>1.528200e+09</td>\n",
              "      <td>4.922053e+09</td>\n",
              "      <td>6.888453e+09</td>\n",
              "      <td>-13500000.0</td>\n",
              "      <td>144500000.0</td>\n",
              "      <td>1.062</td>\n",
              "      <td>3.228</td>\n",
              "      <td>0.000</td>\n",
              "      <td>0.65</td>\n",
              "      <td>0.000</td>\n",
              "      <td>10.145</td>\n",
              "      <td>3.221</td>\n",
              "      <td>16.874001</td>\n",
              "      <td>US05329WAJ18</td>\n",
              "      <td>USD</td>\n",
              "      <td>110.152</td>\n",
              "      <td>2012-07-19</td>\n",
              "      <td>1856738.0</td>\n",
              "      <td>05329WAJ1</td>\n",
              "      <td>6.75%</td>\n",
              "      <td>2018-04-15</td>\n",
              "      <td>0</td>\n",
              "      <td>05329WAJ1</td>\n",
              "      <td>2018-04-15</td>\n",
              "      <td>BA2</td>\n",
              "      <td>2012-06-15</td>\n",
              "      <td>6.750</td>\n",
              "      <td>05329W</td>\n",
              "      <td>12.0</td>\n",
              "      <td>34.0</td>\n",
              "      <td>2013-02-15</td>\n",
              "      <td>BA2</td>\n",
              "      <td>12.0</td>\n",
              "      <td>0.0</td>\n",
              "      <td>5.742</td>\n",
              "      <td>0.0</td>\n",
              "      <td>0.0</td>\n",
              "      <td>2012-07-19</td>\n",
              "      <td>2.59</td>\n",
              "      <td>0.09</td>\n",
              "      <td>2.9</td>\n",
              "      <td>89.07</td>\n",
              "      <td>1.82</td>\n",
              "      <td>16.16</td>\n",
              "    </tr>\n",
              "    <tr>\n",
              "      <th>2012-07-19</th>\n",
              "      <td>126408</td>\n",
              "      <td>4011</td>\n",
              "      <td>CSX</td>\n",
              "      <td>Csx Corp</td>\n",
              "      <td>3.012000e+09</td>\n",
              "      <td>1.211000e+09</td>\n",
              "      <td>0.402</td>\n",
              "      <td>512000000.0</td>\n",
              "      <td>0.170</td>\n",
              "      <td>642000000.0</td>\n",
              "      <td>-2.030000e+08</td>\n",
              "      <td>9.089000e+09</td>\n",
              "      <td>2.069400e+10</td>\n",
              "      <td>8.895000e+09</td>\n",
              "      <td>2.369094e+10</td>\n",
              "      <td>3.213794e+10</td>\n",
              "      <td>93000000.0</td>\n",
              "      <td>-42000000.0</td>\n",
              "      <td>0.921</td>\n",
              "      <td>2.326</td>\n",
              "      <td>0.022</td>\n",
              "      <td>0.49</td>\n",
              "      <td>0.286</td>\n",
              "      <td>7.062</td>\n",
              "      <td>2.663</td>\n",
              "      <td>12.588000</td>\n",
              "      <td>US126408BP76</td>\n",
              "      <td>USD</td>\n",
              "      <td>127.500</td>\n",
              "      <td>2012-07-19</td>\n",
              "      <td>1070939.0</td>\n",
              "      <td>126408BP7</td>\n",
              "      <td>7.25%</td>\n",
              "      <td>2027-05-01</td>\n",
              "      <td>0</td>\n",
              "      <td>126408BP7</td>\n",
              "      <td>2027-05-01</td>\n",
              "      <td>BAA3</td>\n",
              "      <td>2012-06-15</td>\n",
              "      <td>7.250</td>\n",
              "      <td>126408</td>\n",
              "      <td>10.0</td>\n",
              "      <td>34.0</td>\n",
              "      <td>2013-02-19</td>\n",
              "      <td>BAA2</td>\n",
              "      <td>9.0</td>\n",
              "      <td>1.0</td>\n",
              "      <td>14.792</td>\n",
              "      <td>1.0</td>\n",
              "      <td>1.0</td>\n",
              "      <td>2012-07-19</td>\n",
              "      <td>2.59</td>\n",
              "      <td>0.09</td>\n",
              "      <td>2.9</td>\n",
              "      <td>89.07</td>\n",
              "      <td>1.82</td>\n",
              "      <td>16.16</td>\n",
              "    </tr>\n",
              "  </tbody>\n",
              "</table>\n",
              "</div>"
            ],
            "text/plain": [
              "                  cusip_company_part  ...  index_fred_macro_vix\n",
              "date_fundamentals                     ...                      \n",
              "2012-06-27                    00724F  ...                 20.38\n",
              "2012-06-27                    00724F  ...                 20.38\n",
              "2012-07-05                    026375  ...                 16.66\n",
              "2012-07-19                    05329W  ...                 16.16\n",
              "2012-07-19                    126408  ...                 16.16\n",
              "\n",
              "[5 rows x 57 columns]"
            ]
          },
          "metadata": {
            "tags": []
          },
          "execution_count": 5
        }
      ]
    },
    {
      "cell_type": "code",
      "metadata": {
        "colab": {
          "base_uri": "https://localhost:8080/",
          "height": 255
        },
        "id": "k8ioGxX8woHG",
        "outputId": "faba4518-3bf5-4e36-9cfc-c70b9739677a"
      },
      "source": [
        "# Set x variable list of features\n",
        "x_var_list = ['siccode_fundamentals', 'revenueusd', 'ebitdausd',\n",
        "       'ebitdamargin', 'netinccmnusd', 'netmargin', 'cashnequsd',\n",
        "       'workingcapital', 'debtusd', 'liabilities', 'equityusd', 'marketcap',\n",
        "       'ev', 'fcf', 'ncfdebt', 'currentratio', 'de', 'divyield', 'epsusd',\n",
        "       'payoutratio', 'evebitda', 'pb', 'pe', 'close_edi', 'coupon_x',\n",
        "       'percent_fred_macro_yc_30_yr',\n",
        "       'percent_fred_macro_yc_3_mo', 'percentchange_fred_macro_gdp',\n",
        "       'dollars_fred_crude_oil_prices',\n",
        "       'percent_fred_five_year_breakeven_inflation', 'index_fred_macro_vix', 'maturity_year']\n",
        "\n",
        "# Filter by x-variable list\n",
        "df_final[x_var_list].tail()"
      ],
      "execution_count": null,
      "outputs": [
        {
          "output_type": "execute_result",
          "data": {
            "text/html": [
              "<div>\n",
              "<style scoped>\n",
              "    .dataframe tbody tr th:only-of-type {\n",
              "        vertical-align: middle;\n",
              "    }\n",
              "\n",
              "    .dataframe tbody tr th {\n",
              "        vertical-align: top;\n",
              "    }\n",
              "\n",
              "    .dataframe thead th {\n",
              "        text-align: right;\n",
              "    }\n",
              "</style>\n",
              "<table border=\"1\" class=\"dataframe\">\n",
              "  <thead>\n",
              "    <tr style=\"text-align: right;\">\n",
              "      <th></th>\n",
              "      <th>siccode_fundamentals</th>\n",
              "      <th>revenueusd</th>\n",
              "      <th>ebitdausd</th>\n",
              "      <th>ebitdamargin</th>\n",
              "      <th>netinccmnusd</th>\n",
              "      <th>netmargin</th>\n",
              "      <th>cashnequsd</th>\n",
              "      <th>workingcapital</th>\n",
              "      <th>debtusd</th>\n",
              "      <th>liabilities</th>\n",
              "      <th>equityusd</th>\n",
              "      <th>marketcap</th>\n",
              "      <th>ev</th>\n",
              "      <th>fcf</th>\n",
              "      <th>ncfdebt</th>\n",
              "      <th>currentratio</th>\n",
              "      <th>de</th>\n",
              "      <th>divyield</th>\n",
              "      <th>epsusd</th>\n",
              "      <th>payoutratio</th>\n",
              "      <th>evebitda</th>\n",
              "      <th>pb</th>\n",
              "      <th>pe</th>\n",
              "      <th>close_edi</th>\n",
              "      <th>coupon_x</th>\n",
              "      <th>percent_fred_macro_yc_30_yr</th>\n",
              "      <th>percent_fred_macro_yc_3_mo</th>\n",
              "      <th>percentchange_fred_macro_gdp</th>\n",
              "      <th>dollars_fred_crude_oil_prices</th>\n",
              "      <th>percent_fred_five_year_breakeven_inflation</th>\n",
              "      <th>index_fred_macro_vix</th>\n",
              "      <th>maturity_year</th>\n",
              "    </tr>\n",
              "    <tr>\n",
              "      <th>date_fundamentals</th>\n",
              "      <th></th>\n",
              "      <th></th>\n",
              "      <th></th>\n",
              "      <th></th>\n",
              "      <th></th>\n",
              "      <th></th>\n",
              "      <th></th>\n",
              "      <th></th>\n",
              "      <th></th>\n",
              "      <th></th>\n",
              "      <th></th>\n",
              "      <th></th>\n",
              "      <th></th>\n",
              "      <th></th>\n",
              "      <th></th>\n",
              "      <th></th>\n",
              "      <th></th>\n",
              "      <th></th>\n",
              "      <th></th>\n",
              "      <th></th>\n",
              "      <th></th>\n",
              "      <th></th>\n",
              "      <th></th>\n",
              "      <th></th>\n",
              "      <th></th>\n",
              "      <th></th>\n",
              "      <th></th>\n",
              "      <th></th>\n",
              "      <th></th>\n",
              "      <th></th>\n",
              "      <th></th>\n",
              "      <th></th>\n",
              "    </tr>\n",
              "  </thead>\n",
              "  <tbody>\n",
              "    <tr>\n",
              "      <th>2020-12-18</th>\n",
              "      <td>3524</td>\n",
              "      <td>8.409570e+08</td>\n",
              "      <td>117440000.0</td>\n",
              "      <td>0.140</td>\n",
              "      <td>72196000.0</td>\n",
              "      <td>0.086</td>\n",
              "      <td>4.798920e+08</td>\n",
              "      <td>5.718510e+08</td>\n",
              "      <td>8.577640e+08</td>\n",
              "      <td>1.738400e+09</td>\n",
              "      <td>1.114828e+09</td>\n",
              "      <td>1.004494e+10</td>\n",
              "      <td>1.042282e+10</td>\n",
              "      <td>202057000.0</td>\n",
              "      <td>-100000000.0</td>\n",
              "      <td>1.668</td>\n",
              "      <td>1.559</td>\n",
              "      <td>0.011</td>\n",
              "      <td>0.67</td>\n",
              "      <td>0.373</td>\n",
              "      <td>20.186</td>\n",
              "      <td>9.010</td>\n",
              "      <td>30.467</td>\n",
              "      <td>132.717</td>\n",
              "      <td>7.80%</td>\n",
              "      <td>1.68</td>\n",
              "      <td>0.08</td>\n",
              "      <td>33.1</td>\n",
              "      <td>47.02</td>\n",
              "      <td>1.92</td>\n",
              "      <td>21.93</td>\n",
              "      <td>6.493</td>\n",
              "    </tr>\n",
              "    <tr>\n",
              "      <th>2020-12-18</th>\n",
              "      <td>3826</td>\n",
              "      <td>1.483000e+09</td>\n",
              "      <td>378000000.0</td>\n",
              "      <td>0.255</td>\n",
              "      <td>222000000.0</td>\n",
              "      <td>0.150</td>\n",
              "      <td>1.441000e+09</td>\n",
              "      <td>1.948000e+09</td>\n",
              "      <td>2.359000e+09</td>\n",
              "      <td>4.754000e+09</td>\n",
              "      <td>4.873000e+09</td>\n",
              "      <td>3.650589e+10</td>\n",
              "      <td>3.742389e+10</td>\n",
              "      <td>350000000.0</td>\n",
              "      <td>35000000.0</td>\n",
              "      <td>2.328</td>\n",
              "      <td>0.976</td>\n",
              "      <td>0.006</td>\n",
              "      <td>0.72</td>\n",
              "      <td>0.250</td>\n",
              "      <td>30.475</td>\n",
              "      <td>7.491</td>\n",
              "      <td>50.773</td>\n",
              "      <td>104.236</td>\n",
              "      <td>3.20%</td>\n",
              "      <td>1.68</td>\n",
              "      <td>0.08</td>\n",
              "      <td>33.1</td>\n",
              "      <td>47.02</td>\n",
              "      <td>1.92</td>\n",
              "      <td>21.93</td>\n",
              "      <td>1.786</td>\n",
              "    </tr>\n",
              "    <tr>\n",
              "      <th>2020-12-18</th>\n",
              "      <td>3826</td>\n",
              "      <td>1.483000e+09</td>\n",
              "      <td>378000000.0</td>\n",
              "      <td>0.255</td>\n",
              "      <td>222000000.0</td>\n",
              "      <td>0.150</td>\n",
              "      <td>1.441000e+09</td>\n",
              "      <td>1.948000e+09</td>\n",
              "      <td>2.359000e+09</td>\n",
              "      <td>4.754000e+09</td>\n",
              "      <td>4.873000e+09</td>\n",
              "      <td>3.650589e+10</td>\n",
              "      <td>3.742389e+10</td>\n",
              "      <td>350000000.0</td>\n",
              "      <td>35000000.0</td>\n",
              "      <td>2.328</td>\n",
              "      <td>0.976</td>\n",
              "      <td>0.006</td>\n",
              "      <td>0.72</td>\n",
              "      <td>0.250</td>\n",
              "      <td>30.475</td>\n",
              "      <td>7.491</td>\n",
              "      <td>50.773</td>\n",
              "      <td>104.236</td>\n",
              "      <td>3.20%</td>\n",
              "      <td>1.68</td>\n",
              "      <td>0.08</td>\n",
              "      <td>33.1</td>\n",
              "      <td>47.02</td>\n",
              "      <td>1.92</td>\n",
              "      <td>21.93</td>\n",
              "      <td>1.786</td>\n",
              "    </tr>\n",
              "    <tr>\n",
              "      <th>2020-12-18</th>\n",
              "      <td>3826</td>\n",
              "      <td>1.483000e+09</td>\n",
              "      <td>378000000.0</td>\n",
              "      <td>0.255</td>\n",
              "      <td>222000000.0</td>\n",
              "      <td>0.150</td>\n",
              "      <td>1.441000e+09</td>\n",
              "      <td>1.948000e+09</td>\n",
              "      <td>2.359000e+09</td>\n",
              "      <td>4.754000e+09</td>\n",
              "      <td>4.873000e+09</td>\n",
              "      <td>3.650589e+10</td>\n",
              "      <td>3.742389e+10</td>\n",
              "      <td>350000000.0</td>\n",
              "      <td>35000000.0</td>\n",
              "      <td>2.328</td>\n",
              "      <td>0.976</td>\n",
              "      <td>0.006</td>\n",
              "      <td>0.72</td>\n",
              "      <td>0.250</td>\n",
              "      <td>30.475</td>\n",
              "      <td>7.491</td>\n",
              "      <td>50.773</td>\n",
              "      <td>109.804</td>\n",
              "      <td>3.05%</td>\n",
              "      <td>1.68</td>\n",
              "      <td>0.08</td>\n",
              "      <td>33.1</td>\n",
              "      <td>47.02</td>\n",
              "      <td>1.92</td>\n",
              "      <td>21.93</td>\n",
              "      <td>5.764</td>\n",
              "    </tr>\n",
              "    <tr>\n",
              "      <th>2021-02-12</th>\n",
              "      <td>3663</td>\n",
              "      <td>2.273000e+09</td>\n",
              "      <td>683000000.0</td>\n",
              "      <td>0.300</td>\n",
              "      <td>412000000.0</td>\n",
              "      <td>0.181</td>\n",
              "      <td>1.254000e+09</td>\n",
              "      <td>8.380000e+08</td>\n",
              "      <td>5.577000e+09</td>\n",
              "      <td>1.141700e+10</td>\n",
              "      <td>-5.580000e+08</td>\n",
              "      <td>3.072765e+10</td>\n",
              "      <td>3.505065e+10</td>\n",
              "      <td>638000000.0</td>\n",
              "      <td>-203000000.0</td>\n",
              "      <td>1.240</td>\n",
              "      <td>-20.461</td>\n",
              "      <td>0.014</td>\n",
              "      <td>2.42</td>\n",
              "      <td>0.293</td>\n",
              "      <td>19.483</td>\n",
              "      <td>-55.067</td>\n",
              "      <td>32.379</td>\n",
              "      <td>110.250</td>\n",
              "      <td>5.22%</td>\n",
              "      <td>1.94</td>\n",
              "      <td>0.05</td>\n",
              "      <td>4.0</td>\n",
              "      <td>57.95</td>\n",
              "      <td>2.35</td>\n",
              "      <td>21.25</td>\n",
              "      <td>76.685</td>\n",
              "    </tr>\n",
              "  </tbody>\n",
              "</table>\n",
              "</div>"
            ],
            "text/plain": [
              "                   siccode_fundamentals  ...  maturity_year\n",
              "date_fundamentals                        ...               \n",
              "2020-12-18                         3524  ...          6.493\n",
              "2020-12-18                         3826  ...          1.786\n",
              "2020-12-18                         3826  ...          1.786\n",
              "2020-12-18                         3826  ...          5.764\n",
              "2021-02-12                         3663  ...         76.685\n",
              "\n",
              "[5 rows x 32 columns]"
            ]
          },
          "metadata": {
            "tags": []
          },
          "execution_count": 6
        }
      ]
    },
    {
      "cell_type": "code",
      "metadata": {
        "id": "JxfUAFCA3Vzd"
      },
      "source": [
        "df_final['coupon_x'].replace('%', '', regex=True, inplace=True)\n",
        "df_final['coupon_x'] = df_final['coupon_x'].astype('float') / 100"
      ],
      "execution_count": null,
      "outputs": []
    },
    {
      "cell_type": "code",
      "metadata": {
        "colab": {
          "base_uri": "https://localhost:8080/"
        },
        "id": "HpcmyOtnwuQt",
        "outputId": "aa6fd060-957f-43b4-af7b-c814f660019f"
      },
      "source": [
        "from collections import Counter\n",
        "# X = df_final[x_var_list]\n",
        "# y = df_final['rank_change']\n",
        "\n",
        "# X['coupon_x'].replace('%', '', regex=True, inplace=True)\n",
        "# X['coupon_x'] = X['coupon_x'].astype('float') / 100\n",
        "\n",
        "# np.unique(y, return_counts = True)\n",
        "Counter(y)"
      ],
      "execution_count": null,
      "outputs": [
        {
          "output_type": "execute_result",
          "data": {
            "text/plain": [
              "Counter({0.0: 12470, 1.0: 1028})"
            ]
          },
          "metadata": {
            "tags": []
          },
          "execution_count": 19
        }
      ]
    },
    {
      "cell_type": "code",
      "metadata": {
        "colab": {
          "base_uri": "https://localhost:8080/"
        },
        "id": "tXSTPBwxOnz_",
        "outputId": "e43130b3-df2a-4a02-baa8-6a9b1e57c464"
      },
      "source": [
        "len(df_final) * .66"
      ],
      "execution_count": null,
      "outputs": [
        {
          "output_type": "execute_result",
          "data": {
            "text/plain": [
              "8908.68"
            ]
          },
          "metadata": {
            "tags": []
          },
          "execution_count": 20
        }
      ]
    },
    {
      "cell_type": "code",
      "metadata": {
        "id": "QWM9ABHv7Ky9"
      },
      "source": [
        "from sklearn.preprocessing import MinMaxScaler\n",
        "from sklearn.model_selection import train_test_split\n",
        "from sklearn.metrics import classification_report, confusion_matrix\n",
        "from sklearn.ensemble import GradientBoostingClassifier\n",
        "X = df_final[x_var_list]\n",
        "y = df_final['rank_change']"
      ],
      "execution_count": null,
      "outputs": []
    },
    {
      "cell_type": "code",
      "metadata": {
        "id": "ip6H21QA6lIj"
      },
      "source": [
        "# Splitting into Train and Test sets\n",
        "X_train, X_test, y_train, y_test = train_test_split(X, y, random_state=78)"
      ],
      "execution_count": null,
      "outputs": []
    },
    {
      "cell_type": "code",
      "metadata": {
        "id": "Zqm0qrCv3kTw"
      },
      "source": [
        "# Creating the scaler instance\n",
        "scaler = StandardScaler()\n",
        "\n",
        "# Fitting the scaler\n",
        "scaler.fit(X_train)\n",
        "\n",
        "# Transforming the data\n",
        "X_train_scaled = scaler.transform(X_train)\n",
        "X_test_scaled = scaler.transform(X_test)"
      ],
      "execution_count": null,
      "outputs": []
    },
    {
      "cell_type": "code",
      "metadata": {
        "id": "hNQKXgGSO2h4",
        "colab": {
          "base_uri": "https://localhost:8080/"
        },
        "outputId": "1e59da4f-c9f6-4629-b45d-af1587bb5d73"
      },
      "source": [
        "learning_rate = [0.05, 0.075, 0.1, 0.25, 0.5, 0.75, 1]\n",
        "\n",
        "for learning_rate in learning_rate:\n",
        "    gb_clf = GradientBoostingClassifier(n_estimators=2, learning_rate=learning_rate, max_features=8, max_depth=3, random_state=23)\n",
        "    gb_clf.fit(X_train, y_train)\n",
        "\n",
        "    print(\"Learning rate: \", learning_rate)\n",
        "    print(\"Accuracy score (training): {0:.3f}\".format(gb_clf.score(X_train, y_train)))\n",
        "    print(\"Accuracy score (validation): {0:.3f}\".format(gb_clf.score(X_test, y_test)))"
      ],
      "execution_count": null,
      "outputs": [
        {
          "output_type": "stream",
          "text": [
            "Learning rate:  0.05\n",
            "Accuracy score (training): 0.925\n",
            "Accuracy score (validation): 0.921\n",
            "Learning rate:  0.075\n",
            "Accuracy score (training): 0.925\n",
            "Accuracy score (validation): 0.921\n",
            "Learning rate:  0.1\n",
            "Accuracy score (training): 0.925\n",
            "Accuracy score (validation): 0.921\n",
            "Learning rate:  0.25\n",
            "Accuracy score (training): 0.936\n",
            "Accuracy score (validation): 0.936\n",
            "Learning rate:  0.5\n",
            "Accuracy score (training): 0.937\n",
            "Accuracy score (validation): 0.933\n",
            "Learning rate:  0.75\n",
            "Accuracy score (training): 0.937\n",
            "Accuracy score (validation): 0.933\n",
            "Learning rate:  1\n",
            "Accuracy score (training): 0.932\n",
            "Accuracy score (validation): 0.927\n"
          ],
          "name": "stdout"
        }
      ]
    },
    {
      "cell_type": "code",
      "metadata": {
        "colab": {
          "base_uri": "https://localhost:8080/"
        },
        "id": "N-V9cYu68LeU",
        "outputId": "7cfe5135-cb53-48ab-a72f-31020ef182ce"
      },
      "source": [
        "gb_clf2 = GradientBoostingClassifier(n_estimators=3, learning_rate=0.5, max_features=8, max_depth=4, random_state=23)\n",
        "gb_clf2.fit(X_train, y_train)\n",
        "predictions = gb_clf2.predict(X_test)\n",
        "\n",
        "print(\"Confusion Matrix:\")\n",
        "print(confusion_matrix(y_test, predictions))\n",
        "\n",
        "print(\"Classification Report\")\n",
        "print(classification_report(y_test, predictions))"
      ],
      "execution_count": null,
      "outputs": [
        {
          "output_type": "stream",
          "text": [
            "Confusion Matrix:\n",
            "[[  54   99    0]\n",
            " [  15 3091    4]\n",
            " [   0   66   46]]\n",
            "Classification Report\n",
            "              precision    recall  f1-score   support\n",
            "\n",
            "        -1.0       0.78      0.35      0.49       153\n",
            "         0.0       0.95      0.99      0.97      3110\n",
            "         1.0       0.92      0.41      0.57       112\n",
            "\n",
            "    accuracy                           0.95      3375\n",
            "   macro avg       0.88      0.59      0.68      3375\n",
            "weighted avg       0.94      0.95      0.94      3375\n",
            "\n"
          ],
          "name": "stdout"
        }
      ]
    },
    {
      "cell_type": "code",
      "metadata": {
        "colab": {
          "base_uri": "https://localhost:8080/",
          "height": 363
        },
        "id": "7Kx-G_969HlI",
        "outputId": "2553fd90-16c8-463e-b4b6-ab4e34da3d51"
      },
      "source": [
        "# Calculating the confusion matrix\n",
        "cm = confusion_matrix(y_test, predictions)\n",
        "cm_df = pd.DataFrame(\n",
        "    cm, index=[\"Actual 1\",\"Actual 2\", \"Actual 3\"], \n",
        "               columns=[\"Predicted 1\",\"Predicted 2\", \"Predicted 3\"])\n",
        "\n",
        "acc_score = accuracy_score(y_test, predictions)\n",
        "\n",
        "# Displaying results\n",
        "print(\"Confusion Matrix\")\n",
        "display(cm_df)\n",
        "print(f\"Accuracy Score : {acc_score}\")\n",
        "print(\"Classification Report\")\n",
        "print(classification_report(y_test, predictions))"
      ],
      "execution_count": null,
      "outputs": [
        {
          "output_type": "stream",
          "text": [
            "Confusion Matrix\n"
          ],
          "name": "stdout"
        },
        {
          "output_type": "display_data",
          "data": {
            "text/html": [
              "<div>\n",
              "<style scoped>\n",
              "    .dataframe tbody tr th:only-of-type {\n",
              "        vertical-align: middle;\n",
              "    }\n",
              "\n",
              "    .dataframe tbody tr th {\n",
              "        vertical-align: top;\n",
              "    }\n",
              "\n",
              "    .dataframe thead th {\n",
              "        text-align: right;\n",
              "    }\n",
              "</style>\n",
              "<table border=\"1\" class=\"dataframe\">\n",
              "  <thead>\n",
              "    <tr style=\"text-align: right;\">\n",
              "      <th></th>\n",
              "      <th>Predicted 1</th>\n",
              "      <th>Predicted 2</th>\n",
              "      <th>Predicted 3</th>\n",
              "    </tr>\n",
              "  </thead>\n",
              "  <tbody>\n",
              "    <tr>\n",
              "      <th>Actual 1</th>\n",
              "      <td>54</td>\n",
              "      <td>99</td>\n",
              "      <td>0</td>\n",
              "    </tr>\n",
              "    <tr>\n",
              "      <th>Actual 2</th>\n",
              "      <td>15</td>\n",
              "      <td>3091</td>\n",
              "      <td>4</td>\n",
              "    </tr>\n",
              "    <tr>\n",
              "      <th>Actual 3</th>\n",
              "      <td>0</td>\n",
              "      <td>66</td>\n",
              "      <td>46</td>\n",
              "    </tr>\n",
              "  </tbody>\n",
              "</table>\n",
              "</div>"
            ],
            "text/plain": [
              "          Predicted 1  Predicted 2  Predicted 3\n",
              "Actual 1           54           99            0\n",
              "Actual 2           15         3091            4\n",
              "Actual 3            0           66           46"
            ]
          },
          "metadata": {
            "tags": []
          }
        },
        {
          "output_type": "stream",
          "text": [
            "Accuracy Score : 0.9454814814814815\n",
            "Classification Report\n",
            "              precision    recall  f1-score   support\n",
            "\n",
            "        -1.0       0.78      0.35      0.49       153\n",
            "         0.0       0.95      0.99      0.97      3110\n",
            "         1.0       0.92      0.41      0.57       112\n",
            "\n",
            "    accuracy                           0.95      3375\n",
            "   macro avg       0.88      0.59      0.68      3375\n",
            "weighted avg       0.94      0.95      0.94      3375\n",
            "\n"
          ],
          "name": "stdout"
        }
      ]
    },
    {
      "cell_type": "code",
      "metadata": {
        "colab": {
          "base_uri": "https://localhost:8080/"
        },
        "id": "xohsobaKCCKU",
        "outputId": "d40c5c80-4e3e-4ab5-fe94-5393891e8e23"
      },
      "source": [
        "from sklearn.metrics import confusion_matrix, accuracy_score, classification_report, balanced_accuracy_score\n",
        "balanced_accuracy_score(y_test, predictions)"
      ],
      "execution_count": null,
      "outputs": [
        {
          "output_type": "execute_result",
          "data": {
            "text/plain": [
              "0.5858487124753439"
            ]
          },
          "metadata": {
            "tags": []
          },
          "execution_count": 58
        }
      ]
    },
    {
      "cell_type": "code",
      "metadata": {
        "colab": {
          "base_uri": "https://localhost:8080/"
        },
        "id": "Q8JF7utKCUn2",
        "outputId": "3e1bc38a-d888-4806-aed0-dd87142a4752"
      },
      "source": [
        "from imblearn.over_sampling import RandomOverSampler, SMOTE\n",
        "from imblearn.metrics import classification_report_imbalanced\n",
        "from imblearn.combine import SMOTEENN\n",
        "from imblearn.ensemble import BalancedRandomForestClassifier\n",
        "# Print the imbalanced classification report\n",
        "print(classification_report_imbalanced(y_test, predictions))"
      ],
      "execution_count": null,
      "outputs": [
        {
          "output_type": "stream",
          "text": [
            "                   pre       rec       spe        f1       geo       iba       sup\n",
            "\n",
            "       -1.0       0.78      0.35      1.00      0.49      0.59      0.33       153\n",
            "        0.0       0.95      0.99      0.38      0.97      0.61      0.40      3110\n",
            "        1.0       0.92      0.41      1.00      0.57      0.64      0.39       112\n",
            "\n",
            "avg / total       0.94      0.95      0.43      0.94      0.61      0.39      3375\n",
            "\n"
          ],
          "name": "stdout"
        },
        {
          "output_type": "stream",
          "text": [
            "/usr/local/lib/python3.7/dist-packages/sklearn/externals/six.py:31: FutureWarning: The module is deprecated in version 0.21 and will be removed in version 0.23 since we've dropped support for Python 2.7. Please rely on the official version of six (https://pypi.org/project/six/).\n",
            "  \"(https://pypi.org/project/six/).\", FutureWarning)\n",
            "/usr/local/lib/python3.7/dist-packages/sklearn/utils/deprecation.py:144: FutureWarning: The sklearn.neighbors.base module is  deprecated in version 0.22 and will be removed in version 0.24. The corresponding classes / functions should instead be imported from sklearn.neighbors. Anything that cannot be imported from sklearn.neighbors is now part of the private API.\n",
            "  warnings.warn(message, FutureWarning)\n",
            "/usr/local/lib/python3.7/dist-packages/sklearn/utils/deprecation.py:144: FutureWarning: The sklearn.metrics.classification module is  deprecated in version 0.22 and will be removed in version 0.24. The corresponding classes / functions should instead be imported from sklearn.metrics. Anything that cannot be imported from sklearn.metrics is now part of the private API.\n",
            "  warnings.warn(message, FutureWarning)\n",
            "/usr/local/lib/python3.7/dist-packages/sklearn/utils/deprecation.py:144: FutureWarning: The sklearn.ensemble.bagging module is  deprecated in version 0.22 and will be removed in version 0.24. The corresponding classes / functions should instead be imported from sklearn.ensemble. Anything that cannot be imported from sklearn.ensemble is now part of the private API.\n",
            "  warnings.warn(message, FutureWarning)\n",
            "/usr/local/lib/python3.7/dist-packages/sklearn/utils/deprecation.py:144: FutureWarning: The sklearn.ensemble.base module is  deprecated in version 0.22 and will be removed in version 0.24. The corresponding classes / functions should instead be imported from sklearn.ensemble. Anything that cannot be imported from sklearn.ensemble is now part of the private API.\n",
            "  warnings.warn(message, FutureWarning)\n",
            "/usr/local/lib/python3.7/dist-packages/sklearn/utils/deprecation.py:144: FutureWarning: The sklearn.ensemble.forest module is  deprecated in version 0.22 and will be removed in version 0.24. The corresponding classes / functions should instead be imported from sklearn.ensemble. Anything that cannot be imported from sklearn.ensemble is now part of the private API.\n",
            "  warnings.warn(message, FutureWarning)\n",
            "/usr/local/lib/python3.7/dist-packages/sklearn/externals/joblib/__init__.py:15: FutureWarning: sklearn.externals.joblib is deprecated in 0.21 and will be removed in 0.23. Please import this functionality directly from joblib, which can be installed with: pip install joblib. If this warning is raised when loading pickled models, you may need to re-serialize those models with scikit-learn 0.21+.\n",
            "  warnings.warn(msg, category=FutureWarning)\n"
          ],
          "name": "stderr"
        }
      ]
    },
    {
      "cell_type": "code",
      "metadata": {
        "id": "axP1sFkPDo-7"
      },
      "source": [
        "import matplotlib.pyplot as plt\n",
        "from sklearn import datasets, ensemble\n",
        "from sklearn.inspection import permutation_importance\n",
        "from sklearn.metrics import mean_squared_error\n",
        "\n",
        "params = {'n_estimators': 3,\n",
        "          'max_depth': 4,\n",
        "          'min_samples_split': 5,\n",
        "          'learning_rate': 0.5,\n",
        "          'loss': 'ls'}\n",
        "\n",
        "\n"
      ],
      "execution_count": null,
      "outputs": []
    },
    {
      "cell_type": "code",
      "metadata": {
        "colab": {
          "base_uri": "https://localhost:8080/"
        },
        "id": "zkvabSNOIMUo",
        "outputId": "9f291cc0-3546-4e4d-dd6c-498e384fc09c"
      },
      "source": [
        "from sklearn.ensemble import GradientBoostingRegressor\n",
        "from sklearn.datasets import make_regression\n",
        "\n",
        "\n",
        "reg = GradientBoostingRegressor(random_state=0)\n",
        "\n",
        "reg.fit(X_train, y_train)\n",
        "\n",
        "reg.predict(X_test[1:2])\n",
        "\n",
        "reg.score(X_test, y_test)"
      ],
      "execution_count": null,
      "outputs": [
        {
          "output_type": "execute_result",
          "data": {
            "text/plain": [
              "0.4345219168598107"
            ]
          },
          "metadata": {
            "tags": []
          },
          "execution_count": 71
        }
      ]
    },
    {
      "cell_type": "code",
      "metadata": {
        "colab": {
          "base_uri": "https://localhost:8080/",
          "height": 298
        },
        "id": "dzHmbWc8MCke",
        "outputId": "7f3394bf-4997-4c5b-ceb3-7dad2898ede6"
      },
      "source": [
        "importances = gb_clf2.feature_importances_\n",
        "# List the top 10 most important features\n",
        "importances_sorted = sorted(zip(gb_clf2.feature_importances_, X.columns), reverse=True)\n",
        "importances_sorted[:10]\n",
        "# Visualize the features by importance\n",
        "importances_df = pd.DataFrame(sorted(zip(gb_clf2.feature_importances_, X.columns), reverse=True))\n",
        "\n",
        "importances_df.set_index(importances_df[1], inplace=True)\n",
        "importances_df.drop(columns=1, inplace=True)\n",
        "importances_df.rename(columns={0: 'Feature Importances'}, inplace=True)\n",
        "importances_sorted = importances_df.sort_values(by='Feature Importances')\n",
        "importances_sorted.plot(kind='barh', color='darkblue', title= 'Features Importances', legend=False)"
      ],
      "execution_count": null,
      "outputs": [
        {
          "output_type": "execute_result",
          "data": {
            "text/plain": [
              "<matplotlib.axes._subplots.AxesSubplot at 0x7f5a4e6104d0>"
            ]
          },
          "metadata": {
            "tags": []
          },
          "execution_count": 73
        },
        {
          "output_type": "display_data",
          "data": {
            "image/png": "[encoded data removed]",
            "text/plain": [
              "<Figure size 432x288 with 1 Axes>"
            ]
          },
          "metadata": {
            "tags": [],
            "needs_background": "light"
          }
        }
      ]
    },
    {
      "cell_type": "code",
      "metadata": {
        "colab": {
          "base_uri": "https://localhost:8080/",
          "height": 1000
        },
        "id": "WxhnA1Pb5WOq",
        "outputId": "9e3d7502-c9d7-4472-c277-b16077e81dee"
      },
      "source": [
        "importances_sorted"
      ],
      "execution_count": null,
      "outputs": [
        {
          "output_type": "execute_result",
          "data": {
            "text/html": [
              "<div>\n",
              "<style scoped>\n",
              "    .dataframe tbody tr th:only-of-type {\n",
              "        vertical-align: middle;\n",
              "    }\n",
              "\n",
              "    .dataframe tbody tr th {\n",
              "        vertical-align: top;\n",
              "    }\n",
              "\n",
              "    .dataframe thead th {\n",
              "        text-align: right;\n",
              "    }\n",
              "</style>\n",
              "<table border=\"1\" class=\"dataframe\">\n",
              "  <thead>\n",
              "    <tr style=\"text-align: right;\">\n",
              "      <th></th>\n",
              "      <th>Feature Importances</th>\n",
              "    </tr>\n",
              "    <tr>\n",
              "      <th>1</th>\n",
              "      <th></th>\n",
              "    </tr>\n",
              "  </thead>\n",
              "  <tbody>\n",
              "    <tr>\n",
              "      <th>coupon_x</th>\n",
              "      <td>0.002510</td>\n",
              "    </tr>\n",
              "    <tr>\n",
              "      <th>de</th>\n",
              "      <td>0.003370</td>\n",
              "    </tr>\n",
              "    <tr>\n",
              "      <th>maturity_year</th>\n",
              "      <td>0.004737</td>\n",
              "    </tr>\n",
              "    <tr>\n",
              "      <th>index_fred_macro_vix</th>\n",
              "      <td>0.004905</td>\n",
              "    </tr>\n",
              "    <tr>\n",
              "      <th>netmargin</th>\n",
              "      <td>0.005071</td>\n",
              "    </tr>\n",
              "    <tr>\n",
              "      <th>revenueusd</th>\n",
              "      <td>0.005162</td>\n",
              "    </tr>\n",
              "    <tr>\n",
              "      <th>divyield</th>\n",
              "      <td>0.005372</td>\n",
              "    </tr>\n",
              "    <tr>\n",
              "      <th>payoutratio</th>\n",
              "      <td>0.011274</td>\n",
              "    </tr>\n",
              "    <tr>\n",
              "      <th>ebitdamargin</th>\n",
              "      <td>0.011279</td>\n",
              "    </tr>\n",
              "    <tr>\n",
              "      <th>debtusd</th>\n",
              "      <td>0.012330</td>\n",
              "    </tr>\n",
              "    <tr>\n",
              "      <th>percent_fred_five_year_breakeven_inflation</th>\n",
              "      <td>0.015404</td>\n",
              "    </tr>\n",
              "    <tr>\n",
              "      <th>ncfdebt</th>\n",
              "      <td>0.018507</td>\n",
              "    </tr>\n",
              "    <tr>\n",
              "      <th>percent_fred_macro_yc_3_mo</th>\n",
              "      <td>0.018635</td>\n",
              "    </tr>\n",
              "    <tr>\n",
              "      <th>epsusd</th>\n",
              "      <td>0.019075</td>\n",
              "    </tr>\n",
              "    <tr>\n",
              "      <th>fcf</th>\n",
              "      <td>0.020575</td>\n",
              "    </tr>\n",
              "    <tr>\n",
              "      <th>currentratio</th>\n",
              "      <td>0.025054</td>\n",
              "    </tr>\n",
              "    <tr>\n",
              "      <th>netinccmnusd</th>\n",
              "      <td>0.025175</td>\n",
              "    </tr>\n",
              "    <tr>\n",
              "      <th>cashnequsd</th>\n",
              "      <td>0.025956</td>\n",
              "    </tr>\n",
              "    <tr>\n",
              "      <th>siccode_fundamentals</th>\n",
              "      <td>0.028684</td>\n",
              "    </tr>\n",
              "    <tr>\n",
              "      <th>ebitdausd</th>\n",
              "      <td>0.033686</td>\n",
              "    </tr>\n",
              "    <tr>\n",
              "      <th>evebitda</th>\n",
              "      <td>0.034208</td>\n",
              "    </tr>\n",
              "    <tr>\n",
              "      <th>marketcap</th>\n",
              "      <td>0.037108</td>\n",
              "    </tr>\n",
              "    <tr>\n",
              "      <th>pb</th>\n",
              "      <td>0.041283</td>\n",
              "    </tr>\n",
              "    <tr>\n",
              "      <th>equityusd</th>\n",
              "      <td>0.044139</td>\n",
              "    </tr>\n",
              "    <tr>\n",
              "      <th>workingcapital</th>\n",
              "      <td>0.046098</td>\n",
              "    </tr>\n",
              "    <tr>\n",
              "      <th>dollars_fred_crude_oil_prices</th>\n",
              "      <td>0.049972</td>\n",
              "    </tr>\n",
              "    <tr>\n",
              "      <th>percent_fred_macro_yc_30_yr</th>\n",
              "      <td>0.057727</td>\n",
              "    </tr>\n",
              "    <tr>\n",
              "      <th>percentchange_fred_macro_gdp</th>\n",
              "      <td>0.059987</td>\n",
              "    </tr>\n",
              "    <tr>\n",
              "      <th>ev</th>\n",
              "      <td>0.062324</td>\n",
              "    </tr>\n",
              "    <tr>\n",
              "      <th>liabilities</th>\n",
              "      <td>0.067017</td>\n",
              "    </tr>\n",
              "    <tr>\n",
              "      <th>close_edi</th>\n",
              "      <td>0.086955</td>\n",
              "    </tr>\n",
              "    <tr>\n",
              "      <th>pe</th>\n",
              "      <td>0.116419</td>\n",
              "    </tr>\n",
              "  </tbody>\n",
              "</table>\n",
              "</div>"
            ],
            "text/plain": [
              "                                            Feature Importances\n",
              "1                                                              \n",
              "coupon_x                                               0.002510\n",
              "de                                                     0.003370\n",
              "maturity_year                                          0.004737\n",
              "index_fred_macro_vix                                   0.004905\n",
              "netmargin                                              0.005071\n",
              "revenueusd                                             0.005162\n",
              "divyield                                               0.005372\n",
              "payoutratio                                            0.011274\n",
              "ebitdamargin                                           0.011279\n",
              "debtusd                                                0.012330\n",
              "percent_fred_five_year_breakeven_inflation             0.015404\n",
              "ncfdebt                                                0.018507\n",
              "percent_fred_macro_yc_3_mo                             0.018635\n",
              "epsusd                                                 0.019075\n",
              "fcf                                                    0.020575\n",
              "currentratio                                           0.025054\n",
              "netinccmnusd                                           0.025175\n",
              "cashnequsd                                             0.025956\n",
              "siccode_fundamentals                                   0.028684\n",
              "ebitdausd                                              0.033686\n",
              "evebitda                                               0.034208\n",
              "marketcap                                              0.037108\n",
              "pb                                                     0.041283\n",
              "equityusd                                              0.044139\n",
              "workingcapital                                         0.046098\n",
              "dollars_fred_crude_oil_prices                          0.049972\n",
              "percent_fred_macro_yc_30_yr                            0.057727\n",
              "percentchange_fred_macro_gdp                           0.059987\n",
              "ev                                                     0.062324\n",
              "liabilities                                            0.067017\n",
              "close_edi                                              0.086955\n",
              "pe                                                     0.116419"
            ]
          },
          "metadata": {
            "tags": []
          },
          "execution_count": 85
        }
      ]
    },
    {
      "cell_type": "code",
      "metadata": {
        "id": "WAPwQtQP1zdK"
      },
      "source": [
        "importances_sorted.to_csv('/content/drive/MyDrive/Project 2/Data/Data tables/gboost_importance.csv')"
      ],
      "execution_count": null,
      "outputs": []
    },
    {
      "cell_type": "code",
      "metadata": {
        "colab": {
          "base_uri": "https://localhost:8080/"
        },
        "id": "Kp3Mt-OJSOES",
        "outputId": "e01778bf-de6e-43b0-b354-c92fa288543e"
      },
      "source": [
        " # Calculating the accuracy score\n",
        "acc_score = accuracy_score(y_test, predictions)\n",
        "print(f\"Accuracy Score : {acc_score}\")"
      ],
      "execution_count": null,
      "outputs": [
        {
          "output_type": "stream",
          "text": [
            "Accuracy Score : 0.9454814814814815\n"
          ],
          "name": "stdout"
        }
      ]
    },
    {
      "cell_type": "code",
      "metadata": {
        "id": "bb2j_x67TeTz"
      },
      "source": [
        "from numpy import loadtxt\n",
        "from xgboost import XGBClassifier\n",
        "from xgboost import plot_tree\n",
        "import matplotlib.pyplot as plt"
      ],
      "execution_count": null,
      "outputs": []
    },
    {
      "cell_type": "code",
      "metadata": {
        "colab": {
          "base_uri": "https://localhost:8080/",
          "height": 119
        },
        "id": "Z50xgUVgToaM",
        "outputId": "9a8a9e5d-fdb4-4018-f692-05efe58a3ea3"
      },
      "source": [
        "model = XGBClassifier()\n",
        "model.fit(X_train, y_train)\n",
        "\n",
        "plot_tree(model)\n",
        "plt.show()"
      ],
      "execution_count": null,
      "outputs": [
        {
          "output_type": "display_data",
          "data": {
            "image/png": "[encoded data removed]",
            "text/plain": [
              "<Figure size 432x288 with 1 Axes>"
            ]
          },
          "metadata": {
            "tags": [],
            "needs_background": "light"
          }
        }
      ]
    },
    {
      "cell_type": "code",
      "metadata": {
        "colab": {
          "base_uri": "https://localhost:8080/",
          "height": 133
        },
        "id": "6wSyfMh_UIbk",
        "outputId": "8aa2e6d5-511f-49dd-bfc7-d90a21deb191"
      },
      "source": [
        "\t\n",
        "plot_tree(model, num_trees=0, rankdir='LR')"
      ],
      "execution_count": null,
      "outputs": [
        {
          "output_type": "execute_result",
          "data": {
            "text/plain": [
              "<matplotlib.axes._subplots.AxesSubplot at 0x7f5a4d36d110>"
            ]
          },
          "metadata": {
            "tags": []
          },
          "execution_count": 80
        },
        {
          "output_type": "display_data",
          "data": {
            "image/png": "[encoded data removed]",
            "text/plain": [
              "<Figure size 432x288 with 1 Axes>"
            ]
          },
          "metadata": {
            "tags": [],
            "needs_background": "light"
          }
        }
      ]
    },
    {
      "cell_type": "code",
      "metadata": {
        "id": "OcKbOYAdegMv"
      },
      "source": [
        "feature_df = df_final[x_var_list]\n",
        "feature_df.to_csv('/content/drive/MyDrive/Project 2/Data/Data tables/feature_df.csv')"
      ],
      "execution_count": null,
      "outputs": []
    },
    {
      "cell_type": "code",
      "metadata": {
        "id": "n6KobIIf9Jbg"
      },
      "source": [
        ""
      ],
      "execution_count": null,
      "outputs": []
    },
    {
      "cell_type": "markdown",
      "metadata": {
        "id": "HKZRxLZUYzT-"
      },
      "source": [
        "column = ['rank']\n",
        "y_test = pd.DataFrame(y_test)\n",
        "y_test.columns = column \n",
        "y_test['rank'].unique()\n",
        "\n",
        "array([10.,  9.,  6.,  7.,  8., 16., 19.,  4., 13., 12.,  5.,  3., 20.,\n",
        "       11., 18., 14., 15., 17., 21.])"
      ]
    }
  ]
}